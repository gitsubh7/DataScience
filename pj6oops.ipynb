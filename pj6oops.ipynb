{
 "cells": [
  {
   "cell_type": "code",
   "execution_count": 2,
   "id": "716d6c3e-0767-4a34-8e99-5515a20d854e",
   "metadata": {},
   "outputs": [
    {
     "data": {
      "text/plain": [
       "'\\nObject − Objects have states and behaviors. Example: A dog has states - color, name, breed as well as behaviors – \\nwagging the tail, barking, eating. An object is an instance of a class. Class − \\nA class can be defined as a template/blueprint that describes the behavior/state that the object of its type support.'"
      ]
     },
     "execution_count": 2,
     "metadata": {},
     "output_type": "execute_result"
    }
   ],
   "source": [
    "#Q1. Explain Class and Object with respect to Object-Oriented Programming. Give a suitable example.\n",
    "'''\n",
    "Object − Objects have states and behaviors. Example: A dog has states - color, name, breed as well as behaviors – \n",
    "wagging the tail, barking, eating. An object is an instance of a class. Class − \n",
    "A class can be defined as a template/blueprint that describes the behavior/state that the object of its type support.'''"
   ]
  },
  {
   "cell_type": "code",
   "execution_count": 3,
   "id": "84f185f7-1a42-4fa3-b41a-83ab25997d72",
   "metadata": {},
   "outputs": [],
   "source": [
    "#Q2. Name the four pillars of OOPs.\n",
    "#Abstraction.\n",
    "#Encapsulation.\n",
    "#Inheritance.\n",
    "#Polymorphism."
   ]
  },
  {
   "cell_type": "code",
   "execution_count": 5,
   "id": "39dd13e0-d04b-4781-af21-9cb9468c2b74",
   "metadata": {},
   "outputs": [],
   "source": [
    "#Q3. Explain why the __init__() function is used. Give a suitable example.\n",
    "'''The task of constructors is to initialize(assign values) to the data members of the class \n",
    "when an object of the class is created. '''\n",
    "class pwskills2:\n",
    "    def __init__(subh,phone_number,email_id,student_id):\n",
    "        subh.phone_number = phone_number\n",
    "        subh.email_id=email_id\n",
    "        subh.student_id= student_id\n",
    "        \n",
    "    def return_student_details(subh):\n",
    "        return subh.phone_number, subh.email_id,subh.student_id"
   ]
  },
  {
   "cell_type": "code",
   "execution_count": 6,
   "id": "c9ca044d-185c-411c-8df4-f777b894e322",
   "metadata": {},
   "outputs": [
    {
     "data": {
      "text/plain": [
       "'The self variable is used to represent the instance of the class which is often used in object-oriented programming.\\nIt works as a reference to the object.\\nPython uses the self parameter to refer to instance attributes and methods of the class'"
      ]
     },
     "execution_count": 6,
     "metadata": {},
     "output_type": "execute_result"
    }
   ],
   "source": [
    "#Q4. Why self is used in OOPs?\n",
    "'''The self variable is used to represent the instance of the class which is often used in object-oriented programming.\n",
    "It works as a reference to the object.\n",
    "Python uses the self parameter to refer to instance attributes and methods of the class'''\n"
   ]
  },
  {
   "cell_type": "code",
   "execution_count": null,
   "id": "b44e7df4-da59-4cbc-8858-ada927a6a497",
   "metadata": {},
   "outputs": [],
   "source": [
    "#Q5 What is inheritance? Give an example for each type of inheritance.\n",
    "'''\n",
    "Inheritance is defined as the mechanism of inheriting the properties of the base class to the child class.'''\n",
    "#SINGLE\n",
    "#MULTIPLE\n",
    "#MULTILEVEL\n",
    "#"
   ]
  }
 ],
 "metadata": {
  "kernelspec": {
   "display_name": "Python 3 (ipykernel)",
   "language": "python",
   "name": "python3"
  },
  "language_info": {
   "codemirror_mode": {
    "name": "ipython",
    "version": 3
   },
   "file_extension": ".py",
   "mimetype": "text/x-python",
   "name": "python",
   "nbconvert_exporter": "python",
   "pygments_lexer": "ipython3",
   "version": "3.10.8"
  }
 },
 "nbformat": 4,
 "nbformat_minor": 5
}

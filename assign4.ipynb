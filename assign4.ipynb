{
 "cells": [
  {
   "cell_type": "code",
   "execution_count": 14,
   "id": "6f92ea12-889a-4385-bae0-ee4aeb4c9199",
   "metadata": {},
   "outputs": [
    {
     "name": "stdout",
     "output_type": "stream",
     "text": [
      "[1, 3, 5, 7, 9, 11, 13, 15, 17, 19, 21, 23, 25]\n"
     ]
    }
   ],
   "source": [
    "#Q1. Which keyword is used to create a function? Create a function to return a list of odd numbers in the range of 1 to 25.\n",
    "# the keyword def is used to create a function\n",
    "\n",
    "def lst():\n",
    "    l=[]\n",
    "    for i in range(1,26):\n",
    "        if i%2!=0:\n",
    "            l.append(i)\n",
    "    print(l)\n",
    "lst()"
   ]
  },
  {
   "cell_type": "code",
   "execution_count": 17,
   "id": "d10cd807-6bb8-43d5-b7f6-816d190f1c16",
   "metadata": {},
   "outputs": [
    {
     "name": "stdout",
     "output_type": "stream",
     "text": [
      "{'a': 34, 'b': 23, 'c': [1, 2, 3, 4], 'd': ('sudh', 'pwskills')}\n",
      "((1, 2, 3, 4), 'sudh')\n"
     ]
    }
   ],
   "source": [
    "#Q2. Why *args and **kwargs is used in some functions? Create a function each for *args and **kwargs to demonstrate their use.\n",
    "#  * args is used to take n number of inputs as arguments and **kwargs is used to take n number of key value pair as input arguments\n",
    "def test10(*args, a):\n",
    "    return args,a\n",
    "def test12(**kwargs):\n",
    "    return kwargs\n",
    "a=test12(a=34,b=23,c=[1,2,3,4],d=('sudh','pwskills'))\n",
    "b=test10(1,2,3,4,a='sudh')\n",
    "print(a)\n",
    "print(b)"
   ]
  },
  {
   "cell_type": "code",
   "execution_count": 20,
   "id": "eccea535-5218-4d84-8fe4-1e671655ba26",
   "metadata": {},
   "outputs": [
    {
     "name": "stdout",
     "output_type": "stream",
     "text": [
      "2\n",
      "4\n",
      "6\n",
      "8\n",
      "10\n"
     ]
    }
   ],
   "source": [
    "'''Q3  What is an iterator in python? Name the method used to initialise the iterator object and the method\n",
    "used for iteration. Use these methods to print the first five elements of the given list'''\n",
    "#An iterator is an object that contains a countable number of values.\n",
    "#An iterator is an object that can be iterated upon, meaning that you can traverse through all the values\n",
    "l=[2, 4, 6, 8, 10, 12, 14, 16,18, 20]\n",
    "for i in range(6):\n",
    "    if i<5:\n",
    "        print(l[i])"
   ]
  },
  {
   "cell_type": "code",
   "execution_count": 23,
   "id": "d8954b7f-3990-4c36-83d2-b7fa67e6cebe",
   "metadata": {},
   "outputs": [
    {
     "data": {
      "text/plain": [
       "<generator object test_fib at 0x7f7eec631f50>"
      ]
     },
     "execution_count": 23,
     "metadata": {},
     "output_type": "execute_result"
    }
   ],
   "source": [
    "#Q4. What is a generator function in python? Why yield keyword is used? Give an example of a generator function.\n",
    "#Python Generator functions allow you to declare a function that behaves likes an iterator,\n",
    "#allowing programmers to make an iterator in a fast, easy, and clean way.\n",
    "#The yield keyword in Python controls the flow of a generator function. This is similar to a return statement used for returning values in Python\n",
    "\n",
    "def test_fib(n):\n",
    "    a,b=0,1\n",
    "    for i in range(n):\n",
    "        yield a\n",
    "        a,b=b,a+b\n",
    "    \n",
    "test_fib(10)"
   ]
  },
  {
   "cell_type": "code",
   "execution_count": 24,
   "id": "0bc1bf80-370f-41a3-ac05-d0bd4c22b99a",
   "metadata": {},
   "outputs": [
    {
     "name": "stdout",
     "output_type": "stream",
     "text": [
      "0\n",
      "1\n",
      "1\n",
      "2\n",
      "3\n",
      "5\n",
      "8\n",
      "13\n",
      "21\n",
      "34\n"
     ]
    }
   ],
   "source": [
    "for i in test_fib(10):\n",
    "    print(i)"
   ]
  },
  {
   "cell_type": "code",
   "execution_count": null,
   "id": "c7ba4a04-5ee3-420a-bd8f-2895482fc243",
   "metadata": {},
   "outputs": [],
   "source": []
  }
 ],
 "metadata": {
  "kernelspec": {
   "display_name": "Python 3 (ipykernel)",
   "language": "python",
   "name": "python3"
  },
  "language_info": {
   "codemirror_mode": {
    "name": "ipython",
    "version": 3
   },
   "file_extension": ".py",
   "mimetype": "text/x-python",
   "name": "python",
   "nbconvert_exporter": "python",
   "pygments_lexer": "ipython3",
   "version": "3.10.8"
  }
 },
 "nbformat": 4,
 "nbformat_minor": 5
}

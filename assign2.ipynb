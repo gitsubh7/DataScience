{
 "cells": [
  {
   "cell_type": "code",
   "execution_count": 6,
   "id": "7c4998b8-f4ba-420d-90cb-b535caf95eba",
   "metadata": {},
   "outputs": [
    {
     "name": "stdin",
     "output_type": "stream",
     "text": [
      "Enter the Marks of the Student 99\n"
     ]
    },
    {
     "name": "stdout",
     "output_type": "stream",
     "text": [
      "Congratulations , you have recieved Grade A\n"
     ]
    }
   ],
   "source": [
    "#1\n",
    "m=int(input(\"Enter the Marks of the Student\"))\n",
    "if m>90 and m<=100:\n",
    "    print(\"Congratulations , you have recieved Grade A\")\n",
    "elif m>80 and m<=90:\n",
    "    print(\"You have recieved Grade B\")\n",
    "elif m>=60 and m<=80:\n",
    "    print(\"You have recieved Grade C\")\n",
    "elif m>100:\n",
    "    print(\"Marks entered are out of range, please enter a value from 0-100\")\n",
    "else:\n",
    "    print(\"You have recieved Grade D , you can do better!\")"
   ]
  },
  {
   "cell_type": "code",
   "execution_count": 13,
   "id": "450e31fd-0ec2-437e-b1d9-6716b2b4462f",
   "metadata": {},
   "outputs": [
    {
     "name": "stdin",
     "output_type": "stream",
     "text": [
      "Enter the cost price of the bike 50000\n"
     ]
    },
    {
     "name": "stdout",
     "output_type": "stream",
     "text": [
      "The Road tax to be paid is 2500.0\n"
     ]
    }
   ],
   "source": [
    "#2\n",
    "cp=int(input(\"Enter the cost price of the bike\"))\n",
    "if cp>100000:\n",
    "    print(\"The Road tax to be paid is {}\".format(cp*0.15))\n",
    "elif cp>50000 and cp<=100000:\n",
    "    print(\"The Road tax to be paid is {}\".format(cp*0.1))\n",
    "elif cp<=50000:\n",
    "    print(\"The Road tax to be paid is {}\".format(cp*0.05))"
   ]
  },
  {
   "cell_type": "code",
   "execution_count": 23,
   "id": "18c3e6e0-0b42-42f0-886e-3d91ebc30a3e",
   "metadata": {},
   "outputs": [
    {
     "name": "stdin",
     "output_type": "stream",
     "text": [
      "Enter the City delhi\n"
     ]
    },
    {
     "name": "stdout",
     "output_type": "stream",
     "text": [
      "The monument associated with DELHI is RedFort\n"
     ]
    }
   ],
   "source": [
    "#3\n",
    "city=input(\"Enter the City\")\n",
    "city=city.upper()\n",
    "if city==\"DELHI\":\n",
    "\n",
    "    print(\"The monument associated with {} is RedFort\".format(city))\n",
    "elif city==\"AGRA\":\n",
    "    print(\"The monument associated with {} is Taj Mahal\".format(city))\n",
    "elif city==\"JAIPUR\":\n",
    "    print(\"The monument associated with {} is Jal Mahal\".format(city))\n"
   ]
  },
  {
   "cell_type": "code",
   "execution_count": null,
   "id": "bf5f5ba9-23ab-48da-90c1-a702b8191603",
   "metadata": {},
   "outputs": [],
   "source": [
    "#4 check how many times a number is divisible by 3  before it is less than or equal to 3\n",
    "n=int(input(\"Enter the number\"))\n",
    "count=0\n",
    "sum=0\n",
    "while n:\n",
    "    rem=n%10\n",
    "    sum+=rem\n",
    "    n=n//10\n",
    "print(sum)\n",
    "if n%3 == 0 and sum%3==0:\n",
    "    count+=1\n",
    "print(count)"
   ]
  },
  {
   "cell_type": "code",
   "execution_count": null,
   "id": "bf5f756f-8364-4fcd-a27e-fc09f686a69f",
   "metadata": {},
   "outputs": [],
   "source": [
    "#5  WHEN AND WHY TO USE WHILE LOOP IN PYTHON with example\n",
    "'''Python while loop is used to run a block code until a certain condition is met.\n",
    "\n",
    "The syntax of while loop is:\n",
    "\n",
    "\n",
    "while(condition):\n",
    "statement\n",
    "\n",
    "\n",
    "    '''\n",
    "    \n",
    "# program to calculate the sum of numbers\n",
    "# until the user enters zero\n",
    "\n",
    "'''total = 0\n",
    "\n",
    "number = int(input('Enter a number: '))\n",
    "\n",
    "# add numbers until number is zero\n",
    "while number != 0:\n",
    "    total += number    # total = total + number\n",
    "    \n",
    "    # take integer input again\n",
    "    number = int(input('Enter a number: '))\n",
    "    \n",
    "\n",
    "print('total =', total)'''\n"
   ]
  },
  {
   "cell_type": "code",
   "execution_count": 32,
   "id": "e9f5b2b1-350f-4e9c-942d-0abac8e8adf1",
   "metadata": {},
   "outputs": [
    {
     "name": "stdout",
     "output_type": "stream",
     "text": [
      "1 \n",
      "1 2 \n",
      "1 2 3 \n",
      "1 2 3 4 \n",
      "1 2 3 4 5 \n"
     ]
    }
   ],
   "source": [
    "#6.1 use nested  while loop to print 3 different patterns\n",
    "i=1\n",
    "while i<=5:\n",
    "    j=1\n",
    "    while j<=i:\n",
    "        print(j,end=\" \")\n",
    "        j=j+1\n",
    "    print(\"\")\n",
    "    i=i+1"
   ]
  },
  {
   "cell_type": "code",
   "execution_count": 34,
   "id": "ba605809-ec96-44c9-ad7e-8ab1e2855dcb",
   "metadata": {},
   "outputs": [
    {
     "name": "stdout",
     "output_type": "stream",
     "text": [
      "0 1 2 3 \n",
      "0 2 4 6 \n",
      "0 3 6 9 \n",
      "0 4 8 12 \n"
     ]
    }
   ],
   "source": [
    "#6.2\n",
    "i = 1\n",
    "while i <= 4 :\n",
    "    j = 0\n",
    "    while  j <= 3 :\n",
    "        print(i*j, end=\" \")\n",
    "        j += 1\n",
    "    print()\n",
    "    i += 1"
   ]
  },
  {
   "cell_type": "code",
   "execution_count": 33,
   "id": "ed358e5b-c9c5-4474-859a-cb69672f3249",
   "metadata": {},
   "outputs": [
    {
     "name": "stdout",
     "output_type": "stream",
     "text": [
      "1 \n",
      "3 3 \n",
      "5 5 5 \n",
      "7 7 7 7 \n",
      "9 9 9 9 9 \n"
     ]
    }
   ],
   "source": [
    "#6.3\n",
    "rows = 5\n",
    "i = 1\n",
    "while i <= rows:\n",
    "    j = 1\n",
    "    while j <= i:\n",
    "        print((i * 2 - 1), end=\" \")\n",
    "        j = j + 1\n",
    "    i = i + 1\n",
    "    print('')\n",
    "    \n"
   ]
  },
  {
   "cell_type": "code",
   "execution_count": 30,
   "id": "f72ba115-eb22-4725-8bf7-23fccce7f088",
   "metadata": {},
   "outputs": [
    {
     "name": "stdout",
     "output_type": "stream",
     "text": [
      "10\n",
      "9\n",
      "8\n",
      "7\n",
      "6\n",
      "5\n",
      "4\n",
      "3\n",
      "2\n",
      "1\n"
     ]
    }
   ],
   "source": [
    "#7\n",
    "n=10\n",
    "while n>=1:\n",
    "    print(n)\n",
    "    n=n-1\n",
    "    "
   ]
  },
  {
   "cell_type": "code",
   "execution_count": 31,
   "id": "d74b099b-8312-494d-81e6-5fc779447b02",
   "metadata": {},
   "outputs": [
    {
     "name": "stdout",
     "output_type": "stream",
     "text": [
      "1\n",
      "2\n",
      "3\n",
      "4\n",
      "5\n",
      "6\n",
      "7\n",
      "8\n",
      "9\n",
      "10\n"
     ]
    }
   ],
   "source": [
    "#8\n",
    "n=1\n",
    "while n<11:\n",
    "    print(n)\n",
    "    n+=1\n",
    "    "
   ]
  },
  {
   "cell_type": "code",
   "execution_count": null,
   "id": "2116d580-4d32-4b89-a3bb-66e6e0b0e5d2",
   "metadata": {},
   "outputs": [],
   "source": []
  }
 ],
 "metadata": {
  "kernelspec": {
   "display_name": "Python 3 (ipykernel)",
   "language": "python",
   "name": "python3"
  },
  "language_info": {
   "codemirror_mode": {
    "name": "ipython",
    "version": 3
   },
   "file_extension": ".py",
   "mimetype": "text/x-python",
   "name": "python",
   "nbconvert_exporter": "python",
   "pygments_lexer": "ipython3",
   "version": "3.10.8"
  }
 },
 "nbformat": 4,
 "nbformat_minor": 5
}

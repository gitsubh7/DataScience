{
 "cells": [
  {
   "cell_type": "code",
   "execution_count": 1,
   "id": "602e60d8-8cfa-4ded-b402-d4a27f88a151",
   "metadata": {},
   "outputs": [],
   "source": [
    "n=3\n",
    "p=2"
   ]
  },
  {
   "cell_type": "code",
   "execution_count": 2,
   "id": "70923642-2bdc-40ee-aa73-9953554da1e5",
   "metadata": {},
   "outputs": [],
   "source": [
    "def test(n,p):\n",
    "    return n**p"
   ]
  },
  {
   "cell_type": "code",
   "execution_count": 3,
   "id": "d86025c8-ff97-4bdc-90ff-aa20c0930acf",
   "metadata": {},
   "outputs": [
    {
     "data": {
      "text/plain": [
       "9"
      ]
     },
     "execution_count": 3,
     "metadata": {},
     "output_type": "execute_result"
    }
   ],
   "source": [
    "test(3,2)"
   ]
  },
  {
   "cell_type": "code",
   "execution_count": 4,
   "id": "0257cc29-4842-4fea-993c-6bb8642cffff",
   "metadata": {},
   "outputs": [
    {
     "data": {
      "text/plain": [
       "6561"
      ]
     },
     "execution_count": 4,
     "metadata": {},
     "output_type": "execute_result"
    }
   ],
   "source": [
    "test(9,4)"
   ]
  },
  {
   "cell_type": "code",
   "execution_count": 6,
   "id": "6b00e381-3035-41b2-9dc4-a7d761e1dde0",
   "metadata": {},
   "outputs": [],
   "source": [
    "a=lambda n,p : n**p"
   ]
  },
  {
   "cell_type": "code",
   "execution_count": 8,
   "id": "6ab74b37-2891-4c54-9987-8615e6968edf",
   "metadata": {},
   "outputs": [
    {
     "data": {
      "text/plain": [
       "8"
      ]
     },
     "execution_count": 8,
     "metadata": {},
     "output_type": "execute_result"
    }
   ],
   "source": [
    "a(2,3)"
   ]
  },
  {
   "cell_type": "code",
   "execution_count": 11,
   "id": "f409882e-deed-479e-8c38-43d157f9383a",
   "metadata": {},
   "outputs": [],
   "source": [
    "add=lambda x,y: x+y  # one line function\n",
    "#sort hand function"
   ]
  },
  {
   "cell_type": "code",
   "execution_count": 10,
   "id": "c573a0f3-7805-42d9-af7d-8c9d025f60c0",
   "metadata": {},
   "outputs": [
    {
     "data": {
      "text/plain": [
       "5"
      ]
     },
     "execution_count": 10,
     "metadata": {},
     "output_type": "execute_result"
    }
   ],
   "source": [
    "add(2,3)"
   ]
  },
  {
   "cell_type": "code",
   "execution_count": 12,
   "id": "47632c1e-3930-4d7f-b2a7-2b2541d75e76",
   "metadata": {},
   "outputs": [],
   "source": [
    "c_to_f=lambda c: (9/5)*c+32"
   ]
  },
  {
   "cell_type": "code",
   "execution_count": 13,
   "id": "20e2ed3a-77ee-4955-8629-c4d085341ef9",
   "metadata": {},
   "outputs": [
    {
     "data": {
      "text/plain": [
       "51.8"
      ]
     },
     "execution_count": 13,
     "metadata": {},
     "output_type": "execute_result"
    }
   ],
   "source": [
    "c_to_f(11)"
   ]
  },
  {
   "cell_type": "code",
   "execution_count": 14,
   "id": "6db9a80e-1d74-4761-a807-9335c8d869cb",
   "metadata": {},
   "outputs": [],
   "source": [
    "max_two = lambda x,y: x if x>y else y\n"
   ]
  },
  {
   "cell_type": "code",
   "execution_count": 15,
   "id": "433bfafc-378d-4a47-a589-47a6bb12cb52",
   "metadata": {},
   "outputs": [
    {
     "data": {
      "text/plain": [
       "56"
      ]
     },
     "execution_count": 15,
     "metadata": {},
     "output_type": "execute_result"
    }
   ],
   "source": [
    "max_two(4,56)"
   ]
  },
  {
   "cell_type": "code",
   "execution_count": 16,
   "id": "218145e6-d41d-4460-a774-0a47f60f177b",
   "metadata": {},
   "outputs": [],
   "source": [
    "s=\"pwskills\""
   ]
  },
  {
   "cell_type": "code",
   "execution_count": 17,
   "id": "2ace0e37-7905-495c-a37d-19c96e08617f",
   "metadata": {},
   "outputs": [],
   "source": [
    "len_str= lambda s: len(s)"
   ]
  },
  {
   "cell_type": "code",
   "execution_count": 19,
   "id": "9473dc44-6da6-499b-8b48-1b7982ec295f",
   "metadata": {},
   "outputs": [
    {
     "data": {
      "text/plain": [
       "8"
      ]
     },
     "execution_count": 19,
     "metadata": {},
     "output_type": "execute_result"
    }
   ],
   "source": [
    "len_str(s)"
   ]
  },
  {
   "cell_type": "code",
   "execution_count": 20,
   "id": "fcc3d20c-c3f8-44c9-ab2c-b5e3bd4b3e56",
   "metadata": {},
   "outputs": [],
   "source": [
    "l=[1,2,3,4,5]"
   ]
  },
  {
   "cell_type": "code",
   "execution_count": 21,
   "id": "a19068b2-9f8c-4430-8eed-728ccd6ed57c",
   "metadata": {},
   "outputs": [],
   "source": [
    "def test(l):\n",
    "    l1=[]\n",
    "    for i in l:\n",
    "        l1.append(i**2)\n",
    "    return l1"
   ]
  },
  {
   "cell_type": "code",
   "execution_count": 22,
   "id": "6c93de6d-ce4a-4257-903b-8c07abaacb87",
   "metadata": {},
   "outputs": [
    {
     "data": {
      "text/plain": [
       "[1, 4, 9, 16, 25]"
      ]
     },
     "execution_count": 22,
     "metadata": {},
     "output_type": "execute_result"
    }
   ],
   "source": [
    "test(l)"
   ]
  },
  {
   "cell_type": "code",
   "execution_count": 23,
   "id": "f9be58b0-2c5f-4557-b7ea-d123bfe44555",
   "metadata": {},
   "outputs": [],
   "source": [
    "def sq(x):\n",
    "    return x**2"
   ]
  },
  {
   "cell_type": "code",
   "execution_count": 36,
   "id": "47018796-c46d-4d2a-a43d-d38fd8c277f4",
   "metadata": {},
   "outputs": [
    {
     "data": {
      "text/plain": [
       "<map at 0x7eff37d633d0>"
      ]
     },
     "execution_count": 36,
     "metadata": {},
     "output_type": "execute_result"
    }
   ],
   "source": [
    "#MAP FUNCTIONS\n",
    "map(sq,l)"
   ]
  },
  {
   "cell_type": "code",
   "execution_count": 28,
   "id": "bd41f397-400b-42c2-8b35-f544e3898e90",
   "metadata": {},
   "outputs": [
    {
     "data": {
      "text/plain": [
       "[1, 4, 9, 16, 25]"
      ]
     },
     "execution_count": 28,
     "metadata": {},
     "output_type": "execute_result"
    }
   ],
   "source": [
    "list(map(lambda x :  x**2,l))"
   ]
  },
  {
   "cell_type": "code",
   "execution_count": 29,
   "id": "0fb57f54-a0e4-4372-b205-c45c96a7ac2d",
   "metadata": {},
   "outputs": [
    {
     "data": {
      "text/plain": [
       "[11, 12, 13, 14, 15]"
      ]
     },
     "execution_count": 29,
     "metadata": {},
     "output_type": "execute_result"
    }
   ],
   "source": [
    "list(map(lambda x :  x+10,l))"
   ]
  },
  {
   "cell_type": "code",
   "execution_count": 30,
   "id": "18859fb4-7f51-496f-939c-f58b6b1f68d8",
   "metadata": {},
   "outputs": [
    {
     "data": {
      "text/plain": [
       "['1', '2', '3', '4', '5']"
      ]
     },
     "execution_count": 30,
     "metadata": {},
     "output_type": "execute_result"
    }
   ],
   "source": [
    "list(map(lambda x :  str(x),l))"
   ]
  },
  {
   "cell_type": "code",
   "execution_count": 31,
   "id": "67cc5d2f-9109-46cd-bd3a-cee4c704959e",
   "metadata": {},
   "outputs": [
    {
     "data": {
      "text/plain": [
       "[7, 9, 11, 13, 15]"
      ]
     },
     "execution_count": 31,
     "metadata": {},
     "output_type": "execute_result"
    }
   ],
   "source": [
    "l1=[1,2,3,4,5]\n",
    "l2=[6,7,8,9,10]\n",
    "list(map(lambda x,y:x+y,l1,l2))"
   ]
  },
  {
   "cell_type": "code",
   "execution_count": 32,
   "id": "9197dcfc-4d60-4c40-bfbf-a3dff3d7efbb",
   "metadata": {},
   "outputs": [],
   "source": [
    "f=lambda x,y: x+y"
   ]
  },
  {
   "cell_type": "code",
   "execution_count": 33,
   "id": "84d2da0e-dbb6-4f48-ac1b-829ced12d91d",
   "metadata": {},
   "outputs": [
    {
     "data": {
      "text/plain": [
       "[7, 9, 11, 13, 15]"
      ]
     },
     "execution_count": 33,
     "metadata": {},
     "output_type": "execute_result"
    }
   ],
   "source": [
    "list(map(f,l1,l2))"
   ]
  },
  {
   "cell_type": "code",
   "execution_count": 35,
   "id": "65575267-9b8a-4adf-84a5-1da15d79ebc1",
   "metadata": {},
   "outputs": [
    {
     "data": {
      "text/plain": [
       "['P', 'W', 'S', 'K', 'I', 'L', 'L', 'S']"
      ]
     },
     "execution_count": 35,
     "metadata": {},
     "output_type": "execute_result"
    }
   ],
   "source": [
    "list(map(lambda x: x.upper(),s))"
   ]
  },
  {
   "cell_type": "code",
   "execution_count": 40,
   "id": "f8c610ef-1a8a-4736-b098-ae35713e8acb",
   "metadata": {},
   "outputs": [],
   "source": [
    "#REDUCE FUNCTION"
   ]
  },
  {
   "cell_type": "code",
   "execution_count": 42,
   "id": "40a4da33-fe47-4181-8279-ad3c8aa746e1",
   "metadata": {},
   "outputs": [],
   "source": [
    "from functools import reduce\n",
    "# will keep on reducing/narrowing "
   ]
  },
  {
   "cell_type": "code",
   "execution_count": 39,
   "id": "15f7de23-4ed9-42af-89ad-f1d64aac3756",
   "metadata": {},
   "outputs": [],
   "source": [
    "l=[1,2,3,4,5,4]   "
   ]
  },
  {
   "cell_type": "code",
   "execution_count": 41,
   "id": "1d4c1cec-b6c1-4d7f-bade-06ed1705c829",
   "metadata": {},
   "outputs": [
    {
     "data": {
      "text/plain": [
       "19"
      ]
     },
     "execution_count": 41,
     "metadata": {},
     "output_type": "execute_result"
    }
   ],
   "source": [
    "reduce(lambda x,y : x+y,l)"
   ]
  },
  {
   "cell_type": "code",
   "execution_count": 43,
   "id": "868ac9d4-9a8f-4382-a70d-5c193f9ba683",
   "metadata": {},
   "outputs": [],
   "source": [
    "def add(x,y):\n",
    "    return x+y"
   ]
  },
  {
   "cell_type": "code",
   "execution_count": 45,
   "id": "992e3324-0ed0-4eaa-9f07-7753d7997a16",
   "metadata": {},
   "outputs": [
    {
     "data": {
      "text/plain": [
       "19"
      ]
     },
     "execution_count": 45,
     "metadata": {},
     "output_type": "execute_result"
    }
   ],
   "source": [
    "reduce(add,l)   # first argumemt as function and second one as iterable\n"
   ]
  },
  {
   "cell_type": "code",
   "execution_count": 46,
   "id": "6c775d56-4253-4d8f-9d3b-59d68883e3ad",
   "metadata": {},
   "outputs": [],
   "source": [
    "# take function with not more than two arguments in the fun parameter of reduce functio"
   ]
  },
  {
   "cell_type": "code",
   "execution_count": 47,
   "id": "b5490740-e710-455e-ae81-97b08a0d1cc0",
   "metadata": {},
   "outputs": [
    {
     "data": {
      "text/plain": [
       "1"
      ]
     },
     "execution_count": 47,
     "metadata": {},
     "output_type": "execute_result"
    }
   ],
   "source": [
    "reduce(lambda x,y:x+y, [1])"
   ]
  },
  {
   "cell_type": "code",
   "execution_count": 48,
   "id": "8bf9d06d-39ff-4001-956c-512b8fd4cd5f",
   "metadata": {},
   "outputs": [
    {
     "data": {
      "text/plain": [
       "5"
      ]
     },
     "execution_count": 48,
     "metadata": {},
     "output_type": "execute_result"
    }
   ],
   "source": [
    "reduce(lambda x,y:x if x>y else y,l)"
   ]
  },
  {
   "cell_type": "code",
   "execution_count": 49,
   "id": "41d6a852-d6a7-4ac1-ab4e-797c25847117",
   "metadata": {},
   "outputs": [],
   "source": [
    "#filter function"
   ]
  },
  {
   "cell_type": "code",
   "execution_count": 50,
   "id": "ea47464e-490a-4039-aac2-d78404da0e7f",
   "metadata": {},
   "outputs": [
    {
     "data": {
      "text/plain": [
       "[2, 4, 2]"
      ]
     },
     "execution_count": 50,
     "metadata": {},
     "output_type": "execute_result"
    }
   ],
   "source": [
    "l=[1,2,3,4,2,13,1]\n",
    "list(filter(lambda x: x%2==0,l))"
   ]
  },
  {
   "cell_type": "code",
   "execution_count": 51,
   "id": "c88f09d5-91fb-4a49-804e-acfd463be731",
   "metadata": {},
   "outputs": [],
   "source": [
    "l1=[-2,4,1,24,13,21]"
   ]
  },
  {
   "cell_type": "code",
   "execution_count": 52,
   "id": "9c040f30-213d-482f-a100-6c60df844b38",
   "metadata": {},
   "outputs": [
    {
     "data": {
      "text/plain": [
       "[-2]"
      ]
     },
     "execution_count": 52,
     "metadata": {},
     "output_type": "execute_result"
    }
   ],
   "source": [
    "list(filter(lambda x: x<0,l1))"
   ]
  },
  {
   "cell_type": "code",
   "execution_count": 53,
   "id": "196bacd0-169d-4b29-89da-08268ebadd24",
   "metadata": {},
   "outputs": [],
   "source": [
    "l2=['subhan','is','learning','data','science']"
   ]
  },
  {
   "cell_type": "code",
   "execution_count": 54,
   "id": "cbe55f44-d356-40a9-ab6f-f32941bf0ce1",
   "metadata": {},
   "outputs": [
    {
     "data": {
      "text/plain": [
       "['is', 'data']"
      ]
     },
     "execution_count": 54,
     "metadata": {},
     "output_type": "execute_result"
    }
   ],
   "source": [
    "list(filter(lambda x: len(x) <6,l2))"
   ]
  },
  {
   "cell_type": "code",
   "execution_count": 55,
   "id": "3010fc79-bf7e-4bc7-b606-48baa519c286",
   "metadata": {},
   "outputs": [
    {
     "name": "stdout",
     "output_type": "stream",
     "text": [
      "120\n"
     ]
    }
   ],
   "source": [
    "numbers = [1, 2, 3, 4, 5]\n",
    "\n",
    "product = reduce(lambda x, y: x*y, numbers)\n",
    "\n",
    "print(product)"
   ]
  },
  {
   "cell_type": "code",
   "execution_count": null,
   "id": "491b9f62-e7e2-4f2d-90dd-b81865528f9f",
   "metadata": {},
   "outputs": [],
   "source": []
  }
 ],
 "metadata": {
  "kernelspec": {
   "display_name": "Python 3 (ipykernel)",
   "language": "python",
   "name": "python3"
  },
  "language_info": {
   "codemirror_mode": {
    "name": "ipython",
    "version": 3
   },
   "file_extension": ".py",
   "mimetype": "text/x-python",
   "name": "python",
   "nbconvert_exporter": "python",
   "pygments_lexer": "ipython3",
   "version": "3.10.8"
  }
 },
 "nbformat": 4,
 "nbformat_minor": 5
}

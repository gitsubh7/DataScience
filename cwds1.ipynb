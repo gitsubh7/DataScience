{
 "cells": [
  {
   "cell_type": "code",
   "execution_count": 2,
   "id": "5e37cdf7-a9c2-4240-98cd-916ac0186293",
   "metadata": {},
   "outputs": [],
   "source": [
    "a=10\n"
   ]
  },
  {
   "cell_type": "code",
   "execution_count": 3,
   "id": "849c1d86-65d2-4e02-a092-3b43fdf36320",
   "metadata": {},
   "outputs": [
    {
     "data": {
      "text/plain": [
       "10"
      ]
     },
     "execution_count": 3,
     "metadata": {},
     "output_type": "execute_result"
    }
   ],
   "source": [
    "a\n"
   ]
  },
  {
   "cell_type": "code",
   "execution_count": 4,
   "id": "a67a0463-59fd-4b71-80fb-04e620b827a6",
   "metadata": {},
   "outputs": [
    {
     "data": {
      "text/plain": [
       "20"
      ]
     },
     "execution_count": 4,
     "metadata": {},
     "output_type": "execute_result"
    }
   ],
   "source": [
    "## this ia  function\n",
    "a=20\n",
    "a\n"
   ]
  },
  {
   "cell_type": "markdown",
   "id": "cf7ce236-4e57-407d-89da-9cf0eadb4913",
   "metadata": {},
   "source": [
    "#Hello\n"
   ]
  },
  {
   "cell_type": "raw",
   "id": "7721a986-fa7d-4d1a-88b4-7b5f126e5267",
   "metadata": {},
   "source": [
    "a=10\n",
    "a\n"
   ]
  },
  {
   "cell_type": "code",
   "execution_count": null,
   "id": "b7a87a73-e463-4ce8-b83b-4aaa3b453810",
   "metadata": {},
   "outputs": [],
   "source": [
    "#markdown is for titles headings etc\n"
   ]
  },
  {
   "cell_type": "code",
   "execution_count": 5,
   "id": "64230a58-f83d-4268-9aa9-741f0f71227b",
   "metadata": {},
   "outputs": [
    {
     "name": "stdout",
     "output_type": "stream",
     "text": [
      "20\n"
     ]
    }
   ],
   "source": [
    "print(a)"
   ]
  },
  {
   "cell_type": "markdown",
   "id": "b214b41c-59d4-4980-9384-f6c989b10a79",
   "metadata": {},
   "source": [
    "### NUMBERS\n"
   ]
  },
  {
   "cell_type": "code",
   "execution_count": 6,
   "id": "3ff4a2d1-f1f9-4248-b26e-f76c88a0a81e",
   "metadata": {},
   "outputs": [
    {
     "data": {
      "text/plain": [
       "4"
      ]
     },
     "execution_count": 6,
     "metadata": {},
     "output_type": "execute_result"
    }
   ],
   "source": [
    "1+3\n",
    "\n"
   ]
  },
  {
   "cell_type": "code",
   "execution_count": 7,
   "id": "2468c247-b7a8-4ceb-992c-1a5150c05703",
   "metadata": {},
   "outputs": [
    {
     "name": "stdout",
     "output_type": "stream",
     "text": [
      "My name is abdul subhan and im in \n",
      " NIT PATNA\n"
     ]
    }
   ],
   "source": [
    "print(\"My name is abdul subhan and im in \\n NIT PATNA\")"
   ]
  },
  {
   "cell_type": "code",
   "execution_count": null,
   "id": "e81d0363-3896-46f3-b4e5-4cdfb9c10881",
   "metadata": {},
   "outputs": [],
   "source": [
    "#triple quotes for multiple lines string"
   ]
  },
  {
   "cell_type": "markdown",
   "id": "39e2db00-afae-4d7a-81b7-3814cf927e82",
   "metadata": {},
   "source": [
    "### VARIABLES ASSIGNMENT"
   ]
  },
  {
   "cell_type": "code",
   "execution_count": 10,
   "id": "5e5742ee-f7e8-40ee-8d91-8e8afd319c22",
   "metadata": {},
   "outputs": [
    {
     "name": "stdout",
     "output_type": "stream",
     "text": [
      "Krish\n"
     ]
    }
   ],
   "source": [
    "name=\"Krish\"\n",
    "print(name)"
   ]
  },
  {
   "cell_type": "code",
   "execution_count": 11,
   "id": "88dfa839-9c95-4bb5-860c-ca08a75fb5c9",
   "metadata": {},
   "outputs": [
    {
     "data": {
      "text/plain": [
       "'Krish'"
      ]
     },
     "execution_count": 11,
     "metadata": {},
     "output_type": "execute_result"
    }
   ],
   "source": [
    "name"
   ]
  },
  {
   "cell_type": "code",
   "execution_count": 12,
   "id": "210576eb-7b96-40e6-b957-254353e78d79",
   "metadata": {},
   "outputs": [
    {
     "data": {
      "text/plain": [
       "str"
      ]
     },
     "execution_count": 12,
     "metadata": {},
     "output_type": "execute_result"
    }
   ],
   "source": [
    "type(\"\")"
   ]
  },
  {
   "cell_type": "code",
   "execution_count": null,
   "id": "77daa0da-7bdf-4cef-b7df-1fcb61096c3f",
   "metadata": {},
   "outputs": [],
   "source": [
    "decimal_num=2.5"
   ]
  },
  {
   "cell_type": "code",
   "execution_count": 15,
   "id": "e3a6f572-f109-4b15-b2a0-be0fc58dd2ed",
   "metadata": {
    "tags": []
   },
   "outputs": [
    {
     "data": {
      "text/plain": [
       "False"
      ]
     },
     "execution_count": 15,
     "metadata": {},
     "output_type": "execute_result"
    }
   ],
   "source": [
    "True and False"
   ]
  },
  {
   "cell_type": "code",
   "execution_count": null,
   "id": "c7864f1b-ada0-464f-b036-89225faf5f34",
   "metadata": {},
   "outputs": [],
   "source": [
    "not True\n"
   ]
  },
  {
   "cell_type": "code",
   "execution_count": null,
   "id": "bf78d9ee-ce42-4dbf-97bc-bf4116c5bc4d",
   "metadata": {},
   "outputs": [],
   "source": []
  }
 ],
 "metadata": {
  "kernelspec": {
   "display_name": "Python 3 (ipykernel)",
   "language": "python",
   "name": "python3"
  },
  "language_info": {
   "codemirror_mode": {
    "name": "ipython",
    "version": 3
   },
   "file_extension": ".py",
   "mimetype": "text/x-python",
   "name": "python",
   "nbconvert_exporter": "python",
   "pygments_lexer": "ipython3",
   "version": "3.10.8"
  }
 },
 "nbformat": 4,
 "nbformat_minor": 5
}

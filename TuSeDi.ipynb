{
 "cells": [
  {
   "cell_type": "code",
   "execution_count": 4,
   "id": "b0321fbb-80af-4247-bf78-7126fed487e1",
   "metadata": {},
   "outputs": [
    {
     "name": "stdout",
     "output_type": "stream",
     "text": [
      "<class 'tuple'>\n"
     ]
    }
   ],
   "source": [
    "#tuples\n",
    "t=()\n",
    "print(type(t))"
   ]
  },
  {
   "cell_type": "code",
   "execution_count": 5,
   "id": "0d840067-c90c-4473-a97d-1044dd9927a0",
   "metadata": {},
   "outputs": [
    {
     "data": {
      "text/plain": [
       "tuple"
      ]
     },
     "execution_count": 5,
     "metadata": {},
     "output_type": "execute_result"
    }
   ],
   "source": [
    "type(t)"
   ]
  },
  {
   "cell_type": "code",
   "execution_count": 7,
   "id": "3e0e2d40-7f53-4764-9b8a-04413571ec9b",
   "metadata": {},
   "outputs": [
    {
     "data": {
      "text/plain": [
       "tuple"
      ]
     },
     "execution_count": 7,
     "metadata": {},
     "output_type": "execute_result"
    }
   ],
   "source": [
    "t2=(1,2,3,45,65,4+7j,\"subh\",True)\n",
    "type(t2)"
   ]
  },
  {
   "cell_type": "code",
   "execution_count": 8,
   "id": "2addf92f-142f-4391-a583-78e357e38606",
   "metadata": {},
   "outputs": [
    {
     "data": {
      "text/plain": [
       "1"
      ]
     },
     "execution_count": 8,
     "metadata": {},
     "output_type": "execute_result"
    }
   ],
   "source": [
    "t2[0]"
   ]
  },
  {
   "cell_type": "code",
   "execution_count": 9,
   "id": "5a95df62-a64c-4908-a1c8-68848c4cd242",
   "metadata": {},
   "outputs": [
    {
     "data": {
      "text/plain": [
       "(1, 2, 3, 45, 65, (4+7j), 'subh', True)"
      ]
     },
     "execution_count": 9,
     "metadata": {},
     "output_type": "execute_result"
    }
   ],
   "source": [
    "t2\n"
   ]
  },
  {
   "cell_type": "code",
   "execution_count": 11,
   "id": "4d2f9f9a-0fdc-470f-a3d7-0a06e2de4ef9",
   "metadata": {},
   "outputs": [
    {
     "data": {
      "text/plain": [
       "True"
      ]
     },
     "execution_count": 11,
     "metadata": {},
     "output_type": "execute_result"
    }
   ],
   "source": [
    "t2[7]"
   ]
  },
  {
   "cell_type": "code",
   "execution_count": 12,
   "id": "5204a248-090e-4ecb-abe4-809c2420cdc8",
   "metadata": {},
   "outputs": [
    {
     "data": {
      "text/plain": [
       "(True, 'subh', (4+7j), 65, 45, 3, 2, 1)"
      ]
     },
     "execution_count": 12,
     "metadata": {},
     "output_type": "execute_result"
    }
   ],
   "source": [
    "t2[::-1]"
   ]
  },
  {
   "cell_type": "code",
   "execution_count": 13,
   "id": "3651dd39-beb6-45f6-b5e4-d17e89c9e3fb",
   "metadata": {},
   "outputs": [],
   "source": [
    "t2=t2[::-1]"
   ]
  },
  {
   "cell_type": "code",
   "execution_count": 15,
   "id": "965e7c39-42b3-400c-bd2c-1d9a90174fae",
   "metadata": {},
   "outputs": [
    {
     "data": {
      "text/plain": [
       "(True, 'subh', (4+7j))"
      ]
     },
     "execution_count": 15,
     "metadata": {},
     "output_type": "execute_result"
    }
   ],
   "source": [
    "t2[0:3]"
   ]
  },
  {
   "cell_type": "code",
   "execution_count": 17,
   "id": "e0f235d2-d105-4a6a-8c1b-2687b735dd8d",
   "metadata": {},
   "outputs": [
    {
     "data": {
      "text/plain": [
       "0"
      ]
     },
     "execution_count": 17,
     "metadata": {},
     "output_type": "execute_result"
    }
   ],
   "source": [
    "t2.count(4)  # how many times element 4 has appeared"
   ]
  },
  {
   "cell_type": "code",
   "execution_count": 20,
   "id": "4ef1146b-9ca9-4f3e-8571-143e4ae43213",
   "metadata": {},
   "outputs": [
    {
     "data": {
      "text/plain": [
       "1"
      ]
     },
     "execution_count": 20,
     "metadata": {},
     "output_type": "execute_result"
    }
   ],
   "source": [
    "t2.index('subh')\n"
   ]
  },
  {
   "cell_type": "code",
   "execution_count": 22,
   "id": "6830c59f-9dce-4b72-8f85-c0e871049570",
   "metadata": {},
   "outputs": [
    {
     "data": {
      "text/plain": [
       "2"
      ]
     },
     "execution_count": 22,
     "metadata": {},
     "output_type": "execute_result"
    }
   ],
   "source": [
    "t2.count(True)"
   ]
  },
  {
   "cell_type": "code",
   "execution_count": 23,
   "id": "abcdf97c-6f92-44f6-a0b1-fb03d476eccc",
   "metadata": {},
   "outputs": [
    {
     "data": {
      "text/plain": [
       "(True, 'subh', (4+7j), 65, 45, 3, 2, 1)"
      ]
     },
     "execution_count": 23,
     "metadata": {},
     "output_type": "execute_result"
    }
   ],
   "source": [
    "t2"
   ]
  },
  {
   "cell_type": "code",
   "execution_count": 24,
   "id": "558d4431-cc08-47a8-a11c-4c0d83e9d352",
   "metadata": {},
   "outputs": [],
   "source": [
    "lst=[1,2,3,4]"
   ]
  },
  {
   "cell_type": "code",
   "execution_count": 36,
   "id": "f44bb7ed-d48b-4970-90e4-9c932773f009",
   "metadata": {},
   "outputs": [
    {
     "name": "stdout",
     "output_type": "stream",
     "text": [
      "True <class 'bool'>\n",
      "subh <class 'str'>\n",
      "(4+7j) <class 'complex'>\n",
      "65 <class 'int'>\n",
      "45 <class 'int'>\n",
      "3 <class 'int'>\n",
      "2 <class 'int'>\n",
      "1 <class 'int'>\n"
     ]
    }
   ],
   "source": [
    "for i in t2:\n",
    "    print(i,type(i))"
   ]
  },
  {
   "cell_type": "code",
   "execution_count": 37,
   "id": "4d264760-f2e0-4988-ab79-7e70192c9568",
   "metadata": {},
   "outputs": [
    {
     "data": {
      "text/plain": [
       "(1, 2, 3, 4, 1, 2, 3, 4, 1, 2, 3, 4)"
      ]
     },
     "execution_count": 37,
     "metadata": {},
     "output_type": "execute_result"
    }
   ],
   "source": [
    "t3=(1,2,3,4)\n",
    "t3*3"
   ]
  },
  {
   "cell_type": "code",
   "execution_count": 40,
   "id": "fc7ee47d-0ebf-4574-9d9e-c568b097e766",
   "metadata": {},
   "outputs": [
    {
     "data": {
      "text/plain": [
       "4"
      ]
     },
     "execution_count": 40,
     "metadata": {},
     "output_type": "execute_result"
    }
   ],
   "source": [
    "max(t3)"
   ]
  },
  {
   "cell_type": "code",
   "execution_count": 41,
   "id": "febb33f7-e23e-411d-8045-6c64064a6c6b",
   "metadata": {},
   "outputs": [
    {
     "data": {
      "text/plain": [
       "1"
      ]
     },
     "execution_count": 41,
     "metadata": {},
     "output_type": "execute_result"
    }
   ],
   "source": [
    "min(t3)"
   ]
  },
  {
   "cell_type": "code",
   "execution_count": 42,
   "id": "fe3ea679-1190-446c-abdf-4046645812f7",
   "metadata": {},
   "outputs": [],
   "source": [
    "t1=(1,23,4,5)\n",
    "t2=(1,23,46,32)\n",
    "t3=(t1,t2)"
   ]
  },
  {
   "cell_type": "code",
   "execution_count": 43,
   "id": "1095b16a-aaeb-43a9-9c3f-f63668ae8995",
   "metadata": {},
   "outputs": [
    {
     "data": {
      "text/plain": [
       "((1, 23, 4, 5), (1, 23, 46, 32))"
      ]
     },
     "execution_count": 43,
     "metadata": {},
     "output_type": "execute_result"
    }
   ],
   "source": [
    "t3"
   ]
  },
  {
   "cell_type": "code",
   "execution_count": 45,
   "id": "93e87842-bf7b-494b-ae10-48f6a85d80a1",
   "metadata": {},
   "outputs": [
    {
     "data": {
      "text/plain": [
       "((1, 2, 3, 4, 5), [1, 2, 3, 45])"
      ]
     },
     "execution_count": 45,
     "metadata": {},
     "output_type": "execute_result"
    }
   ],
   "source": [
    "t4=((1,2,3,4,5),[1,2,3,45])\n",
    "t4"
   ]
  },
  {
   "cell_type": "code",
   "execution_count": 46,
   "id": "ee1859c6-8479-42bb-958a-29461b537a6e",
   "metadata": {},
   "outputs": [],
   "source": [
    "del t4"
   ]
  },
  {
   "cell_type": "code",
   "execution_count": 47,
   "id": "d3f988a0-5fe6-4984-b805-9ef2d820dcf4",
   "metadata": {},
   "outputs": [
    {
     "ename": "NameError",
     "evalue": "name 't4' is not defined",
     "output_type": "error",
     "traceback": [
      "\u001b[0;31m---------------------------------------------------------------------------\u001b[0m",
      "\u001b[0;31mNameError\u001b[0m                                 Traceback (most recent call last)",
      "Cell \u001b[0;32mIn[47], line 1\u001b[0m\n\u001b[0;32m----> 1\u001b[0m \u001b[43mt4\u001b[49m\n",
      "\u001b[0;31mNameError\u001b[0m: name 't4' is not defined"
     ]
    }
   ],
   "source": [
    "t4"
   ]
  },
  {
   "cell_type": "code",
   "execution_count": 49,
   "id": "e6b37986-a9c0-4933-a9b1-b63a6fe892e2",
   "metadata": {},
   "outputs": [
    {
     "data": {
      "text/plain": [
       "4"
      ]
     },
     "execution_count": 49,
     "metadata": {},
     "output_type": "execute_result"
    }
   ],
   "source": [
    "len(t2)"
   ]
  },
  {
   "cell_type": "code",
   "execution_count": 50,
   "id": "f1e0f873-f1ce-448f-b850-84ec811e4af8",
   "metadata": {},
   "outputs": [
    {
     "data": {
      "text/plain": [
       "(1, 23, 4, 5)"
      ]
     },
     "execution_count": 50,
     "metadata": {},
     "output_type": "execute_result"
    }
   ],
   "source": [
    "t1"
   ]
  },
  {
   "cell_type": "code",
   "execution_count": 55,
   "id": "068b1eef-d00b-41e3-a47c-bb13f780d9ac",
   "metadata": {},
   "outputs": [
    {
     "name": "stdout",
     "output_type": "stream",
     "text": [
      "no\n"
     ]
    }
   ],
   "source": [
    "if 'subh' in t1:\n",
    "    print(\"yes\")\n",
    "else:\n",
    "    print(\"no\")"
   ]
  },
  {
   "cell_type": "code",
   "execution_count": 56,
   "id": "3ee2baef-fe15-4b62-9e9b-005ad6da346d",
   "metadata": {},
   "outputs": [],
   "source": [
    "#sets\n"
   ]
  },
  {
   "cell_type": "code",
   "execution_count": 57,
   "id": "ca582d75-8d2a-42b0-a5c9-f7faaaa6605d",
   "metadata": {},
   "outputs": [
    {
     "data": {
      "text/plain": [
       "dict"
      ]
     },
     "execution_count": 57,
     "metadata": {},
     "output_type": "execute_result"
    }
   ],
   "source": [
    "s={}\n",
    "type(s)"
   ]
  },
  {
   "cell_type": "code",
   "execution_count": 58,
   "id": "0bbaa2c5-bc3c-4c73-8d85-704ccbe52757",
   "metadata": {},
   "outputs": [],
   "source": [
    "s1={1,2,3,4}"
   ]
  },
  {
   "cell_type": "code",
   "execution_count": 59,
   "id": "3c5fe97b-480d-4c70-a7bf-fd6802282a6d",
   "metadata": {},
   "outputs": [
    {
     "data": {
      "text/plain": [
       "set"
      ]
     },
     "execution_count": 59,
     "metadata": {},
     "output_type": "execute_result"
    }
   ],
   "source": [
    "type(s1)"
   ]
  },
  {
   "cell_type": "code",
   "execution_count": 60,
   "id": "e42af688-29f8-461f-8b4e-b304781f84c1",
   "metadata": {},
   "outputs": [],
   "source": [
    " s2={1,2,2,3,4,5,2,1,4,5}"
   ]
  },
  {
   "cell_type": "code",
   "execution_count": 61,
   "id": "15cc779b-5e0f-42fc-86ec-71de089f364a",
   "metadata": {},
   "outputs": [
    {
     "data": {
      "text/plain": [
       "{1, 2, 3, 4, 5}"
      ]
     },
     "execution_count": 61,
     "metadata": {},
     "output_type": "execute_result"
    }
   ],
   "source": [
    "s2\n"
   ]
  },
  {
   "cell_type": "code",
   "execution_count": 62,
   "id": "d58bb9dd-16be-4115-af64-ec00b82fcbd6",
   "metadata": {},
   "outputs": [],
   "source": [
    "#SET IS A COLLECTION OF UNIQUE ELEMENTS"
   ]
  },
  {
   "cell_type": "code",
   "execution_count": 63,
   "id": "b78a7b42-c6b8-41f3-9c7f-eb2750c81292",
   "metadata": {},
   "outputs": [],
   "source": [
    "l=list(s2)\n",
    "s=set(l)"
   ]
  },
  {
   "cell_type": "code",
   "execution_count": 64,
   "id": "4c08c4af-02be-4936-9832-72dab6a19571",
   "metadata": {},
   "outputs": [
    {
     "data": {
      "text/plain": [
       "{1, 2, 3, 4, 5}"
      ]
     },
     "execution_count": 64,
     "metadata": {},
     "output_type": "execute_result"
    }
   ],
   "source": [
    "s"
   ]
  },
  {
   "cell_type": "code",
   "execution_count": 66,
   "id": "a849de9d-5186-496d-a827-00eefa1b3acf",
   "metadata": {},
   "outputs": [
    {
     "ename": "TypeError",
     "evalue": "unhashable type: 'set'",
     "output_type": "error",
     "traceback": [
      "\u001b[0;31m---------------------------------------------------------------------------\u001b[0m",
      "\u001b[0;31mTypeError\u001b[0m                                 Traceback (most recent call last)",
      "Cell \u001b[0;32mIn[66], line 1\u001b[0m\n\u001b[0;32m----> 1\u001b[0m s4\u001b[38;5;241m=\u001b[39m{\u001b[38;5;241m1\u001b[39m,\u001b[38;5;241m2\u001b[39m,\u001b[38;5;241m3\u001b[39m,\u001b[38;5;241m4\u001b[39m,{\u001b[38;5;241m1\u001b[39m,\u001b[38;5;241m2\u001b[39m,\u001b[38;5;241m3\u001b[39m,\u001b[38;5;241m4\u001b[39m}}\n",
      "\u001b[0;31mTypeError\u001b[0m: unhashable type: 'set'"
     ]
    }
   ],
   "source": [
    "s4={1,2,3,4,{1,2,3,4}}"
   ]
  },
  {
   "cell_type": "code",
   "execution_count": 67,
   "id": "79dff1ca-a3ea-4642-b8f8-1b6dc62770ff",
   "metadata": {},
   "outputs": [],
   "source": [
    "#SET STORES HASHABLE INDEXES"
   ]
  },
  {
   "cell_type": "code",
   "execution_count": 68,
   "id": "6bed2e76-c881-4427-9842-48aa7513a2cf",
   "metadata": {},
   "outputs": [
    {
     "name": "stdout",
     "output_type": "stream",
     "text": [
      "{(1, 2, 3, 4), 1, 2, 3, 4, 5}\n"
     ]
    }
   ],
   "source": [
    "s5={1,2,3,4,5,(1,2,3,4)}\n",
    "print(s5)"
   ]
  },
  {
   "cell_type": "code",
   "execution_count": 69,
   "id": "0cba6023-bbfc-4dc0-93c2-e5c853cd31e5",
   "metadata": {},
   "outputs": [],
   "source": [
    "# can store tuple not list because of mutability"
   ]
  },
  {
   "cell_type": "code",
   "execution_count": 72,
   "id": "a6e05e7d-fd79-473d-a90d-1f3e11126771",
   "metadata": {},
   "outputs": [
    {
     "data": {
      "text/plain": [
       "{'SUBH', 'Subhan', 'subh'}"
      ]
     },
     "execution_count": 72,
     "metadata": {},
     "output_type": "execute_result"
    }
   ],
   "source": [
    "s6={\"Subhan\",'subh','SUBH'}\n",
    "s6"
   ]
  },
  {
   "cell_type": "code",
   "execution_count": 74,
   "id": "9397262a-4a08-471c-a099-60b780787e1f",
   "metadata": {},
   "outputs": [
    {
     "ename": "TypeError",
     "evalue": "'set' object is not subscriptable",
     "output_type": "error",
     "traceback": [
      "\u001b[0;31m---------------------------------------------------------------------------\u001b[0m",
      "\u001b[0;31mTypeError\u001b[0m                                 Traceback (most recent call last)",
      "Cell \u001b[0;32mIn[74], line 1\u001b[0m\n\u001b[0;32m----> 1\u001b[0m \u001b[43ms6\u001b[49m\u001b[43m[\u001b[49m\u001b[38;5;241;43m0\u001b[39;49m\u001b[43m]\u001b[49m\n",
      "\u001b[0;31mTypeError\u001b[0m: 'set' object is not subscriptable"
     ]
    }
   ],
   "source": [
    "s6[0]"
   ]
  },
  {
   "cell_type": "code",
   "execution_count": 75,
   "id": "369f4d13-52d8-4367-aebc-6fac895d5c2a",
   "metadata": {},
   "outputs": [],
   "source": [
    "#set is unordered\n",
    "# so u cannot access or any operation with regards to this of list and tuples"
   ]
  },
  {
   "cell_type": "code",
   "execution_count": 77,
   "id": "8844c474-9f64-4665-8167-deb3ea68ee62",
   "metadata": {},
   "outputs": [
    {
     "name": "stdout",
     "output_type": "stream",
     "text": [
      "Subhan\n",
      "SUBH\n",
      "subh\n"
     ]
    }
   ],
   "source": [
    "for i in s6:\n",
    "    print(i)"
   ]
  },
  {
   "cell_type": "code",
   "execution_count": 79,
   "id": "63c53209-1738-4906-a81b-64e8c1d5d307",
   "metadata": {},
   "outputs": [],
   "source": [
    "s6.add(34)\n"
   ]
  },
  {
   "cell_type": "code",
   "execution_count": 80,
   "id": "887d21a7-cf4e-47ca-bbb3-ae2f61e7157d",
   "metadata": {},
   "outputs": [
    {
     "data": {
      "text/plain": [
       "{34, 'SUBH', 'Subhan', 'subh'}"
      ]
     },
     "execution_count": 80,
     "metadata": {},
     "output_type": "execute_result"
    }
   ],
   "source": [
    "s6"
   ]
  },
  {
   "cell_type": "code",
   "execution_count": 81,
   "id": "49b08544-82b9-4813-b131-37a3ec464380",
   "metadata": {},
   "outputs": [
    {
     "data": {
      "text/plain": [
       "4"
      ]
     },
     "execution_count": 81,
     "metadata": {},
     "output_type": "execute_result"
    }
   ],
   "source": [
    "len(s6)"
   ]
  },
  {
   "cell_type": "code",
   "execution_count": 83,
   "id": "7218ebc3-d905-4890-b5f0-db1d035ca0d8",
   "metadata": {},
   "outputs": [
    {
     "data": {
      "text/plain": [
       "'Subhan'"
      ]
     },
     "execution_count": 83,
     "metadata": {},
     "output_type": "execute_result"
    }
   ],
   "source": [
    "s6.pop()"
   ]
  },
  {
   "cell_type": "code",
   "execution_count": 84,
   "id": "51d24fea-ac10-44b7-b1a3-6655de853f13",
   "metadata": {},
   "outputs": [],
   "source": [
    "s6.clear()"
   ]
  },
  {
   "cell_type": "code",
   "execution_count": 85,
   "id": "cd45cffd-b4c4-413e-b683-e819c817d9fa",
   "metadata": {},
   "outputs": [
    {
     "data": {
      "text/plain": [
       "set()"
      ]
     },
     "execution_count": 85,
     "metadata": {},
     "output_type": "execute_result"
    }
   ],
   "source": [
    "s6"
   ]
  },
  {
   "cell_type": "code",
   "execution_count": 89,
   "id": "8343e6d4-8454-4147-942b-f9170e2aa05f",
   "metadata": {},
   "outputs": [],
   "source": [
    "s7={1,2,3,4}\n",
    "s8={1,2,3,5}\n"
   ]
  },
  {
   "cell_type": "code",
   "execution_count": 90,
   "id": "a59fc1aa-11ca-4791-917c-e3cdaa67215d",
   "metadata": {},
   "outputs": [
    {
     "data": {
      "text/plain": [
       "{5}"
      ]
     },
     "execution_count": 90,
     "metadata": {},
     "output_type": "execute_result"
    }
   ],
   "source": [
    "s8.difference(s7)"
   ]
  },
  {
   "cell_type": "code",
   "execution_count": 91,
   "id": "d789a939-a562-4d32-867e-fa480f266245",
   "metadata": {},
   "outputs": [],
   "source": [
    "#DICTIONARY"
   ]
  },
  {
   "cell_type": "code",
   "execution_count": 92,
   "id": "6651acd8-0b9c-444b-afa5-ab2b76ae0efb",
   "metadata": {},
   "outputs": [
    {
     "data": {
      "text/plain": [
       "dict"
      ]
     },
     "execution_count": 92,
     "metadata": {},
     "output_type": "execute_result"
    }
   ],
   "source": [
    "d={}\n",
    "type(d)"
   ]
  },
  {
   "cell_type": "code",
   "execution_count": 94,
   "id": "74278d90-93ca-4915-b2dd-711a98f38862",
   "metadata": {},
   "outputs": [],
   "source": [
    "d1={'name':\"Sudh\",'emailid':\"ss@gmail.com\",'number':23432}\n"
   ]
  },
  {
   "cell_type": "code",
   "execution_count": 95,
   "id": "3c5c6262-9543-4f11-bdb7-1ccaeda547f3",
   "metadata": {},
   "outputs": [
    {
     "data": {
      "text/plain": [
       "{'name': 'Sudh', 'emailid': 'ss@gmail.com', 'number': 23432}"
      ]
     },
     "execution_count": 95,
     "metadata": {},
     "output_type": "execute_result"
    }
   ],
   "source": [
    "d1"
   ]
  },
  {
   "cell_type": "code",
   "execution_count": 98,
   "id": "4e7dfbe7-1d90-4885-9bad-ec6469eb2198",
   "metadata": {},
   "outputs": [],
   "source": [
    "# key annot be a special character\n",
    "# list cannot be key but tuple can\n",
    "# list is unhashable type, system will not be able to create a hashmap for list (not unique)\n",
    "# set is also unhashable cant create as a key\n",
    "#dictionary also cannot be a key"
   ]
  },
  {
   "cell_type": "code",
   "execution_count": 100,
   "id": "1e510a99-aae0-4c07-aa54-17363b4836ed",
   "metadata": {},
   "outputs": [
    {
     "data": {
      "text/plain": [
       "{'course_name': ['data science', 'dev', 'java']}"
      ]
     },
     "execution_count": 100,
     "metadata": {},
     "output_type": "execute_result"
    }
   ],
   "source": [
    "d2={\"course_name\":['data science','dev','java']}\n",
    "d2"
   ]
  },
  {
   "cell_type": "code",
   "execution_count": 101,
   "id": "da6719f5-7df9-4fea-a9ec-e01229b80b1f",
   "metadata": {},
   "outputs": [
    {
     "data": {
      "text/plain": [
       "{'key': (1, 2, 3, 4)}"
      ]
     },
     "execution_count": 101,
     "metadata": {},
     "output_type": "execute_result"
    }
   ],
   "source": [
    "d3={\"key\":(1,2,3,4)}\n",
    "d3"
   ]
  },
  {
   "cell_type": "code",
   "execution_count": 104,
   "id": "badc35bc-6beb-4119-ad16-c04d26e736e9",
   "metadata": {},
   "outputs": [
    {
     "data": {
      "text/plain": [
       "{'key': {1, 2, 3, 4}}"
      ]
     },
     "execution_count": 104,
     "metadata": {},
     "output_type": "execute_result"
    }
   ],
   "source": [
    "d4={\"key\":{1,2,3,4}}\n",
    "d4"
   ]
  },
  {
   "cell_type": "code",
   "execution_count": 108,
   "id": "eceb2a45-1f23-4ab7-9e34-5e1e2f9098fb",
   "metadata": {},
   "outputs": [],
   "source": [
    "d6={\"batch_name\":['DATA SCIENCE MASTERS','WEBDEV','JDS'],'START_DATE':(28,14,21),\"mentor_name\":{'KRISH NAIK','SUDHANSHU','HITESH','ANURAG','JATIN'}}"
   ]
  },
  {
   "cell_type": "code",
   "execution_count": 124,
   "id": "1a599dc4-447b-4f0c-8065-03ab38baad57",
   "metadata": {},
   "outputs": [
    {
     "data": {
      "text/plain": [
       "{'key': {'name': 'ABDUL SUBHAN', 'number': 1234}}"
      ]
     },
     "execution_count": 124,
     "metadata": {},
     "output_type": "execute_result"
    }
   ],
   "source": [
    "d5={\"key\":{\"name\":'ABDUL SUBHAN','number':1234}}\n",
    "d5"
   ]
  },
  {
   "cell_type": "code",
   "execution_count": 109,
   "id": "10eaf0c1-aba6-45c6-95f5-fadc21db9dba",
   "metadata": {},
   "outputs": [
    {
     "data": {
      "text/plain": [
       "{'batch_name': ['DATA SCIENCE MASTERS', 'WEBDEV', 'JDS'],\n",
       " 'START_DATE': (28, 14, 21),\n",
       " 'mentor_name': {'ANURAG', 'HITESH', 'JATIN', 'KRISH NAIK', 'SUDHANSHU'}}"
      ]
     },
     "execution_count": 109,
     "metadata": {},
     "output_type": "execute_result"
    }
   ],
   "source": [
    "d6"
   ]
  },
  {
   "cell_type": "code",
   "execution_count": 110,
   "id": "ea4715d4-19b8-4acc-9406-e5d7d7d6c950",
   "metadata": {},
   "outputs": [],
   "source": [
    "d6['timing']=(8,8,8)"
   ]
  },
  {
   "cell_type": "code",
   "execution_count": 111,
   "id": "77a61194-884f-49db-9d3e-b64ccf809416",
   "metadata": {},
   "outputs": [
    {
     "data": {
      "text/plain": [
       "['DATA SCIENCE MASTERS', 'WEBDEV', 'JDS']"
      ]
     },
     "execution_count": 111,
     "metadata": {},
     "output_type": "execute_result"
    }
   ],
   "source": [
    "d6['batch_name']"
   ]
  },
  {
   "cell_type": "code",
   "execution_count": 112,
   "id": "a5afacbc-8590-4e3a-838f-d8bf130f59b7",
   "metadata": {},
   "outputs": [],
   "source": [
    "d6['name']='subhannn'"
   ]
  },
  {
   "cell_type": "code",
   "execution_count": 114,
   "id": "0fb50c93-a944-4134-bbed-6a06748f00a8",
   "metadata": {},
   "outputs": [
    {
     "data": {
      "text/plain": [
       "'SUBHANNN'"
      ]
     },
     "execution_count": 114,
     "metadata": {},
     "output_type": "execute_result"
    }
   ],
   "source": [
    "d6['name'].upper()\n"
   ]
  },
  {
   "cell_type": "code",
   "execution_count": 115,
   "id": "de8a3e3d-4858-4910-a857-fea6773afcf3",
   "metadata": {},
   "outputs": [
    {
     "data": {
      "text/plain": [
       "{'key': {'name': 'ABDUL SUBHAN', 'number': 1234}}"
      ]
     },
     "execution_count": 115,
     "metadata": {},
     "output_type": "execute_result"
    }
   ],
   "source": [
    "d5"
   ]
  },
  {
   "cell_type": "code",
   "execution_count": 117,
   "id": "1a03ae9a-d211-44ca-8e2e-7756fd76704a",
   "metadata": {},
   "outputs": [
    {
     "data": {
      "text/plain": [
       "'ABDUL SUBHAN'"
      ]
     },
     "execution_count": 117,
     "metadata": {},
     "output_type": "execute_result"
    }
   ],
   "source": [
    "d5['key']['name']"
   ]
  },
  {
   "cell_type": "code",
   "execution_count": 118,
   "id": "edd7eab9-e289-4104-b060-484725f1e5a2",
   "metadata": {},
   "outputs": [
    {
     "data": {
      "text/plain": [
       "{'key': 'abc'}"
      ]
     },
     "execution_count": 118,
     "metadata": {},
     "output_type": "execute_result"
    }
   ],
   "source": [
    "d5['key']='abc'\n",
    "d5"
   ]
  },
  {
   "cell_type": "code",
   "execution_count": 119,
   "id": "ba47975f-2b55-43ce-b75f-4387b8d008a7",
   "metadata": {},
   "outputs": [],
   "source": [
    "del d5['key']"
   ]
  },
  {
   "cell_type": "code",
   "execution_count": 122,
   "id": "06651e27-477b-4798-a5e0-da48b4f9248f",
   "metadata": {},
   "outputs": [],
   "source": [
    "#d5.clear()"
   ]
  },
  {
   "cell_type": "code",
   "execution_count": 123,
   "id": "a1437fb2-7809-4c80-af51-ebf216fa120d",
   "metadata": {},
   "outputs": [
    {
     "data": {
      "text/plain": [
       "0"
      ]
     },
     "execution_count": 123,
     "metadata": {},
     "output_type": "execute_result"
    }
   ],
   "source": [
    "len(d5)"
   ]
  },
  {
   "cell_type": "code",
   "execution_count": 125,
   "id": "d61f596a-9265-4262-b3d8-cd5e5121886b",
   "metadata": {},
   "outputs": [
    {
     "data": {
      "text/plain": [
       "dict_keys(['key'])"
      ]
     },
     "execution_count": 125,
     "metadata": {},
     "output_type": "execute_result"
    }
   ],
   "source": [
    "d5.keys()"
   ]
  },
  {
   "cell_type": "code",
   "execution_count": 126,
   "id": "d3a6d1d7-ce24-4f93-bfb6-dc6b9b0e7848",
   "metadata": {},
   "outputs": [
    {
     "data": {
      "text/plain": [
       "dict_values([{'name': 'ABDUL SUBHAN', 'number': 1234}])"
      ]
     },
     "execution_count": 126,
     "metadata": {},
     "output_type": "execute_result"
    }
   ],
   "source": [
    "d5.values()"
   ]
  },
  {
   "cell_type": "code",
   "execution_count": 129,
   "id": "22edb634-8402-4130-bfc4-082bad1b4f55",
   "metadata": {},
   "outputs": [],
   "source": [
    "a=list(d5.values())"
   ]
  },
  {
   "cell_type": "code",
   "execution_count": 130,
   "id": "517f90fa-6d2a-403b-b3d3-f42384531c18",
   "metadata": {},
   "outputs": [
    {
     "data": {
      "text/plain": [
       "[{'name': 'ABDUL SUBHAN', 'number': 1234}]"
      ]
     },
     "execution_count": 130,
     "metadata": {},
     "output_type": "execute_result"
    }
   ],
   "source": [
    "a"
   ]
  },
  {
   "cell_type": "code",
   "execution_count": 131,
   "id": "dfc9d61e-3829-4095-a489-1a31cadef4c7",
   "metadata": {},
   "outputs": [],
   "source": [
    "b=list(d5.keys())"
   ]
  },
  {
   "cell_type": "code",
   "execution_count": 132,
   "id": "ae913454-1c35-44db-87b9-44e791cd899c",
   "metadata": {},
   "outputs": [
    {
     "data": {
      "text/plain": [
       "['key']"
      ]
     },
     "execution_count": 132,
     "metadata": {},
     "output_type": "execute_result"
    }
   ],
   "source": [
    "b"
   ]
  },
  {
   "cell_type": "code",
   "execution_count": 133,
   "id": "657ee0d0-0432-41ef-9561-45932a67c495",
   "metadata": {},
   "outputs": [
    {
     "data": {
      "text/plain": [
       "dict_items([('key', {'name': 'ABDUL SUBHAN', 'number': 1234})])"
      ]
     },
     "execution_count": 133,
     "metadata": {},
     "output_type": "execute_result"
    }
   ],
   "source": [
    "d5.items()"
   ]
  },
  {
   "cell_type": "code",
   "execution_count": 134,
   "id": "107549e5-2439-417e-b045-0f54acdcf0d9",
   "metadata": {},
   "outputs": [],
   "source": [
    "d7=d6.copy()"
   ]
  },
  {
   "cell_type": "code",
   "execution_count": 137,
   "id": "b8c21790-33c3-4375-bc38-9b5f91338b67",
   "metadata": {},
   "outputs": [
    {
     "data": {
      "text/plain": [
       "{'batch_name': ['DATA SCIENCE MASTERS', 'WEBDEV', 'JDS'],\n",
       " 'START_DATE': (28, 14, 21),\n",
       " 'mentor_name': {'ANURAG', 'HITESH', 'JATIN', 'KRISH NAIK', 'SUDHANSHU'},\n",
       " 'timing': (8, 8, 8),\n",
       " 'name': 'subhannn'}"
      ]
     },
     "execution_count": 137,
     "metadata": {},
     "output_type": "execute_result"
    }
   ],
   "source": [
    "d7    #DEEEP COPY  #changes made in d6 wont affect d7"
   ]
  },
  {
   "cell_type": "code",
   "execution_count": null,
   "id": "cd7fa890-d546-42bb-b2c0-83d908b7ef34",
   "metadata": {},
   "outputs": [],
   "source": []
  },
  {
   "cell_type": "code",
   "execution_count": 138,
   "id": "b57b147b-9545-47a4-b864-e014cb5ea00e",
   "metadata": {},
   "outputs": [],
   "source": [
    "d8=d6     #swallow copy # by reference # changes made will reflect in eachother"
   ]
  },
  {
   "cell_type": "code",
   "execution_count": 139,
   "id": "70fdd9f4-65df-4d4f-8fa4-abe11f06fc63",
   "metadata": {},
   "outputs": [
    {
     "data": {
      "text/plain": [
       "{'batch_name': ['DATA SCIENCE MASTERS', 'WEBDEV', 'JDS'],\n",
       " 'START_DATE': (28, 14, 21),\n",
       " 'mentor_name': {'ANURAG', 'HITESH', 'JATIN', 'KRISH NAIK', 'SUDHANSHU'},\n",
       " 'timing': (8, 8, 8),\n",
       " 'name': 'subhannn'}"
      ]
     },
     "execution_count": 139,
     "metadata": {},
     "output_type": "execute_result"
    }
   ],
   "source": [
    "d8"
   ]
  },
  {
   "cell_type": "code",
   "execution_count": 141,
   "id": "ed63c21b-e505-4895-8238-df1f2cf80cbe",
   "metadata": {},
   "outputs": [],
   "source": [
    "del d6['name']"
   ]
  },
  {
   "cell_type": "code",
   "execution_count": 142,
   "id": "d755204c-5b39-442c-b43a-c15f65ee7bcc",
   "metadata": {},
   "outputs": [
    {
     "data": {
      "text/plain": [
       "{'batch_name': ['DATA SCIENCE MASTERS', 'WEBDEV', 'JDS'],\n",
       " 'START_DATE': (28, 14, 21),\n",
       " 'mentor_name': {'ANURAG', 'HITESH', 'JATIN', 'KRISH NAIK', 'SUDHANSHU'},\n",
       " 'timing': (8, 8, 8)}"
      ]
     },
     "execution_count": 142,
     "metadata": {},
     "output_type": "execute_result"
    }
   ],
   "source": [
    "d6"
   ]
  },
  {
   "cell_type": "code",
   "execution_count": 144,
   "id": "4d12d8c1-6a91-45ac-9023-c7c199948217",
   "metadata": {},
   "outputs": [
    {
     "data": {
      "text/plain": [
       "(8, 8, 8)"
      ]
     },
     "execution_count": 144,
     "metadata": {},
     "output_type": "execute_result"
    }
   ],
   "source": [
    "d6.pop('timing')"
   ]
  },
  {
   "cell_type": "code",
   "execution_count": 145,
   "id": "42e36d6c-0ec1-441a-bdbb-b9eac45a4740",
   "metadata": {},
   "outputs": [
    {
     "data": {
      "text/plain": [
       "{'batch_name': ['DATA SCIENCE MASTERS', 'WEBDEV', 'JDS'],\n",
       " 'START_DATE': (28, 14, 21),\n",
       " 'mentor_name': {'ANURAG', 'HITESH', 'JATIN', 'KRISH NAIK', 'SUDHANSHU'}}"
      ]
     },
     "execution_count": 145,
     "metadata": {},
     "output_type": "execute_result"
    }
   ],
   "source": [
    "d6"
   ]
  },
  {
   "cell_type": "code",
   "execution_count": 146,
   "id": "4c8a175e-45a9-4183-9901-25e78304624c",
   "metadata": {},
   "outputs": [
    {
     "data": {
      "text/plain": [
       "{'ANURAG', 'HITESH', 'JATIN', 'KRISH NAIK', 'SUDHANSHU'}"
      ]
     },
     "execution_count": 146,
     "metadata": {},
     "output_type": "execute_result"
    }
   ],
   "source": [
    "d6.pop('mentor_name')"
   ]
  },
  {
   "cell_type": "code",
   "execution_count": 148,
   "id": "4c903a70-9cd7-44e3-b3b4-486963f7abc7",
   "metadata": {},
   "outputs": [
    {
     "data": {
      "text/plain": [
       "{'batch_name': ['DATA SCIENCE MASTERS', 'WEBDEV', 'JDS'],\n",
       " 'START_DATE': (28, 14, 21)}"
      ]
     },
     "execution_count": 148,
     "metadata": {},
     "output_type": "execute_result"
    }
   ],
   "source": [
    "d6"
   ]
  },
  {
   "cell_type": "code",
   "execution_count": 149,
   "id": "5a77aa5a-821e-4de8-947f-9b72689ba032",
   "metadata": {},
   "outputs": [
    {
     "data": {
      "text/plain": [
       "{1: ('a', 'b', 'c'), 2: ('a', 'b', 'c'), 3: ('a', 'b', 'c')}"
      ]
     },
     "execution_count": 149,
     "metadata": {},
     "output_type": "execute_result"
    }
   ],
   "source": [
    "d.fromkeys((1,2,3),('a','b','c'))\n"
   ]
  },
  {
   "cell_type": "code",
   "execution_count": 150,
   "id": "bf66e878-14e4-4042-a027-a53fc0773432",
   "metadata": {},
   "outputs": [
    {
     "data": {
      "text/plain": [
       "({'key1': 'value', 'key2': 'value2'}, {'key3': 'value3', 'key4': 'value4'})"
      ]
     },
     "execution_count": 150,
     "metadata": {},
     "output_type": "execute_result"
    }
   ],
   "source": [
    "d9={\"key1\":'value','key2':'value2'}\n",
    "d10={\"key3\":'value3','key4':'value4'}\n",
    "(d9,d10)\n"
   ]
  },
  {
   "cell_type": "code",
   "execution_count": 152,
   "id": "178ba7f3-a606-4cfd-a386-57e8e1afe53f",
   "metadata": {},
   "outputs": [],
   "source": [
    "d9.update(d10)"
   ]
  },
  {
   "cell_type": "code",
   "execution_count": 153,
   "id": "78706c7f-5868-4d18-bbe1-2c6e587ffb76",
   "metadata": {},
   "outputs": [],
   "source": [
    "d10.update(d9)"
   ]
  },
  {
   "cell_type": "code",
   "execution_count": 154,
   "id": "d33a7565-46fc-4857-9afb-068409242772",
   "metadata": {},
   "outputs": [
    {
     "data": {
      "text/plain": [
       "{'key1': 'value', 'key2': 'value2', 'key3': 'value3', 'key4': 'value4'}"
      ]
     },
     "execution_count": 154,
     "metadata": {},
     "output_type": "execute_result"
    }
   ],
   "source": [
    "d9"
   ]
  },
  {
   "cell_type": "code",
   "execution_count": 155,
   "id": "cae03718-977e-4644-9c7c-7bb77008128b",
   "metadata": {},
   "outputs": [
    {
     "data": {
      "text/plain": [
       "{'key3': 'value3', 'key4': 'value4', 'key1': 'value', 'key2': 'value2'}"
      ]
     },
     "execution_count": 155,
     "metadata": {},
     "output_type": "execute_result"
    }
   ],
   "source": [
    "d10"
   ]
  },
  {
   "cell_type": "code",
   "execution_count": 156,
   "id": "12530760-7c16-4082-8220-a1c55580b485",
   "metadata": {},
   "outputs": [],
   "source": [
    "d10.get(\"sudh\")\n"
   ]
  },
  {
   "cell_type": "code",
   "execution_count": 157,
   "id": "4d6590c8-3a25-472d-a881-1dc029b7b952",
   "metadata": {},
   "outputs": [
    {
     "data": {
      "text/plain": [
       "'value3'"
      ]
     },
     "execution_count": 157,
     "metadata": {},
     "output_type": "execute_result"
    }
   ],
   "source": [
    "d10.get(\"key3\")"
   ]
  },
  {
   "cell_type": "code",
   "execution_count": 158,
   "id": "d12c1458-f83c-492a-b691-5263938b1061",
   "metadata": {},
   "outputs": [],
   "source": [
    "# DICTIONARY COMPREHENSION"
   ]
  },
  {
   "cell_type": "code",
   "execution_count": 159,
   "id": "a433fb6b-0e64-4ac2-be30-d489b00954bd",
   "metadata": {},
   "outputs": [
    {
     "data": {
      "text/plain": [
       "{1: 1, 2: 4, 3: 9, 4: 16, 5: 25, 6: 36, 7: 49, 8: 64, 9: 81, 10: 100}"
      ]
     },
     "execution_count": 159,
     "metadata": {},
     "output_type": "execute_result"
    }
   ],
   "source": [
    "{i :i**2 for i in range(1,11)}"
   ]
  },
  {
   "cell_type": "code",
   "execution_count": 160,
   "id": "40ab4277-f646-45fa-b49c-3ad16c6b9950",
   "metadata": {},
   "outputs": [
    {
     "data": {
      "text/plain": [
       "{1: 3, 2: 4, 3: 5, 4: 6, 5: 7, 6: 8, 7: 9, 8: 10, 9: 11, 10: 12}"
      ]
     },
     "execution_count": 160,
     "metadata": {},
     "output_type": "execute_result"
    }
   ],
   "source": [
    "{i :i+2 for i in range(1,11)}"
   ]
  },
  {
   "cell_type": "code",
   "execution_count": 164,
   "id": "e5235392-b05c-4583-b648-4cb80c40de50",
   "metadata": {},
   "outputs": [],
   "source": [
    "import math\n",
    "d11={i: math.log10(i) for i in range(1,11)}"
   ]
  },
  {
   "cell_type": "code",
   "execution_count": 162,
   "id": "59fbaeef-92ae-4f30-acf2-db108c750050",
   "metadata": {},
   "outputs": [
    {
     "data": {
      "text/plain": [
       "{'batch_name': ['DATA SCIENCE MASTERS', 'WEBDEV', 'JDS'],\n",
       " 'START_DATE': (28, 14, 21)}"
      ]
     },
     "execution_count": 162,
     "metadata": {},
     "output_type": "execute_result"
    }
   ],
   "source": [
    "d6"
   ]
  },
  {
   "cell_type": "code",
   "execution_count": 163,
   "id": "a89c734c-cf79-4a8e-bdb4-48e79d1d9434",
   "metadata": {},
   "outputs": [
    {
     "data": {
      "text/plain": [
       "True"
      ]
     },
     "execution_count": 163,
     "metadata": {},
     "output_type": "execute_result"
    }
   ],
   "source": [
    "'batch_name' in d6"
   ]
  },
  {
   "cell_type": "code",
   "execution_count": 165,
   "id": "eec42f56-f5a6-4998-bbfd-0901d35f2faf",
   "metadata": {},
   "outputs": [
    {
     "data": {
      "text/plain": [
       "{1: 0.0,\n",
       " 2: 0.3010299956639812,\n",
       " 3: 0.47712125471966244,\n",
       " 4: 0.6020599913279624,\n",
       " 5: 0.6989700043360189,\n",
       " 6: 0.7781512503836436,\n",
       " 7: 0.8450980400142568,\n",
       " 8: 0.9030899869919435,\n",
       " 9: 0.9542425094393249,\n",
       " 10: 1.0}"
      ]
     },
     "execution_count": 165,
     "metadata": {},
     "output_type": "execute_result"
    }
   ],
   "source": [
    "d11"
   ]
  },
  {
   "cell_type": "code",
   "execution_count": 167,
   "id": "c9dd309e-b315-482b-9f56-9f2bd3dbc095",
   "metadata": {},
   "outputs": [
    {
     "name": "stdout",
     "output_type": "stream",
     "text": [
      "dict_values([0.0, 0.3010299956639812, 0.47712125471966244, 0.6020599913279624, 0.6989700043360189, 0.7781512503836436, 0.8450980400142568, 0.9030899869919435, 0.9542425094393249, 1.0])\n",
      "dict_values([0.0, 0.3010299956639812, 0.47712125471966244, 0.6020599913279624, 0.6989700043360189, 0.7781512503836436, 0.8450980400142568, 0.9030899869919435, 0.9542425094393249, 1.0])\n",
      "dict_values([0.0, 0.3010299956639812, 0.47712125471966244, 0.6020599913279624, 0.6989700043360189, 0.7781512503836436, 0.8450980400142568, 0.9030899869919435, 0.9542425094393249, 1.0])\n",
      "dict_values([0.0, 0.3010299956639812, 0.47712125471966244, 0.6020599913279624, 0.6989700043360189, 0.7781512503836436, 0.8450980400142568, 0.9030899869919435, 0.9542425094393249, 1.0])\n",
      "dict_values([0.0, 0.3010299956639812, 0.47712125471966244, 0.6020599913279624, 0.6989700043360189, 0.7781512503836436, 0.8450980400142568, 0.9030899869919435, 0.9542425094393249, 1.0])\n"
     ]
    }
   ],
   "source": [
    "for i in d11.keys():\n",
    "    if i%2==0:\n",
    "        print(d11[i])"
   ]
  },
  {
   "cell_type": "code",
   "execution_count": null,
   "id": "e076f360-75e4-4190-bc7f-9b1d1d14acef",
   "metadata": {},
   "outputs": [],
   "source": []
  }
 ],
 "metadata": {
  "kernelspec": {
   "display_name": "Python 3 (ipykernel)",
   "language": "python",
   "name": "python3"
  },
  "language_info": {
   "codemirror_mode": {
    "name": "ipython",
    "version": 3
   },
   "file_extension": ".py",
   "mimetype": "text/x-python",
   "name": "python",
   "nbconvert_exporter": "python",
   "pygments_lexer": "ipython3",
   "version": "3.10.8"
  }
 },
 "nbformat": 4,
 "nbformat_minor": 5
}

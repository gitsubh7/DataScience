{
 "cells": [
  {
   "cell_type": "code",
   "execution_count": 85,
   "id": "fb00b5f6-286f-413f-8f85-b3cbc4b368ca",
   "metadata": {},
   "outputs": [
    {
     "name": "stdout",
     "output_type": "stream",
     "text": [
      "[27483, 25534, 24936, 34357]\n"
     ]
    }
   ],
   "source": [
    "#Q1. Create a python program to sort the given list of tuples based on integer value using alambda function.\n",
    "l1=[ ('Ricky Ponting', 27483), ('Jack Kallis', 25534), ('Virat Kohli', 24936),('Sachin Tendulkar', 34357)]\n",
    "l=[]\n",
    "for i in l1:\n",
    "    for j in i:\n",
    "        if type(j)==int:\n",
    "            \n",
    "            l.append(j)\n",
    "print(l)\n",
    "l.sort()\n",
    "\n",
    "#l=[i for n in i for i in l1 if type(n)==int]\n",
    "#print(l)\n"
   ]
  },
  {
   "cell_type": "code",
   "execution_count": 39,
   "id": "97fcb272-531e-4948-bbe2-21278ad531ef",
   "metadata": {
    "tags": []
   },
   "outputs": [
    {
     "data": {
      "text/plain": [
       "[1, 4, 9, 16, 25, 36, 49, 64, 81, 100]"
      ]
     },
     "execution_count": 39,
     "metadata": {},
     "output_type": "execute_result"
    }
   ],
   "source": [
    "#Q2 Write a Python Program to find the squares of all the numbers in the given list of integers using lambda and map functions.\n",
    "l2=[1, 2, 3, 4, 5, 6, 7, 8, 9, 10]\n",
    "list(map(lambda x: x**2 ,l2))"
   ]
  },
  {
   "cell_type": "code",
   "execution_count": 40,
   "id": "7af4f6ef-430d-45f8-9266-1d736a94b44a",
   "metadata": {},
   "outputs": [
    {
     "data": {
      "text/plain": [
       "('1', '2', '3', '4', '5', '6', '7', '8', '9', '10')"
      ]
     },
     "execution_count": 40,
     "metadata": {},
     "output_type": "execute_result"
    }
   ],
   "source": [
    "#Q3. Write a python program to convert the given list of integers into a tuple of strings. Use map and lambda functions\n",
    "l3=[1, 2, 3, 4, 5, 6, 7, 8, 9, 10]\n",
    "tuple(map(lambda x: str(x) , l3))"
   ]
  },
  {
   "cell_type": "code",
   "execution_count": 41,
   "id": "58f95b0d-f81b-48ad-8ca8-fcd3ac556aa5",
   "metadata": {},
   "outputs": [
    {
     "name": "stdout",
     "output_type": "stream",
     "text": [
      "[1, 2, 3, 4, 5, 6, 7, 8, 9, 10, 11, 12, 13, 14, 15, 16, 17, 18, 19, 20, 21, 22, 23, 24, 25]\n",
      "15511210043330985984000000\n"
     ]
    }
   ],
   "source": [
    "#Q4 Write a python program using reduce function to compute the product of a list containing numbers from 1 to 25.\n",
    "l4=list()\n",
    "for i in range(1,26):\n",
    "   \n",
    "    l4.append(i)\n",
    "print(l4)\n",
    "print(reduce(lambda x,y: x*y, l4))"
   ]
  },
  {
   "cell_type": "code",
   "execution_count": 42,
   "id": "c14952ee-e44a-4838-9217-0c2de3ed530c",
   "metadata": {},
   "outputs": [
    {
     "data": {
      "text/plain": [
       "[6, 60, 90, 120]"
      ]
     },
     "execution_count": 42,
     "metadata": {},
     "output_type": "execute_result"
    }
   ],
   "source": [
    "#Q5. Write a python program to filter the numbers in a given list that are divisible by 2 and 3 using the filter function.\n",
    "l5=[2, 3,  6, 9, 27, 60, 90, 120, 55, 46]\n",
    "list(filter( lambda x:  x%2==0 and x%3==0  ,l5))"
   ]
  },
  {
   "cell_type": "code",
   "execution_count": 43,
   "id": "5425db26-3107-472e-a4ad-d517217326ee",
   "metadata": {},
   "outputs": [
    {
     "data": {
      "text/plain": [
       "['php', 'aba', 'radar', 'level']"
      ]
     },
     "execution_count": 43,
     "metadata": {},
     "output_type": "execute_result"
    }
   ],
   "source": [
    "#Q6. Write a python program to find palindromes in the given list of strings using lambda and filter function.\n",
    "l6=['python', 'php', 'aba', 'radar', 'level']\n",
    "list(filter(lambda x: x==x[::-1] ,l6))"
   ]
  },
  {
   "cell_type": "code",
   "execution_count": null,
   "id": "04bcd2c3-7228-429b-8e4e-2d163f328990",
   "metadata": {},
   "outputs": [],
   "source": []
  },
  {
   "cell_type": "code",
   "execution_count": null,
   "id": "15757c35-bde1-425f-863d-3a1677f58b8e",
   "metadata": {},
   "outputs": [],
   "source": []
  }
 ],
 "metadata": {
  "kernelspec": {
   "display_name": "Python 3 (ipykernel)",
   "language": "python",
   "name": "python3"
  },
  "language_info": {
   "codemirror_mode": {
    "name": "ipython",
    "version": 3
   },
   "file_extension": ".py",
   "mimetype": "text/x-python",
   "name": "python",
   "nbconvert_exporter": "python",
   "pygments_lexer": "ipython3",
   "version": "3.10.8"
  }
 },
 "nbformat": 4,
 "nbformat_minor": 5
}

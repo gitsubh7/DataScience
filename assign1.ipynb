{
 "cells": [
  {
   "cell_type": "code",
   "execution_count": 1,
   "id": "762abde0-97d8-4b80-bb10-96bcf9dae8c0",
   "metadata": {},
   "outputs": [],
   "source": [
    "#1 WHO DEVELOPED PYTHON\n",
    "##Guido van Rossum"
   ]
  },
  {
   "cell_type": "code",
   "execution_count": 2,
   "id": "7d1ea834-6529-4cce-b02d-c887e8d70c39",
   "metadata": {},
   "outputs": [],
   "source": [
    "#2 Which type of programming does python support\n",
    "#OOPS and structured"
   ]
  },
  {
   "cell_type": "code",
   "execution_count": 3,
   "id": "1b3e280f-8bc7-4710-bcc5-aa19fe2f3168",
   "metadata": {},
   "outputs": [],
   "source": [
    "#3 Is python case sensitive\n",
    "#YES"
   ]
  },
  {
   "cell_type": "code",
   "execution_count": 4,
   "id": "45fc1db3-38b7-4ad5-b909-e9b26b82b7f9",
   "metadata": {},
   "outputs": [],
   "source": [
    "#4 WHAT IS THE CORRECT EXTENSION OF A PYTHON FILE\n",
    "# .py or .ipynb"
   ]
  },
  {
   "cell_type": "code",
   "execution_count": 7,
   "id": "67c81a8a-663f-4479-9b22-31d2b6a97a85",
   "metadata": {},
   "outputs": [],
   "source": [
    "#5 Is python compiled or interpreted\n",
    "# interpreted"
   ]
  },
  {
   "cell_type": "code",
   "execution_count": 6,
   "id": "c6591ba2-37a9-421e-9418-0aa670c29c5a",
   "metadata": {},
   "outputs": [],
   "source": [
    "#6 Name a few blocks of code used to define in python language\n",
    "#  a module, a function body, and a class definition"
   ]
  },
  {
   "cell_type": "code",
   "execution_count": 8,
   "id": "a1c55f44-c093-4bba-b88b-9a1efcd2757f",
   "metadata": {},
   "outputs": [],
   "source": [
    "#7 CHARACTER USED TO GIVE SINGLE LINE COMENT IN PYTHON\n",
    "#  the special character is (#)"
   ]
  },
  {
   "cell_type": "code",
   "execution_count": 10,
   "id": "77f4d715-8813-4b6f-ac88-0d0e0ef12a11",
   "metadata": {},
   "outputs": [],
   "source": [
    "#8 Mention functions used to find out python version that we are using\n",
    "# Using sys. version method.\n",
    "# Using python_version() function.\n",
    "# Using Python -V command."
   ]
  },
  {
   "cell_type": "code",
   "execution_count": 12,
   "id": "62392feb-f397-411d-a9b4-7b7b187db702",
   "metadata": {},
   "outputs": [],
   "source": [
    "#9 Python supports the creation of anonymous functions at runtime , using a construct called:\n",
    "# LAMBDA"
   ]
  },
  {
   "cell_type": "code",
   "execution_count": 13,
   "id": "c1908a61-a8eb-4d4e-84ac-7d6795506041",
   "metadata": {},
   "outputs": [],
   "source": [
    "#10 What does pip stand for in python\n",
    "# \"preferred installer program"
   ]
  },
  {
   "cell_type": "code",
   "execution_count": 14,
   "id": "9da6e34a-e9c6-4062-906b-af6e7de7e2a5",
   "metadata": {
    "collapsed": true,
    "jupyter": {
     "outputs_hidden": true
    },
    "tags": []
   },
   "outputs": [
    {
     "data": {
      "text/plain": [
       "'\\nlen()\\nrange()\\ntype()\\nstr()\\nfloat()\\nint()\\nupper()\\nlower()\\n'"
      ]
     },
     "execution_count": 14,
     "metadata": {},
     "output_type": "execute_result"
    }
   ],
   "source": [
    "#11 built in functions in python\n",
    "'''\n",
    "len()\n",
    "range()\n",
    "type()\n",
    "str()\n",
    "float()\n",
    "int()\n",
    "upper()\n",
    "lower()\n",
    "'''"
   ]
  },
  {
   "cell_type": "code",
   "execution_count": 15,
   "id": "44beaa48-9182-4160-952b-41d9b7a0d2be",
   "metadata": {},
   "outputs": [],
   "source": [
    "#12 max possible length of identifiers in python\n",
    "# 79 char"
   ]
  },
  {
   "cell_type": "code",
   "execution_count": 16,
   "id": "b8a62164-2faa-403e-9c8c-b8d0cc376853",
   "metadata": {},
   "outputs": [],
   "source": [
    "#13 benefits of using python\n",
    "# Easy-to-learn and Easy-to-use\n",
    "# Improves Productivity\n",
    "# interpreted lang\n",
    "# open source"
   ]
  },
  {
   "cell_type": "code",
   "execution_count": 17,
   "id": "47522cdd-6ab0-4489-bdd7-3c419ddb1f00",
   "metadata": {},
   "outputs": [],
   "source": [
    "#14 How is memory managed in python\n",
    "# Memory management in Python involves a private heap containing all Python objects and data structures. The management of this private heap is ensured internally by the Python memory manager. The Python memory manager has different components \n",
    "#which deal with various dynamic storage management aspects, like sharing, segmentation, preallocation or caching"
   ]
  },
  {
   "cell_type": "code",
   "execution_count": 20,
   "id": "7c21ccbe-cab3-48c3-a68f-416726fa09f1",
   "metadata": {},
   "outputs": [
    {
     "data": {
      "text/plain": [
       "'The complete path of python.exe can be added by:\\n\\nRight-clicking This PC and going to Properties.\\n\\nClicking on the Advanced system settings in the menu on the left.\\n\\nClicking on the Environment Variables button o\\u200bn the bottom right.\\n\\nIn the System variables section, selecting the Path variable and clicking on Edit. The next screen will show all the directories that are currently a part of the PATH variable.\\n\\nClicking on New and entering Python’s install directory.\\n\\nPython can now be used directly from the command prompt without having to write its location. \\nTry executing the command python --version; it will output the version of Python installed on your system.'"
      ]
     },
     "execution_count": 20,
     "metadata": {},
     "output_type": "execute_result"
    }
   ],
   "source": [
    "#15 How to install python on windows and set path variables\n",
    "'''The complete path of python.exe can be added by:\n",
    "\n",
    "Right-clicking This PC and going to Properties.\n",
    "\n",
    "Clicking on the Advanced system settings in the menu on the left.\n",
    "\n",
    "Clicking on the Environment Variables button o​n the bottom right.\n",
    "\n",
    "In the System variables section, selecting the Path variable and clicking on Edit. The next screen will show all the directories that are currently a part of the PATH variable.\n",
    "\n",
    "Clicking on New and entering Python’s install directory.\n",
    "\n",
    "Python can now be used directly from the command prompt without having to write its location. \n",
    "Try executing the command python --version; it will output the version of Python installed on your system.'''"
   ]
  },
  {
   "cell_type": "code",
   "execution_count": null,
   "id": "cca48ae7-87ca-4b80-89ed-d0b3b8c7e433",
   "metadata": {},
   "outputs": [],
   "source": [
    "#16 is identation required in python\n",
    "# with respect to different block of if,else etc. YES"
   ]
  }
 ],
 "metadata": {
  "kernelspec": {
   "display_name": "Python 3 (ipykernel)",
   "language": "python",
   "name": "python3"
  },
  "language_info": {
   "codemirror_mode": {
    "name": "ipython",
    "version": 3
   },
   "file_extension": ".py",
   "mimetype": "text/x-python",
   "name": "python",
   "nbconvert_exporter": "python",
   "pygments_lexer": "ipython3",
   "version": "3.10.8"
  }
 },
 "nbformat": 4,
 "nbformat_minor": 5
}

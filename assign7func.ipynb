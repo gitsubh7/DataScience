{
 "cells": [
  {
   "cell_type": "code",
   "execution_count": 11,
   "id": "2cc239da-e2dc-4d18-b5f1-7c97e14a40d8",
   "metadata": {},
   "outputs": [],
   "source": [
    "\n",
    "list1 = [1,2,3,4, [44,55,66, True], False, (34,56,78,89,34), {1,2,3,3,2,1}, {1:34, \"key2\": [55, 67, 78, 89], 4: (45,\n",
    "22, 61, 34)}, [56, 'data science'], 'Machine Learning']\n",
    "\n",
    "\n",
    "list2=[]\n",
    "def flat(l):\n",
    "    for x in l:\n",
    "        if type(x) in [tuple,set,list]:\n",
    "            for y in x:\n",
    "                if type(y)==int:\n",
    "                    list2.append(y)\n",
    "        elif type(x) == int:\n",
    "            list2.append(x)\n",
    "        elif type(x) == dict:\n",
    "            print(x.items())\n",
    "            for z in x.items():\n",
    "                if type(z)==tuple:\n",
    "                    for h in z:\n",
    "                        if type(h)==int:\n",
    "                            list2.append(h)\n",
    "               elif\n",
    "            \n",
    "            \n",
    "                \n",
    "    return list2"
   ]
  },
  {
   "cell_type": "code",
   "execution_count": 12,
   "id": "08738dcc-1596-4ce0-a967-bb42a02ed718",
   "metadata": {},
   "outputs": [
    {
     "name": "stdout",
     "output_type": "stream",
     "text": [
      "dict_items([(1, 34), ('key2', [55, 67, 78, 89]), (4, (45, 22, 61, 34))])\n"
     ]
    },
    {
     "data": {
      "text/plain": [
       "[1, 2, 3, 4, 44, 55, 66, 34, 56, 78, 89, 34, 1, 2, 3, 1, 34, 4, 56]"
      ]
     },
     "execution_count": 12,
     "metadata": {},
     "output_type": "execute_result"
    }
   ],
   "source": [
    "flat(list1)"
   ]
  },
  {
   "cell_type": "code",
   "execution_count": 31,
   "id": "8924b1e7-5a05-4bd9-a863-1dedd489857d",
   "metadata": {},
   "outputs": [
    {
     "ename": "AttributeError",
     "evalue": "'str' object has no attribute 'items'",
     "output_type": "error",
     "traceback": [
      "\u001b[0;31m---------------------------------------------------------------------------\u001b[0m",
      "\u001b[0;31mAttributeError\u001b[0m                            Traceback (most recent call last)",
      "Cell \u001b[0;32mIn[31], line 1\u001b[0m\n\u001b[0;32m----> 1\u001b[0m \u001b[43mx\u001b[49m\u001b[38;5;241;43m.\u001b[39;49m\u001b[43mitems\u001b[49m()\n",
      "\u001b[0;31mAttributeError\u001b[0m: 'str' object has no attribute 'items'"
     ]
    }
   ],
   "source": []
  },
  {
   "cell_type": "code",
   "execution_count": 17,
   "id": "4d84079a-0250-4d76-826d-9666ac46f6db",
   "metadata": {},
   "outputs": [
    {
     "name": "stdout",
     "output_type": "stream",
     "text": [
      "['i', '$', 'w', 'z', 'n', 't', '$', 't', 'o', '$', 'y', 'e', 'x', 'o', 'm', 'e', '$', 'z', '$', 'd', 'z', 't', 'z', '$', 's', 'x', 'i', 'e', 'n', 't', 'i', 's', 't', '.']\n"
     ]
    },
    {
     "data": {
      "text/plain": [
       "'i$wznt$to$yexome$z$dztz$sxientist.'"
      ]
     },
     "execution_count": 17,
     "metadata": {},
     "output_type": "execute_result"
    }
   ],
   "source": [
    "'''Q2. Write a python program for encrypting a message sent to you by your friend. The logic of encryption\n",
    "should be such that, for a the output should be z. For b, the output should be y. For c, the output should\n",
    "be x respectively. Also, the whitespace should be replaced with a dollar sign. Keep the punctuation\n",
    "marks unchanged.str1='I want to become a Data Scientist.'''\n",
    "\n",
    "str2=str1.lower()\n",
    "list1=list(str2)\n",
    "#print(list1)\n",
    "list2=[]\n",
    "for x in list1:\n",
    "    if x not in ['a','b','c',' ']:\n",
    "        list2.append(x)\n",
    "    else:\n",
    "        if x=='a':\n",
    "            x='z'\n",
    "            list2.append(x)\n",
    "            \n",
    "        elif x=='b':\n",
    "            x='y'\n",
    "            list2.append(x)\n",
    "        \n",
    "        elif x=='c':\n",
    "            x='x'\n",
    "            list2.append(x)\n",
    "            \n",
    "        elif x==' ':\n",
    "            x='$'\n",
    "            list2.append(x)\n",
    "            \n",
    "print(list2)\n",
    "def listtostring(list2):\n",
    "    s=''\n",
    "    for x in list2:\n",
    "        s+=x\n",
    "        \n",
    "    return s\n",
    "\n",
    "listtostring(list2)"
   ]
  },
  {
   "cell_type": "code",
   "execution_count": 49,
   "id": "d8dffcdc-0827-4c20-9d7e-576251242dec",
   "metadata": {},
   "outputs": [],
   "source": [
    "'''\n",
    "Q1. Create a function which will take a list as an argument and return the product of all the numbers\n",
    "after creating a flat list.\n",
    "Use the below-given list as an argument for your function.\n",
    "'''\n",
    "list1 = [1,2,3,4, [44,55,66, True], False, (34,56,78,89,34), {1,2,3,3,2,1}, {1:34, \"key2\": [55, 67, 78, 89], 4: (45,\n",
    "22, 61, 34)}, [56, 'data science'], 'Machine Learning']\n",
    "list2=[]\n",
    "\n",
    "    \n",
    "def listflat(l):\n",
    "    for x in  list1:\n",
    "        if type(x)==int:\n",
    "            list2.append(x)\n",
    "        elif type(x) in [list,tuple,set]:\n",
    "            for y in x:\n",
    "                if type(y)==int:\n",
    "                    list2.append(y)\n",
    "        elif type(x)==dict:\n",
    "            for z in x.keys():\n",
    "                if type(z)==int:\n",
    "                    list2.append(z)\n",
    "            for h in x.values():\n",
    "                if type(h)==int:\n",
    "                    list2.append(h)\n",
    "                elif type(h) in [list,tuple,set]:\n",
    "                    for n in h:\n",
    "                        if type(n)==int:\n",
    "                            list2.append(n)\n",
    "    return list2\n",
    "\n",
    "                "
   ]
  },
  {
   "cell_type": "code",
   "execution_count": null,
   "id": "17e36527-65ed-4e2e-b970-0437c5c919ff",
   "metadata": {},
   "outputs": [],
   "source": [
    "listlflat(list1)"
   ]
  },
  {
   "cell_type": "code",
   "execution_count": 51,
   "id": "8624e797-30b5-4745-b972-1bb0b3c692f4",
   "metadata": {},
   "outputs": [
    {
     "name": "stdout",
     "output_type": "stream",
     "text": [
      "4134711838987085478833841242112000\n"
     ]
    }
   ],
   "source": [
    "from functools import reduce\n",
    "print(reduce(lambda x,y: x*y,list2))\n",
    "                      "
   ]
  },
  {
   "cell_type": "code",
   "execution_count": null,
   "id": "e594d43d-f2da-4272-aa87-a6395f6137a0",
   "metadata": {},
   "outputs": [],
   "source": []
  }
 ],
 "metadata": {
  "kernelspec": {
   "display_name": "Python 3 (ipykernel)",
   "language": "python",
   "name": "python3"
  },
  "language_info": {
   "codemirror_mode": {
    "name": "ipython",
    "version": 3
   },
   "file_extension": ".py",
   "mimetype": "text/x-python",
   "name": "python",
   "nbconvert_exporter": "python",
   "pygments_lexer": "ipython3",
   "version": "3.10.8"
  }
 },
 "nbformat": 4,
 "nbformat_minor": 5
}

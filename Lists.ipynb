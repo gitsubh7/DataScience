{
 "cells": [
  {
   "cell_type": "code",
   "execution_count": 6,
   "id": "1fd51d0e-ddcb-4e5d-9821-68220a7c3487",
   "metadata": {},
   "outputs": [],
   "source": [
    "name=\"Data Science Master\""
   ]
  },
  {
   "cell_type": "code",
   "execution_count": 2,
   "id": "6c236f59-1c6c-4ad6-9d82-5f952ae44181",
   "metadata": {},
   "outputs": [
    {
     "data": {
      "text/plain": [
       "'dATA sCIENCE mASTER'"
      ]
     },
     "execution_count": 2,
     "metadata": {},
     "output_type": "execute_result"
    }
   ],
   "source": [
    "name.swapcase()"
   ]
  },
  {
   "cell_type": "code",
   "execution_count": 3,
   "id": "e503e430-83db-4a40-9f8b-ab086d910fc1",
   "metadata": {},
   "outputs": [
    {
     "data": {
      "text/plain": [
       "'Data Science Master'"
      ]
     },
     "execution_count": 3,
     "metadata": {},
     "output_type": "execute_result"
    }
   ],
   "source": [
    "name.title()"
   ]
  },
  {
   "cell_type": "code",
   "execution_count": 7,
   "id": "433230d8-d0e3-4478-a0ff-19e7c350456e",
   "metadata": {},
   "outputs": [
    {
     "data": {
      "text/plain": [
       "'Data science master'"
      ]
     },
     "execution_count": 7,
     "metadata": {},
     "output_type": "execute_result"
    }
   ],
   "source": [
    "name.capitalize()"
   ]
  },
  {
   "cell_type": "markdown",
   "id": "6f787488-718a-47f8-89c9-a1752d44c774",
   "metadata": {},
   "source": [
    "## REVERESING A STRING\n"
   ]
  },
  {
   "cell_type": "code",
   "execution_count": 8,
   "id": "9f8c7387-9166-4962-acf2-08791007cac0",
   "metadata": {},
   "outputs": [
    {
     "data": {
      "text/plain": [
       "'retsaM ecneicS ataD'"
      ]
     },
     "execution_count": 8,
     "metadata": {},
     "output_type": "execute_result"
    }
   ],
   "source": [
    "name[::-1]"
   ]
  },
  {
   "cell_type": "code",
   "execution_count": 9,
   "id": "9ac4ea62-def8-46ba-ab6e-d408940c0177",
   "metadata": {},
   "outputs": [
    {
     "data": {
      "text/plain": [
       "<reversed at 0x7f5ccd6c4070>"
      ]
     },
     "execution_count": 9,
     "metadata": {},
     "output_type": "execute_result"
    }
   ],
   "source": [
    "reversed(name)"
   ]
  },
  {
   "cell_type": "code",
   "execution_count": 10,
   "id": "e09c6503-a549-4094-8d71-adb7d96b6afd",
   "metadata": {},
   "outputs": [
    {
     "data": {
      "text/plain": [
       "'Data Science Master'"
      ]
     },
     "execution_count": 10,
     "metadata": {},
     "output_type": "execute_result"
    }
   ],
   "source": [
    "name"
   ]
  },
  {
   "cell_type": "code",
   "execution_count": 11,
   "id": "ff9f341c-a241-4360-837c-f62fecffe83e",
   "metadata": {},
   "outputs": [
    {
     "ename": "NameError",
     "evalue": "name 'join' is not defined",
     "output_type": "error",
     "traceback": [
      "\u001b[0;31m---------------------------------------------------------------------------\u001b[0m",
      "\u001b[0;31mNameError\u001b[0m                                 Traceback (most recent call last)",
      "Cell \u001b[0;32mIn[11], line 1\u001b[0m\n\u001b[0;32m----> 1\u001b[0m \u001b[43mjoin\u001b[49m(\u001b[38;5;28mreversed\u001b[39m(name))\n",
      "\u001b[0;31mNameError\u001b[0m: name 'join' is not defined"
     ]
    }
   ],
   "source": [
    "join(reversed(name))"
   ]
  },
  {
   "cell_type": "code",
   "execution_count": 12,
   "id": "0d3f596b-c568-421e-9c70-849c888f9d40",
   "metadata": {},
   "outputs": [
    {
     "data": {
      "text/plain": [
       "'r e t s a M   e c n e i c S   a t a D'"
      ]
     },
     "execution_count": 12,
     "metadata": {},
     "output_type": "execute_result"
    }
   ],
   "source": [
    "' '.join(reversed(name))"
   ]
  },
  {
   "cell_type": "code",
   "execution_count": 13,
   "id": "827c6d83-d5f6-4279-8e64-a84d46830e95",
   "metadata": {},
   "outputs": [
    {
     "data": {
      "text/plain": [
       "'NKrishaKrishiKrishk'"
      ]
     },
     "execution_count": 13,
     "metadata": {},
     "output_type": "execute_result"
    }
   ],
   "source": [
    "'Krish'.join(\"Naik\")"
   ]
  },
  {
   "cell_type": "code",
   "execution_count": 14,
   "id": "34efcb03-7829-4b3a-9a75-8fa9e3041f11",
   "metadata": {},
   "outputs": [
    {
     "data": {
      "text/plain": [
       "'a'"
      ]
     },
     "execution_count": 14,
     "metadata": {},
     "output_type": "execute_result"
    }
   ],
   "source": [
    "'Krish'.join(\"a\")"
   ]
  },
  {
   "cell_type": "code",
   "execution_count": 15,
   "id": "59ad5453-c2f5-4466-938a-5438a7ec5d25",
   "metadata": {},
   "outputs": [
    {
     "data": {
      "text/plain": [
       "'a b c d'"
      ]
     },
     "execution_count": 15,
     "metadata": {},
     "output_type": "execute_result"
    }
   ],
   "source": [
    "' '.join(\"abcd\")"
   ]
  },
  {
   "cell_type": "code",
   "execution_count": 17,
   "id": "243dca0a-eae3-42d5-b2eb-a392e6f81a93",
   "metadata": {},
   "outputs": [
    {
     "data": {
      "text/plain": [
       "'t n a'"
      ]
     },
     "execution_count": 17,
     "metadata": {},
     "output_type": "execute_result"
    }
   ],
   "source": [
    "' '.join(reversed(\"ant\"))"
   ]
  },
  {
   "cell_type": "code",
   "execution_count": 18,
   "id": "7c526a71-259f-4f3d-9b75-91f93c33558b",
   "metadata": {},
   "outputs": [
    {
     "data": {
      "text/plain": [
       "'a b c d'"
      ]
     },
     "execution_count": 18,
     "metadata": {},
     "output_type": "execute_result"
    }
   ],
   "source": [
    "' '.join(\"abcd\")"
   ]
  },
  {
   "cell_type": "code",
   "execution_count": 19,
   "id": "f1acdcc7-49fd-4e58-b756-5761596b0413",
   "metadata": {},
   "outputs": [
    {
     "data": {
      "text/plain": [
       "'t Pwskills n Pwskills a'"
      ]
     },
     "execution_count": 19,
     "metadata": {},
     "output_type": "execute_result"
    }
   ],
   "source": [
    "' Pwskills '.join(reversed(\"ant\"))"
   ]
  },
  {
   "cell_type": "code",
   "execution_count": 2,
   "id": "8bfb845c-a7fc-47f6-b81f-30aca7dffa49",
   "metadata": {},
   "outputs": [
    {
     "data": {
      "text/plain": [
       "['t', 'n', 'a']"
      ]
     },
     "execution_count": 2,
     "metadata": {},
     "output_type": "execute_result"
    }
   ],
   "source": [
    "#typecasting\n",
    "list(reversed(\"ant\"))"
   ]
  },
  {
   "cell_type": "code",
   "execution_count": 23,
   "id": "ca4a18ed-c246-4a58-82eb-6e491f8fef3c",
   "metadata": {},
   "outputs": [],
   "source": [
    "str1=\"PW is a good company\""
   ]
  },
  {
   "cell_type": "code",
   "execution_count": 24,
   "id": "d105943f-ef31-4704-afc7-2631caa5624f",
   "metadata": {},
   "outputs": [
    {
     "data": {
      "text/plain": [
       "'PSkillsWSkills SkillsiSkillssSkills SkillsaSkills SkillsgSkillsoSkillsoSkillsdSkills SkillscSkillsoSkillsmSkillspSkillsaSkillsnSkillsy'"
      ]
     },
     "execution_count": 24,
     "metadata": {},
     "output_type": "execute_result"
    }
   ],
   "source": [
    "\"Skills\".join(str1)"
   ]
  },
  {
   "cell_type": "code",
   "execution_count": 25,
   "id": "d436a059-5bbc-45d6-bfba-d77e14c25bb3",
   "metadata": {},
   "outputs": [],
   "source": [
    "str1=\"PW is a good company\""
   ]
  },
  {
   "cell_type": "code",
   "execution_count": 28,
   "id": "f7db2597-acdc-423c-bf2a-34295067d0db",
   "metadata": {},
   "outputs": [
    {
     "name": "stdout",
     "output_type": "stream",
     "text": [
      "retsaM ecneicS ataD"
     ]
    }
   ],
   "source": [
    "for i in list(reversed(name)):\n",
    "    print(i,end='')"
   ]
  },
  {
   "cell_type": "code",
   "execution_count": 32,
   "id": "9c68f7cb-c5f9-4e2c-bc7d-e34ac1cb799b",
   "metadata": {},
   "outputs": [
    {
     "data": {
      "text/plain": [
       "'pwskills'"
      ]
     },
     "execution_count": 32,
     "metadata": {},
     "output_type": "execute_result"
    }
   ],
   "source": [
    "string_a=\" pwskills \"\n",
    "string_a.strip(\" \")"
   ]
  },
  {
   "cell_type": "code",
   "execution_count": 33,
   "id": "98461a64-e447-4b86-94c8-aca116a2869b",
   "metadata": {},
   "outputs": [
    {
     "data": {
      "text/plain": [
       "'pwskills '"
      ]
     },
     "execution_count": 33,
     "metadata": {},
     "output_type": "execute_result"
    }
   ],
   "source": [
    "string_a.lstrip()"
   ]
  },
  {
   "cell_type": "code",
   "execution_count": 34,
   "id": "8cb422b4-9acb-42b2-bcc8-7e9ebf3ca8d0",
   "metadata": {},
   "outputs": [
    {
     "data": {
      "text/plain": [
       "' pwskills'"
      ]
     },
     "execution_count": 34,
     "metadata": {},
     "output_type": "execute_result"
    }
   ],
   "source": [
    "string_a.rstrip()"
   ]
  },
  {
   "cell_type": "code",
   "execution_count": 37,
   "id": "242c3613-b6be-487a-8d13-a83284faf774",
   "metadata": {},
   "outputs": [
    {
     "data": {
      "text/plain": [
       "'Greeting from PWSkills'"
      ]
     },
     "execution_count": 37,
     "metadata": {},
     "output_type": "execute_result"
    }
   ],
   "source": [
    "string_n=\"Greeting to PWSkills\"\n",
    "string_n.replace(\"to\",\"from\") \n",
    "#returns a newstring with the same name (copy) (all the occurences)"
   ]
  },
  {
   "cell_type": "code",
   "execution_count": 38,
   "id": "b47ff65c-3f90-4d4f-8b49-8fa45c5e36bb",
   "metadata": {},
   "outputs": [],
   "source": [
    "# in strings u can replace words but not characters and not assign"
   ]
  },
  {
   "cell_type": "code",
   "execution_count": 39,
   "id": "19ff5a19-0f81-4e8d-b371-80b0de1faf7d",
   "metadata": {},
   "outputs": [],
   "source": [
    "name=\"Krish\""
   ]
  },
  {
   "cell_type": "code",
   "execution_count": 40,
   "id": "f76ee208-9547-41cb-bd7c-02fd9789b992",
   "metadata": {},
   "outputs": [],
   "source": [
    "name=\"pwskills\""
   ]
  },
  {
   "cell_type": "code",
   "execution_count": 41,
   "id": "1e3db301-aee0-4f36-b7f0-3a6420b04f39",
   "metadata": {},
   "outputs": [
    {
     "data": {
      "text/plain": [
       "'pwskills'"
      ]
     },
     "execution_count": 41,
     "metadata": {},
     "output_type": "execute_result"
    }
   ],
   "source": [
    "name"
   ]
  },
  {
   "cell_type": "code",
   "execution_count": 45,
   "id": "b5865397-d00e-4a7d-b8b4-a6cf8b1516ca",
   "metadata": {},
   "outputs": [],
   "source": [
    "string_n=\"Greeting to PWSkills\"\n",
    "var_a=string_n.replace(\"G\",\"T\") "
   ]
  },
  {
   "cell_type": "code",
   "execution_count": 46,
   "id": "f053cd1f-fa8b-458f-9aae-f7557a9b4114",
   "metadata": {},
   "outputs": [
    {
     "name": "stdout",
     "output_type": "stream",
     "text": [
      "140036408743600\n",
      "140036408789152\n"
     ]
    }
   ],
   "source": [
    "print(id(string_n))\n",
    "print(id(var_a))"
   ]
  },
  {
   "cell_type": "code",
   "execution_count": 47,
   "id": "e2eeafec-1e64-4882-86c0-0696c3a4234d",
   "metadata": {},
   "outputs": [],
   "source": [
    "string_g=\"test@gmail.com\"\n",
    "var_b=string_g.replace(\"@\",' ')"
   ]
  },
  {
   "cell_type": "code",
   "execution_count": 48,
   "id": "b21054ee-2549-4282-9a08-f8c397929d07",
   "metadata": {},
   "outputs": [
    {
     "data": {
      "text/plain": [
       "'test gmail.com'"
      ]
     },
     "execution_count": 48,
     "metadata": {},
     "output_type": "execute_result"
    }
   ],
   "source": [
    "var_b"
   ]
  },
  {
   "cell_type": "code",
   "execution_count": 49,
   "id": "b547b3de-c1da-49e8-849a-3a9db39b18c3",
   "metadata": {},
   "outputs": [
    {
     "data": {
      "text/plain": [
       "'hello   world'"
      ]
     },
     "execution_count": 49,
     "metadata": {},
     "output_type": "execute_result"
    }
   ],
   "source": [
    "\"hello \\tworld\".expandtabs()"
   ]
  },
  {
   "cell_type": "code",
   "execution_count": 50,
   "id": "726ed619-0191-4d2a-941c-38a684054a00",
   "metadata": {},
   "outputs": [
    {
     "data": {
      "text/plain": [
       "'hello \\n world'"
      ]
     },
     "execution_count": 50,
     "metadata": {},
     "output_type": "execute_result"
    }
   ],
   "source": [
    "\"hello \\n world\""
   ]
  },
  {
   "cell_type": "code",
   "execution_count": 51,
   "id": "baf5f1a2-c68e-4488-9501-c0c08e2c3dcd",
   "metadata": {},
   "outputs": [],
   "source": [
    "str2=\"Welcome to pwskills.Welcome to Dat cience Masters\""
   ]
  },
  {
   "cell_type": "code",
   "execution_count": 52,
   "id": "73f0de26-8e30-4a4b-a017-5e9359481886",
   "metadata": {},
   "outputs": [
    {
     "data": {
      "text/plain": [
       "'Welcome to pwskills.Welcome to Data Science Masters'"
      ]
     },
     "execution_count": 52,
     "metadata": {},
     "output_type": "execute_result"
    }
   ],
   "source": [
    "str2.replace(\"Dat\",\"Data\").replace(\"cience\",\"Science\")"
   ]
  },
  {
   "cell_type": "code",
   "execution_count": 53,
   "id": "20366d67-27cc-4aaa-84c3-eef7ff0a93dd",
   "metadata": {},
   "outputs": [
    {
     "data": {
      "text/plain": [
       "False"
      ]
     },
     "execution_count": 53,
     "metadata": {},
     "output_type": "execute_result"
    }
   ],
   "source": [
    "str1.isupper()"
   ]
  },
  {
   "cell_type": "code",
   "execution_count": 54,
   "id": "2e2c4271-7ff8-4878-abb7-82e51adaca81",
   "metadata": {},
   "outputs": [
    {
     "data": {
      "text/plain": [
       "False"
      ]
     },
     "execution_count": 54,
     "metadata": {},
     "output_type": "execute_result"
    }
   ],
   "source": [
    "str1.islower()"
   ]
  },
  {
   "cell_type": "code",
   "execution_count": 55,
   "id": "f3d103c6-1bb5-42db-8327-8f684be84036",
   "metadata": {},
   "outputs": [
    {
     "data": {
      "text/plain": [
       "False"
      ]
     },
     "execution_count": 55,
     "metadata": {},
     "output_type": "execute_result"
    }
   ],
   "source": [
    "str1.isspace()"
   ]
  },
  {
   "cell_type": "code",
   "execution_count": 56,
   "id": "bf97fb7a-085d-4696-8e1a-3bb2fae3d3a7",
   "metadata": {},
   "outputs": [
    {
     "data": {
      "text/plain": [
       "True"
      ]
     },
     "execution_count": 56,
     "metadata": {},
     "output_type": "execute_result"
    }
   ],
   "source": [
    "' '.isspace()"
   ]
  },
  {
   "cell_type": "code",
   "execution_count": 57,
   "id": "5f20ffce-2e68-4c32-aabe-a9ee1b1080c3",
   "metadata": {},
   "outputs": [
    {
     "name": "stdout",
     "output_type": "stream",
     "text": [
      "Hello\n"
     ]
    }
   ],
   "source": [
    "if ' '.isspace():\n",
    "    print(\"Hello\")"
   ]
  },
  {
   "cell_type": "code",
   "execution_count": 58,
   "id": "465fd869-f412-4662-b9f3-3e8654227702",
   "metadata": {},
   "outputs": [
    {
     "data": {
      "text/plain": [
       "True"
      ]
     },
     "execution_count": 58,
     "metadata": {},
     "output_type": "execute_result"
    }
   ],
   "source": [
    "str3=\"Abdul Subhan\"\n",
    "str3.endswith('n')"
   ]
  },
  {
   "cell_type": "code",
   "execution_count": 60,
   "id": "0cfc376c-db2b-4401-a876-b8cf20e5b1d4",
   "metadata": {},
   "outputs": [
    {
     "data": {
      "text/plain": [
       "True"
      ]
     },
     "execution_count": 60,
     "metadata": {},
     "output_type": "execute_result"
    }
   ],
   "source": [
    "str3.startswith('A')"
   ]
  },
  {
   "cell_type": "code",
   "execution_count": 62,
   "id": "02079da1-a73e-4959-aa08-ff2cf2c7fe70",
   "metadata": {},
   "outputs": [
    {
     "data": {
      "text/plain": [
       "True"
      ]
     },
     "execution_count": 62,
     "metadata": {},
     "output_type": "execute_result"
    }
   ],
   "source": [
    "#check if all the char in string are alpha numeric\n",
    "a=\"abcd1234\"\n",
    "a.isalnum()"
   ]
  },
  {
   "cell_type": "code",
   "execution_count": 63,
   "id": "3a0ec407-c3d9-4851-801e-b7952066a74a",
   "metadata": {},
   "outputs": [
    {
     "name": "stdout",
     "output_type": "stream",
     "text": [
      "49\n"
     ]
    }
   ],
   "source": [
    "#to count number of character in string\n",
    "count=0\n",
    "for i in str2:\n",
    "    count  +=1\n",
    "print(count)"
   ]
  },
  {
   "cell_type": "code",
   "execution_count": 64,
   "id": "6f5ef88c-1ade-4cae-9d68-febc8205ff9a",
   "metadata": {},
   "outputs": [
    {
     "ename": "SyntaxError",
     "evalue": "incomplete input (2499611509.py, line 1)",
     "output_type": "error",
     "traceback": [
      "\u001b[0;36m  Cell \u001b[0;32mIn[64], line 1\u001b[0;36m\u001b[0m\n\u001b[0;31m    len(str2(\u001b[0m\n\u001b[0m             ^\u001b[0m\n\u001b[0;31mSyntaxError\u001b[0m\u001b[0;31m:\u001b[0m incomplete input\n"
     ]
    }
   ],
   "source": [
    "len(str2("
   ]
  },
  {
   "cell_type": "code",
   "execution_count": 65,
   "id": "5e759a93-733d-4e49-ba41-d56bf45d945e",
   "metadata": {},
   "outputs": [
    {
     "data": {
      "text/plain": [
       "49"
      ]
     },
     "execution_count": 65,
     "metadata": {},
     "output_type": "execute_result"
    }
   ],
   "source": [
    "len(str2)"
   ]
  },
  {
   "cell_type": "code",
   "execution_count": 66,
   "id": "60cbe008-876e-4f82-8fe3-e3dddf967475",
   "metadata": {},
   "outputs": [
    {
     "data": {
      "text/plain": [
       "'Welcome to pwskills.Welcome to Dat cience Masters'"
      ]
     },
     "execution_count": 66,
     "metadata": {},
     "output_type": "execute_result"
    }
   ],
   "source": [
    "str2"
   ]
  },
  {
   "cell_type": "code",
   "execution_count": 67,
   "id": "2c569311-e804-41af-8598-05a3998a9837",
   "metadata": {},
   "outputs": [
    {
     "name": "stdout",
     "output_type": "stream",
     "text": [
      "W\n",
      "e\n",
      "l\n",
      "c\n",
      "o\n",
      "m\n",
      "e\n",
      " \n",
      "t\n",
      "o\n",
      " \n",
      "p\n",
      "w\n",
      "s\n",
      "k\n",
      "i\n",
      "l\n",
      "l\n",
      "s\n",
      ".\n",
      "W\n",
      "e\n",
      "l\n",
      "c\n",
      "o\n",
      "m\n",
      "e\n",
      " \n",
      "t\n",
      "o\n",
      " \n",
      "D\n",
      "a\n",
      "t\n",
      " \n",
      "c\n",
      "i\n",
      "e\n",
      "n\n",
      "c\n",
      "e\n",
      " \n",
      "M\n",
      "a\n",
      "s\n",
      "t\n",
      "e\n",
      "r\n",
      "s\n"
     ]
    }
   ],
   "source": [
    "for i in str2:\n",
    "    print(i)"
   ]
  },
  {
   "cell_type": "code",
   "execution_count": 69,
   "id": "ad8e18dd-68c6-4d46-8c48-f04396cb87ce",
   "metadata": {},
   "outputs": [
    {
     "name": "stdout",
     "output_type": "stream",
     "text": [
      "W\n",
      "e\n",
      "l\n",
      "c\n",
      "o\n",
      "m\n",
      "e\n",
      " \n",
      "t\n",
      "o\n",
      " \n",
      "p\n",
      "w\n",
      "s\n",
      "k\n",
      "i\n",
      "l\n",
      "l\n",
      "s\n",
      ".\n",
      "W\n",
      "e\n",
      "l\n",
      "c\n",
      "o\n",
      "m\n",
      "e\n",
      " \n",
      "t\n",
      "o\n",
      " \n",
      "D\n",
      "a\n",
      "t\n",
      " \n",
      "c\n",
      "i\n",
      "e\n",
      "n\n",
      "c\n",
      "e\n",
      " \n",
      "M\n",
      "a\n",
      "s\n",
      "t\n",
      "e\n",
      "r\n",
      "s\n"
     ]
    }
   ],
   "source": [
    "for i in range(len(str2)):\n",
    "    print(str2[i])"
   ]
  },
  {
   "cell_type": "code",
   "execution_count": 70,
   "id": "c9eb95f5-ab60-444b-b0bd-14425c1bc8bc",
   "metadata": {},
   "outputs": [
    {
     "name": "stdout",
     "output_type": "stream",
     "text": [
      "0 = W\n",
      "1 = e\n",
      "2 = l\n",
      "3 = c\n",
      "4 = o\n",
      "5 = m\n",
      "6 = e\n",
      "7 =  \n",
      "8 = t\n",
      "9 = o\n",
      "10 =  \n",
      "11 = p\n",
      "12 = w\n",
      "13 = s\n",
      "14 = k\n",
      "15 = i\n",
      "16 = l\n",
      "17 = l\n",
      "18 = s\n",
      "19 = .\n",
      "20 = W\n",
      "21 = e\n",
      "22 = l\n",
      "23 = c\n",
      "24 = o\n",
      "25 = m\n",
      "26 = e\n",
      "27 =  \n",
      "28 = t\n",
      "29 = o\n",
      "30 =  \n",
      "31 = D\n",
      "32 = a\n",
      "33 = t\n",
      "34 =  \n",
      "35 = c\n",
      "36 = i\n",
      "37 = e\n",
      "38 = n\n",
      "39 = c\n",
      "40 = e\n",
      "41 =  \n",
      "42 = M\n",
      "43 = a\n",
      "44 = s\n",
      "45 = t\n",
      "46 = e\n",
      "47 = r\n",
      "48 = s\n"
     ]
    }
   ],
   "source": [
    "for i in range(len(str2)):\n",
    "    print(i,\"=\",str2[i])"
   ]
  },
  {
   "cell_type": "code",
   "execution_count": 71,
   "id": "692b86fd-3f88-4bd6-b7c2-f6a5f346e042",
   "metadata": {},
   "outputs": [],
   "source": [
    "#we can use index to iteratre string reverse direction\n"
   ]
  },
  {
   "cell_type": "code",
   "execution_count": 72,
   "id": "47172700-31eb-4a9d-9821-8018f97c9426",
   "metadata": {},
   "outputs": [
    {
     "name": "stdout",
     "output_type": "stream",
     "text": [
      "s\n",
      "r\n",
      "e\n",
      "t\n",
      "s\n",
      "a\n",
      "M\n",
      " \n",
      "e\n",
      "c\n",
      "n\n",
      "e\n",
      "i\n",
      "c\n",
      " \n",
      "t\n",
      "a\n",
      "D\n",
      " \n",
      "o\n",
      "t\n",
      " \n",
      "e\n",
      "m\n",
      "o\n",
      "c\n",
      "l\n",
      "e\n",
      "W\n",
      ".\n",
      "s\n",
      "l\n",
      "l\n",
      "i\n",
      "k\n",
      "s\n",
      "w\n",
      "p\n",
      " \n",
      "o\n",
      "t\n",
      " \n",
      "e\n",
      "m\n",
      "o\n",
      "c\n",
      "l\n",
      "e\n",
      "W\n"
     ]
    }
   ],
   "source": [
    "for i in range(len(str2)-1,-1,-1):\n",
    "    print(str2[i])\n",
    "    "
   ]
  },
  {
   "cell_type": "code",
   "execution_count": 74,
   "id": "3ea01dab-1e9c-4c10-a398-27bc3c30f597",
   "metadata": {},
   "outputs": [
    {
     "name": "stdout",
     "output_type": "stream",
     "text": [
      "s\n",
      "l\n",
      "l\n",
      "i\n",
      "k\n",
      "s\n",
      "w\n",
      "p\n"
     ]
    }
   ],
   "source": [
    "string =\"pwskills\"\n",
    "ch=len(string)-1\n",
    "while ch>=0:\n",
    "    print(string[ch])\n",
    "    ch=ch-1"
   ]
  },
  {
   "cell_type": "code",
   "execution_count": 76,
   "id": "2516872a-bc56-4da0-83b2-2ba9a2b13403",
   "metadata": {},
   "outputs": [
    {
     "name": "stdout",
     "output_type": "stream",
     "text": [
      "nahbus"
     ]
    }
   ],
   "source": [
    "string=\"subhan\"\n",
    "for i in range(len(string)):\n",
    "    print(string[len(string)-(i+1)],end='')"
   ]
  },
  {
   "cell_type": "code",
   "execution_count": 77,
   "id": "c0f4cac0-50f1-43f1-81dd-b86cd8c235df",
   "metadata": {},
   "outputs": [],
   "source": [
    "Name=\"pwskills\"\n",
    "vowels=\"AaEeIiOoUu\""
   ]
  },
  {
   "cell_type": "code",
   "execution_count": 83,
   "id": "6e712b3e-a88c-4f33-8829-4a8dc75aa17a",
   "metadata": {},
   "outputs": [
    {
     "name": "stdout",
     "output_type": "stream",
     "text": [
      "p is not a  voweL\n",
      "w is not a  voweL\n",
      "s is not a  voweL\n",
      "k is not a  voweL\n",
      "i is a vowel\n",
      "l is not a  voweL\n",
      "l is not a  voweL\n",
      "s is not a  voweL\n"
     ]
    }
   ],
   "source": [
    "for ch in Name:\n",
    "    if ch in vowels:\n",
    "        print(\"{} is a vowel\".format(ch))\n",
    "    else:\n",
    "        print(\"{} is not a  voweL\".format(ch))"
   ]
  },
  {
   "cell_type": "code",
   "execution_count": 84,
   "id": "715c66fb-d6f7-426f-ab7a-a0f3a078c9de",
   "metadata": {},
   "outputs": [
    {
     "data": {
      "text/plain": [
       "list"
      ]
     },
     "execution_count": 84,
     "metadata": {},
     "output_type": "execute_result"
    }
   ],
   "source": [
    "type([])\n"
   ]
  },
  {
   "cell_type": "code",
   "execution_count": 85,
   "id": "7f90ca8f-e007-40c6-b5a6-3bfd5cd0864b",
   "metadata": {},
   "outputs": [],
   "source": [
    "a=['Krish','Naik','PwSkills']"
   ]
  },
  {
   "cell_type": "code",
   "execution_count": 86,
   "id": "07cd7632-f677-46f7-90fd-ab4f4dc55e88",
   "metadata": {},
   "outputs": [
    {
     "data": {
      "text/plain": [
       "list"
      ]
     },
     "execution_count": 86,
     "metadata": {},
     "output_type": "execute_result"
    }
   ],
   "source": [
    "type(a)"
   ]
  },
  {
   "cell_type": "code",
   "execution_count": 87,
   "id": "c0912f8a-1926-48be-a33f-5d3f7db1e20c",
   "metadata": {},
   "outputs": [
    {
     "data": {
      "text/plain": [
       "[1, 2, 3, 4]"
      ]
     },
     "execution_count": 87,
     "metadata": {},
     "output_type": "execute_result"
    }
   ],
   "source": [
    "list([1,2,3,4])"
   ]
  },
  {
   "cell_type": "code",
   "execution_count": 88,
   "id": "d1244951-5fde-4bdf-a8f5-56157d44d6ab",
   "metadata": {},
   "outputs": [
    {
     "data": {
      "text/plain": [
       "'PW is a good company'"
      ]
     },
     "execution_count": 88,
     "metadata": {},
     "output_type": "execute_result"
    }
   ],
   "source": [
    "str1"
   ]
  },
  {
   "cell_type": "code",
   "execution_count": 89,
   "id": "8674fc08-96dc-4744-bb5f-5b93fd5e5cc9",
   "metadata": {},
   "outputs": [
    {
     "data": {
      "text/plain": [
       "'Welcome to pwskills.Welcome to Dat cience Masters'"
      ]
     },
     "execution_count": 89,
     "metadata": {},
     "output_type": "execute_result"
    }
   ],
   "source": [
    "str2"
   ]
  },
  {
   "cell_type": "code",
   "execution_count": 90,
   "id": "2481b916-b461-403a-b952-94c33dce0b12",
   "metadata": {},
   "outputs": [
    {
     "data": {
      "text/plain": [
       "['P',\n",
       " 'W',\n",
       " ' ',\n",
       " 'i',\n",
       " 's',\n",
       " ' ',\n",
       " 'a',\n",
       " ' ',\n",
       " 'g',\n",
       " 'o',\n",
       " 'o',\n",
       " 'd',\n",
       " ' ',\n",
       " 'c',\n",
       " 'o',\n",
       " 'm',\n",
       " 'p',\n",
       " 'a',\n",
       " 'n',\n",
       " 'y']"
      ]
     },
     "execution_count": 90,
     "metadata": {},
     "output_type": "execute_result"
    }
   ],
   "source": [
    "list(str1)"
   ]
  },
  {
   "cell_type": "code",
   "execution_count": 93,
   "id": "0dc749e9-ca03-4676-86ad-82af1d54217c",
   "metadata": {},
   "outputs": [],
   "source": [
    "str1=\"Abdul Subhan is my name\""
   ]
  },
  {
   "cell_type": "code",
   "execution_count": 94,
   "id": "172279e5-d7bd-4bda-b532-f7224580e92a",
   "metadata": {},
   "outputs": [
    {
     "data": {
      "text/plain": [
       "['A',\n",
       " 'b',\n",
       " 'd',\n",
       " 'u',\n",
       " 'l',\n",
       " ' ',\n",
       " 'S',\n",
       " 'u',\n",
       " 'b',\n",
       " 'h',\n",
       " 'a',\n",
       " 'n',\n",
       " ' ',\n",
       " 'i',\n",
       " 's',\n",
       " ' ',\n",
       " 'm',\n",
       " 'y',\n",
       " ' ',\n",
       " 'n',\n",
       " 'a',\n",
       " 'm',\n",
       " 'e']"
      ]
     },
     "execution_count": 94,
     "metadata": {},
     "output_type": "execute_result"
    }
   ],
   "source": [
    "list(str1)"
   ]
  },
  {
   "cell_type": "code",
   "execution_count": 98,
   "id": "9d9c46db-035e-4397-a2ba-9bce1bbc3b34",
   "metadata": {},
   "outputs": [],
   "source": [
    "lst=list(str1.split(\" \"))"
   ]
  },
  {
   "cell_type": "code",
   "execution_count": 96,
   "id": "94aaf428-884d-4adc-b57d-52be9dd009b6",
   "metadata": {},
   "outputs": [
    {
     "data": {
      "text/plain": [
       "['Abdul', 'Subhan', 'is', 'my', 'name']"
      ]
     },
     "execution_count": 96,
     "metadata": {},
     "output_type": "execute_result"
    }
   ],
   "source": [
    "str1.split(\" \")"
   ]
  },
  {
   "cell_type": "code",
   "execution_count": 99,
   "id": "ac69078e-eebb-40c6-9116-b338f83f6bc5",
   "metadata": {},
   "outputs": [
    {
     "data": {
      "text/plain": [
       "'Subhan'"
      ]
     },
     "execution_count": 99,
     "metadata": {},
     "output_type": "execute_result"
    }
   ],
   "source": [
    "lst[1]"
   ]
  },
  {
   "cell_type": "code",
   "execution_count": 101,
   "id": "02ac3610-740d-4ad8-be5c-4127bfbdc36e",
   "metadata": {},
   "outputs": [
    {
     "data": {
      "text/plain": [
       "['name', 'is', 'Abdul']"
      ]
     },
     "execution_count": 101,
     "metadata": {},
     "output_type": "execute_result"
    }
   ],
   "source": [
    "lst[::-2]"
   ]
  },
  {
   "cell_type": "code",
   "execution_count": 102,
   "id": "66867121-608f-44dc-a25c-aa903d12ed60",
   "metadata": {},
   "outputs": [
    {
     "ename": "NameError",
     "evalue": "name 'last' is not defined",
     "output_type": "error",
     "traceback": [
      "\u001b[0;31m---------------------------------------------------------------------------\u001b[0m",
      "\u001b[0;31mNameError\u001b[0m                                 Traceback (most recent call last)",
      "Cell \u001b[0;32mIn[102], line 1\u001b[0m\n\u001b[0;32m----> 1\u001b[0m \u001b[43mlast\u001b[49m\n",
      "\u001b[0;31mNameError\u001b[0m: name 'last' is not defined"
     ]
    }
   ],
   "source": [
    "last"
   ]
  },
  {
   "cell_type": "code",
   "execution_count": 103,
   "id": "9bd9f24d-e8c6-46c4-94bc-4d36563525e0",
   "metadata": {},
   "outputs": [
    {
     "data": {
      "text/plain": [
       "['Abdul', 'Subhan', 'is', 'my', 'name']"
      ]
     },
     "execution_count": 103,
     "metadata": {},
     "output_type": "execute_result"
    }
   ],
   "source": [
    "lst"
   ]
  },
  {
   "cell_type": "code",
   "execution_count": 106,
   "id": "1b264a9f-ea5d-4ff4-ba13-fd7210f47d08",
   "metadata": {},
   "outputs": [],
   "source": [
    "#CONCATENATION OPERATIOM\n",
    "lst2 =lst+ [[\"new element\",3]]"
   ]
  },
  {
   "cell_type": "code",
   "execution_count": 107,
   "id": "87c8c597-5091-407a-866a-7d9d9c888d28",
   "metadata": {},
   "outputs": [
    {
     "name": "stdout",
     "output_type": "stream",
     "text": [
      "['Abdul', 'Subhan', 'is', 'my', 'name', ['new element', 3]]\n"
     ]
    }
   ],
   "source": [
    "print(lst2)"
   ]
  },
  {
   "cell_type": "code",
   "execution_count": 108,
   "id": "a712a8fc-f792-4e1f-b48f-b2ff72cad9be",
   "metadata": {},
   "outputs": [
    {
     "data": {
      "text/plain": [
       "['new element', 3]"
      ]
     },
     "execution_count": 108,
     "metadata": {},
     "output_type": "execute_result"
    }
   ],
   "source": [
    "lst2[-1]"
   ]
  },
  {
   "cell_type": "code",
   "execution_count": 112,
   "id": "e8a6115e-fd0d-414a-8a22-86e7548d7145",
   "metadata": {},
   "outputs": [
    {
     "data": {
      "text/plain": [
       "'new element'"
      ]
     },
     "execution_count": 112,
     "metadata": {},
     "output_type": "execute_result"
    }
   ],
   "source": [
    "lst2[-1][0]\n"
   ]
  },
  {
   "cell_type": "code",
   "execution_count": 113,
   "id": "79f36c39-9841-4a44-851e-4d334e9a87ce",
   "metadata": {},
   "outputs": [
    {
     "data": {
      "text/plain": [
       "['Abdul', 'Subhan', 'is', 'my', 'name', 'Abdul', 'Subhan', 'is', 'my', 'name']"
      ]
     },
     "execution_count": 113,
     "metadata": {},
     "output_type": "execute_result"
    }
   ],
   "source": [
    "lst*2"
   ]
  },
  {
   "cell_type": "code",
   "execution_count": 121,
   "id": "4bf20940-3f99-47ab-86ea-e196ab823c58",
   "metadata": {},
   "outputs": [
    {
     "name": "stdout",
     "output_type": "stream",
     "text": [
      "abdul\n",
      "subhan\n",
      "science\n"
     ]
    }
   ],
   "source": [
    "lst=['abdul', 'subhan','science','maths']\n",
    "for x in lst:\n",
    "    print(x)\n",
    "    if x ==\"science\":\n",
    "    #if Science in lst:\n",
    "        break"
   ]
  },
  {
   "cell_type": "code",
   "execution_count": 126,
   "id": "4ee1ef3d-1ec8-4efa-bd5c-a07c19fdcd1b",
   "metadata": {},
   "outputs": [
    {
     "name": "stdout",
     "output_type": "stream",
     "text": [
      "True\n",
      "False\n"
     ]
    }
   ],
   "source": [
    "#check elements in a list\n",
    "list2=[1,2,3,4,5]\n",
    "print(2.0 in list2)\n",
    "print(6 in list2)"
   ]
  },
  {
   "cell_type": "code",
   "execution_count": 127,
   "id": "d985eacc-bf04-4c43-8fb0-21f9d498cc80",
   "metadata": {},
   "outputs": [],
   "source": [
    "lst5=[\"Zebra\",\"Monkey\",\"Lion\",'Donkey']"
   ]
  },
  {
   "cell_type": "code",
   "execution_count": 129,
   "id": "d98f219f-c9ef-4957-a5dc-a2b137eec47c",
   "metadata": {},
   "outputs": [
    {
     "name": "stdout",
     "output_type": "stream",
     "text": [
      "Zebra\n"
     ]
    }
   ],
   "source": [
    "print(max(lst5))"
   ]
  },
  {
   "cell_type": "code",
   "execution_count": 130,
   "id": "d4daec5a-28b2-4b46-959e-541e6a008f48",
   "metadata": {},
   "outputs": [],
   "source": [
    "##APPEND\n"
   ]
  },
  {
   "cell_type": "code",
   "execution_count": 131,
   "id": "d5a9c301-a726-48d0-9e30-c198ce2f222f",
   "metadata": {},
   "outputs": [],
   "source": [
    "lst=[1,2,3,4,5,6]"
   ]
  },
  {
   "cell_type": "code",
   "execution_count": 139,
   "id": "d889e03b-e7de-4059-a287-7bd102f9b50f",
   "metadata": {},
   "outputs": [],
   "source": [
    "lst.append(7)  #list gets updated"
   ]
  },
  {
   "cell_type": "code",
   "execution_count": 133,
   "id": "45569b74-72a3-4024-90ce-c600a1192778",
   "metadata": {},
   "outputs": [
    {
     "data": {
      "text/plain": [
       "[1, 2, 3, 4, 5, 6, 7]"
      ]
     },
     "execution_count": 133,
     "metadata": {},
     "output_type": "execute_result"
    }
   ],
   "source": [
    "lst"
   ]
  },
  {
   "cell_type": "code",
   "execution_count": 137,
   "id": "a68059eb-f57c-4f20-834c-e8635e8eaefc",
   "metadata": {},
   "outputs": [],
   "source": []
  },
  {
   "cell_type": "code",
   "execution_count": 145,
   "id": "3e9cb59d-14a2-461a-a4a4-ae2d6d2fed91",
   "metadata": {},
   "outputs": [],
   "source": [
    "lst.append(['DATA','SCIENCE','MASTERS']) #inplace operation(updates thelist)"
   ]
  },
  {
   "cell_type": "code",
   "execution_count": 141,
   "id": "dcf94985-e398-4b7f-bbdf-ba9a6b9144a7",
   "metadata": {},
   "outputs": [
    {
     "data": {
      "text/plain": [
       "[1, 2, 3, 4, 5, 6, 7, 1, 7, 7, ['DATA', 'SCIENCE', 'MASTERS']]"
      ]
     },
     "execution_count": 141,
     "metadata": {},
     "output_type": "execute_result"
    }
   ],
   "source": [
    "lst\n"
   ]
  },
  {
   "cell_type": "code",
   "execution_count": 144,
   "id": "9c9c5192-06b0-46f4-89f1-ddcb0a689e59",
   "metadata": {},
   "outputs": [
    {
     "data": {
      "text/plain": [
       "7"
      ]
     },
     "execution_count": 144,
     "metadata": {},
     "output_type": "execute_result"
    }
   ],
   "source": [
    "lst.pop() #gives the  last element\n",
    " #inplace operation(updates thelist)"
   ]
  },
  {
   "cell_type": "code",
   "execution_count": 148,
   "id": "749a3d58-7787-455d-85f7-95c88f85b3f2",
   "metadata": {},
   "outputs": [
    {
     "data": {
      "text/plain": [
       "4"
      ]
     },
     "execution_count": 148,
     "metadata": {},
     "output_type": "execute_result"
    }
   ],
   "source": [
    "lst.pop(2)   #give the index\n"
   ]
  },
  {
   "cell_type": "code",
   "execution_count": 150,
   "id": "455741cd-faba-4c30-97f7-f2646f3797fc",
   "metadata": {},
   "outputs": [
    {
     "data": {
      "text/plain": [
       "1"
      ]
     },
     "execution_count": 150,
     "metadata": {},
     "output_type": "execute_result"
    }
   ],
   "source": [
    "a=lst.pop(0)\n",
    "a"
   ]
  },
  {
   "cell_type": "code",
   "execution_count": 151,
   "id": "61df4b1d-110d-4229-9626-bcb544543d50",
   "metadata": {},
   "outputs": [
    {
     "ename": "IndexError",
     "evalue": "list index out of range",
     "output_type": "error",
     "traceback": [
      "\u001b[0;31m---------------------------------------------------------------------------\u001b[0m",
      "\u001b[0;31mIndexError\u001b[0m                                Traceback (most recent call last)",
      "Cell \u001b[0;32mIn[151], line 1\u001b[0m\n\u001b[0;32m----> 1\u001b[0m \u001b[43mlst\u001b[49m\u001b[43m[\u001b[49m\u001b[38;5;241;43m100\u001b[39;49m\u001b[43m]\u001b[49m\n",
      "\u001b[0;31mIndexError\u001b[0m: list index out of range"
     ]
    }
   ],
   "source": [
    "lst[100]"
   ]
  },
  {
   "cell_type": "code",
   "execution_count": 152,
   "id": "1a6e0ea3-c5c8-4d59-a51b-d917ea1d8168",
   "metadata": {},
   "outputs": [],
   "source": [
    "#SORTING AND REVERSE METHODS IN LIST"
   ]
  },
  {
   "cell_type": "code",
   "execution_count": 155,
   "id": "83d1c6b5-76ac-4d60-be89-e4220687470b",
   "metadata": {},
   "outputs": [
    {
     "data": {
      "text/plain": [
       "['q', 'e', 'f', 's', 't', 'y']"
      ]
     },
     "execution_count": 155,
     "metadata": {},
     "output_type": "execute_result"
    }
   ],
   "source": [
    "new_list=['q','e','f','s','t','y']\n",
    "new_list"
   ]
  },
  {
   "cell_type": "code",
   "execution_count": 156,
   "id": "7a754db0-bdcc-49f9-97a4-a2a123862398",
   "metadata": {},
   "outputs": [
    {
     "data": {
      "text/plain": [
       "['y', 't', 's', 'f', 'e', 'q']"
      ]
     },
     "execution_count": 156,
     "metadata": {},
     "output_type": "execute_result"
    }
   ],
   "source": [
    "new_list[::-1]"
   ]
  },
  {
   "cell_type": "code",
   "execution_count": 157,
   "id": "51af8a4b-b77a-4fd7-acd0-14eac33da0e0",
   "metadata": {},
   "outputs": [],
   "source": [
    "new_list.reverse()  #Inplace"
   ]
  },
  {
   "cell_type": "code",
   "execution_count": 158,
   "id": "8d0a0ed9-89e5-4e9f-b31d-2c75911b0da3",
   "metadata": {},
   "outputs": [
    {
     "data": {
      "text/plain": [
       "['y', 't', 's', 'f', 'e', 'q']"
      ]
     },
     "execution_count": 158,
     "metadata": {},
     "output_type": "execute_result"
    }
   ],
   "source": [
    "new_list"
   ]
  },
  {
   "cell_type": "code",
   "execution_count": 162,
   "id": "48015553-eafe-4305-9078-87578a1ab5d0",
   "metadata": {},
   "outputs": [],
   "source": [
    "new_list.sort(reverse=True)"
   ]
  },
  {
   "cell_type": "code",
   "execution_count": 163,
   "id": "32e40ceb-6fd7-4d2c-a04e-a2b939039457",
   "metadata": {},
   "outputs": [
    {
     "data": {
      "text/plain": [
       "['y', 't', 's', 'q', 'f', 'e']"
      ]
     },
     "execution_count": 163,
     "metadata": {},
     "output_type": "execute_result"
    }
   ],
   "source": [
    "\n",
    "\n",
    "new_list\n"
   ]
  },
  {
   "cell_type": "code",
   "execution_count": 165,
   "id": "862be4ee-5147-4629-b3d3-10ba279d274c",
   "metadata": {},
   "outputs": [],
   "source": [
    "lst=[1,2,3,4,5,6]\n",
    "lst.append(10)"
   ]
  },
  {
   "cell_type": "code",
   "execution_count": 166,
   "id": "b8c11544-a436-4c6e-bcf8-1fff7f1ff96c",
   "metadata": {},
   "outputs": [],
   "source": [
    "lst.append(['PW','SKILLS'])\n"
   ]
  },
  {
   "cell_type": "code",
   "execution_count": 168,
   "id": "c5ceaeeb-e707-40c1-a957-95b662918784",
   "metadata": {},
   "outputs": [],
   "source": [
    "lst.extend(['PW','SKILLS'])"
   ]
  },
  {
   "cell_type": "code",
   "execution_count": 169,
   "id": "87d13512-2164-4afc-ae31-fa1d0b445ad8",
   "metadata": {},
   "outputs": [
    {
     "data": {
      "text/plain": [
       "[1, 2, 3, 4, 5, 6, 10, ['PW', 'SKILLS'], 'PW', 'SKILLS']"
      ]
     },
     "execution_count": 169,
     "metadata": {},
     "output_type": "execute_result"
    }
   ],
   "source": [
    "lst"
   ]
  },
  {
   "cell_type": "code",
   "execution_count": 170,
   "id": "1e529b13-33d4-4e8d-ae94-a77c0cee468e",
   "metadata": {},
   "outputs": [],
   "source": [
    "lst.insert(2,'SUBHAN')"
   ]
  },
  {
   "cell_type": "code",
   "execution_count": 171,
   "id": "920f252f-2ecd-4c2b-bcee-9b48ac3fb2bf",
   "metadata": {},
   "outputs": [
    {
     "data": {
      "text/plain": [
       "[1, 2, 'SUBHAN', 3, 4, 5, 6, 10, ['PW', 'SKILLS'], 'PW', 'SKILLS']"
      ]
     },
     "execution_count": 171,
     "metadata": {},
     "output_type": "execute_result"
    }
   ],
   "source": [
    "lst"
   ]
  },
  {
   "cell_type": "markdown",
   "id": "0a4533d8-7d6e-402d-a1e3-1be8ba7268f6",
   "metadata": {},
   "source": [
    "#NESTED LIST"
   ]
  },
  {
   "cell_type": "code",
   "execution_count": 174,
   "id": "098117a7-b981-432b-be05-ce6825abb85e",
   "metadata": {},
   "outputs": [],
   "source": [
    "lst_1=[1,2,3]\n",
    "lst_2=[4,5,6]\n",
    "lst_3=[7,8,9]\n",
    "matrix=[lst_1,lst_2,lst_3]"
   ]
  },
  {
   "cell_type": "code",
   "execution_count": 175,
   "id": "d85e4efc-53f9-4fd6-aa71-82d26dec8f37",
   "metadata": {},
   "outputs": [
    {
     "data": {
      "text/plain": [
       "[[1, 2, 3], [4, 5, 6], [7, 8, 9]]"
      ]
     },
     "execution_count": 175,
     "metadata": {},
     "output_type": "execute_result"
    }
   ],
   "source": [
    "matrix"
   ]
  },
  {
   "cell_type": "code",
   "execution_count": 176,
   "id": "514635d0-7b4f-4aa7-9f29-1ae101e02459",
   "metadata": {},
   "outputs": [
    {
     "data": {
      "text/plain": [
       "6"
      ]
     },
     "execution_count": 176,
     "metadata": {},
     "output_type": "execute_result"
    }
   ],
   "source": [
    "matrix[1][2]"
   ]
  },
  {
   "cell_type": "code",
   "execution_count": 177,
   "id": "3f542c3c-b757-4c20-a4ee-b5da9c238445",
   "metadata": {},
   "outputs": [
    {
     "data": {
      "text/plain": [
       "[8, 9]"
      ]
     },
     "execution_count": 177,
     "metadata": {},
     "output_type": "execute_result"
    }
   ],
   "source": [
    "matrix[2][1:]"
   ]
  },
  {
   "cell_type": "code",
   "execution_count": 184,
   "id": "590ce38d-9c69-4569-803a-4ea4a412a135",
   "metadata": {},
   "outputs": [
    {
     "data": {
      "text/plain": [
       "2"
      ]
     },
     "execution_count": 184,
     "metadata": {},
     "output_type": "execute_result"
    }
   ],
   "source": [
    "##LIST COMPREHENSION\n"
   ]
  },
  {
   "cell_type": "code",
   "execution_count": 185,
   "id": "a5d283d4-4694-457a-89e0-4e552eba2f5a",
   "metadata": {},
   "outputs": [
    {
     "data": {
      "text/plain": [
       "[0, 1, 2, 3, 4, 5, 6, 7, 8, 9, 10, 11, 12, 13, 14, 15, 16, 17, 18, 19]"
      ]
     },
     "execution_count": 185,
     "metadata": {},
     "output_type": "execute_result"
    }
   ],
   "source": [
    "[i for i in range(20)]\n"
   ]
  },
  {
   "cell_type": "code",
   "execution_count": 190,
   "id": "227f62ce-3f78-4e6c-a16e-52406f8ef381",
   "metadata": {},
   "outputs": [
    {
     "data": {
      "text/plain": [
       "[0,\n",
       " 'ODD',\n",
       " 2,\n",
       " 'ODD',\n",
       " 4,\n",
       " 'ODD',\n",
       " 6,\n",
       " 'ODD',\n",
       " 8,\n",
       " 'ODD',\n",
       " 10,\n",
       " 'ODD',\n",
       " 12,\n",
       " 'ODD',\n",
       " 14,\n",
       " 'ODD',\n",
       " 16,\n",
       " 'ODD',\n",
       " 18,\n",
       " 'ODD']"
      ]
     },
     "execution_count": 190,
     "metadata": {},
     "output_type": "execute_result"
    }
   ],
   "source": [
    "##even numbers list comprehension\n",
    "[i if i%2==0 else \"ODD\" for i in range(20)]"
   ]
  },
  {
   "cell_type": "code",
   "execution_count": 192,
   "id": "2d488b5e-a652-415f-9c38-5e9bfde194db",
   "metadata": {},
   "outputs": [
    {
     "data": {
      "text/plain": [
       "['EVEN',\n",
       " 1,\n",
       " 'EVEN',\n",
       " 3,\n",
       " 'EVEN',\n",
       " 5,\n",
       " 'EVEN',\n",
       " 7,\n",
       " 'EVEN',\n",
       " 9,\n",
       " 'EVEN',\n",
       " 11,\n",
       " 'EVEN',\n",
       " 13,\n",
       " 'EVEN',\n",
       " 15,\n",
       " 'EVEN',\n",
       " 17,\n",
       " 'EVEN',\n",
       " 19]"
      ]
     },
     "execution_count": 192,
     "metadata": {},
     "output_type": "execute_result"
    }
   ],
   "source": [
    "[i if i%2!=0 else \"EVEN\" for i in range(0,20)]"
   ]
  },
  {
   "cell_type": "code",
   "execution_count": 193,
   "id": "c908c9f3-1637-4e9c-86c1-16c414d9f488",
   "metadata": {},
   "outputs": [
    {
     "name": "stdout",
     "output_type": "stream",
     "text": [
      "20 16\n"
     ]
    }
   ],
   "source": [
    "lst=[1,2,3,4,5,6,7,8]\n",
    "ec=0\n",
    "oc=0\n",
    "for x in lst:\n",
    "    if x%2==0:\n",
    "        ec+=x\n",
    "    else:\n",
    "        oc+=x\n",
    "        \n",
    "print(ec,oc)"
   ]
  },
  {
   "cell_type": "code",
   "execution_count": 197,
   "id": "118aef95-3d7f-449a-8f9d-011dae97defe",
   "metadata": {},
   "outputs": [],
   "source": [
    "#above using list comprehension\n",
    "\n",
    "even_sum=sum([num for num in lst if num%2==0])"
   ]
  },
  {
   "cell_type": "code",
   "execution_count": 198,
   "id": "d61b1e1a-135f-4ad5-b652-0456a1da1532",
   "metadata": {},
   "outputs": [
    {
     "data": {
      "text/plain": [
       "20"
      ]
     },
     "execution_count": 198,
     "metadata": {},
     "output_type": "execute_result"
    }
   ],
   "source": [
    "even_sum"
   ]
  },
  {
   "cell_type": "code",
   "execution_count": 200,
   "id": "fa49fbc8-fa8f-4bac-be25-182e9754a10d",
   "metadata": {},
   "outputs": [],
   "source": [
    "odd_sum=sum([num for num in lst if num%2!=0])"
   ]
  },
  {
   "cell_type": "code",
   "execution_count": 201,
   "id": "bcf1f452-db9b-4640-8241-a721ea6934d1",
   "metadata": {},
   "outputs": [
    {
     "data": {
      "text/plain": [
       "16"
      ]
     },
     "execution_count": 201,
     "metadata": {},
     "output_type": "execute_result"
    }
   ],
   "source": [
    "odd_sum"
   ]
  },
  {
   "cell_type": "code",
   "execution_count": 203,
   "id": "e7f32af5-4fd4-4544-87ad-1ff63e09a575",
   "metadata": {},
   "outputs": [
    {
     "data": {
      "text/plain": [
       "[1, 4, 9, 16, 25, 36, 49, 64, 81, 100]"
      ]
     },
     "execution_count": 203,
     "metadata": {},
     "output_type": "execute_result"
    }
   ],
   "source": [
    "lst=[1,2,3,4,5,6,7,8,9,10]\n",
    "[num**2 for num in lst]"
   ]
  },
  {
   "cell_type": "code",
   "execution_count": 206,
   "id": "9bf91c9a-2092-472b-b065-b3ccd2af7e4c",
   "metadata": {},
   "outputs": [
    {
     "data": {
      "text/plain": [
       "[1, 2, 3, 4]"
      ]
     },
     "execution_count": 206,
     "metadata": {},
     "output_type": "execute_result"
    }
   ],
   "source": [
    "numb=[-2,-1,0,1,2,3,4]\n",
    "#list of +ve\n",
    "[n for n in numb if n>0]"
   ]
  },
  {
   "cell_type": "code",
   "execution_count": 215,
   "id": "9f251f73-0459-485d-a629-2a960282f1c6",
   "metadata": {},
   "outputs": [
    {
     "data": {
      "text/plain": [
       "['a', 'b', 'c', 'd']"
      ]
     },
     "execution_count": 215,
     "metadata": {},
     "output_type": "execute_result"
    }
   ],
   "source": [
    "#create a list of only first letters of words in a list\n",
    "words=['apple','banana','cherry','date']\n",
    "[word[0] for word in words]"
   ]
  },
  {
   "cell_type": "code",
   "execution_count": 217,
   "id": "4a1dfde2-01ed-4c8a-beea-18320ff66d62",
   "metadata": {},
   "outputs": [
    {
     "data": {
      "text/plain": [
       "[32.0, 50.0, 68.0, 86.0, 104.0, 122.0]"
      ]
     },
     "execution_count": 217,
     "metadata": {},
     "output_type": "execute_result"
    }
   ],
   "source": [
    "# convert temp in c to f\n",
    "cel=[0,10,20,30,40,50]\n",
    "[(9/5)*temp +32 for temp in cel]"
   ]
  },
  {
   "cell_type": "code",
   "execution_count": 219,
   "id": "9c7b9dd3-d7c4-4465-b998-37659b4c062e",
   "metadata": {},
   "outputs": [
    {
     "data": {
      "text/plain": [
       "[1, 2, 3, 4, 5, 6, 7, 8, 9]"
      ]
     },
     "execution_count": 219,
     "metadata": {},
     "output_type": "execute_result"
    }
   ],
   "source": [
    "#flatten it into a single list\n",
    "lists=[[1,2,3],[4,5,6],[7,8,9]]\n",
    "[num for sublist in lists for num in sublist]"
   ]
  },
  {
   "cell_type": "code",
   "execution_count": null,
   "id": "733f64af-1d7a-441b-9b25-532574e19b3e",
   "metadata": {},
   "outputs": [],
   "source": [
    "## ASSIGNEMENT\n",
    "# create a list of only the prime number from a given list\n",
    "n=[1,2,3,4,5,6,7,8,9,10]\n",
    "# using both code and list comprehension\n",
    "#crete a list of all the possible combination of 2 elements from a list\n",
    "j=[1,2,3,4,5]"
   ]
  },
  {
   "cell_type": "code",
   "execution_count": 220,
   "id": "662453f4-4880-4a20-8c4e-d8026e756ea7",
   "metadata": {},
   "outputs": [],
   "source": [
    "lst.insert(1,3)"
   ]
  },
  {
   "cell_type": "code",
   "execution_count": 221,
   "id": "cc1de0a6-ef0d-4362-85a1-a0da207a5080",
   "metadata": {},
   "outputs": [
    {
     "data": {
      "text/plain": [
       "[1, 3, 2, 3, 4, 5, 6, 7, 8, 9, 10]"
      ]
     },
     "execution_count": 221,
     "metadata": {},
     "output_type": "execute_result"
    }
   ],
   "source": [
    "lst"
   ]
  },
  {
   "cell_type": "code",
   "execution_count": 222,
   "id": "796e828a-361c-4cd3-b9a0-21232a8fe365",
   "metadata": {},
   "outputs": [],
   "source": [
    "lst.insert(-1,2)"
   ]
  },
  {
   "cell_type": "code",
   "execution_count": 223,
   "id": "717ad605-a37f-46bd-b4ff-7342567a7816",
   "metadata": {},
   "outputs": [
    {
     "data": {
      "text/plain": [
       "[1, 3, 2, 3, 4, 5, 6, 7, 8, 9, 2, 10]"
      ]
     },
     "execution_count": 223,
     "metadata": {},
     "output_type": "execute_result"
    }
   ],
   "source": [
    "lst"
   ]
  },
  {
   "cell_type": "code",
   "execution_count": null,
   "id": "9b24b337-2317-4502-a4c9-94ca3acf8002",
   "metadata": {},
   "outputs": [],
   "source": []
  }
 ],
 "metadata": {
  "kernelspec": {
   "display_name": "Python 3 (ipykernel)",
   "language": "python",
   "name": "python3"
  },
  "language_info": {
   "codemirror_mode": {
    "name": "ipython",
    "version": 3
   },
   "file_extension": ".py",
   "mimetype": "text/x-python",
   "name": "python",
   "nbconvert_exporter": "python",
   "pygments_lexer": "ipython3",
   "version": "3.10.8"
  }
 },
 "nbformat": 4,
 "nbformat_minor": 5
}

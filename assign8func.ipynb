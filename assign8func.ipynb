{
 "cells": [
  {
   "cell_type": "code",
   "execution_count": 2,
   "id": "cbf534de-e4fe-4e8d-9f10-cf9003f9df0f",
   "metadata": {},
   "outputs": [],
   "source": [
    "#Q1\n",
    "'''\n",
    "You are writing code for a company. The requirement of the company is that you create a python\n",
    "function that will check whether the password entered by the user is correct or not. The function should\n",
    "take the password as input and return the string “Valid Password” if the entered password follows the\n",
    "below-given password guidelines else it should return “Invalid Password”.\n",
    "Note: 1. The Password should contain at least two uppercase letters and at least two lowercase letters.\n",
    "2. The Password should contain at least a number and three special characters.\n",
    "3. The length of the password should be 10 characters long.'''\n",
    "st='123@#$Subh'\n",
    "def check(st):\n",
    "    count=0\n",
    "    countc=0\n",
    "    countu=0\n",
    "    countl=0\n",
    "    \n",
    "    if len(l)==10:\n",
    "        for x in l:\n",
    "            if x.isdigit():\n",
    "                count+=1\n",
    "            elif x.isupper():\n",
    "                countu+=1\n",
    "            elif x.islower():\n",
    "                countl+=1\n",
    "            elif x in ['!','@','#','$','%','^','&','*']:\n",
    "                countc+=1\n",
    "        \n",
    "    if (count>=1 and countu>=2 and countl>=2 and countc>=3):\n",
    "        print(\"VALID PASSWORD\")\n",
    "    else:\n",
    "        print(\"INVALID PASSWORD\")\n",
    "                \n",
    "  \n",
    "    \n",
    "    \n",
    "   "
   ]
  },
  {
   "cell_type": "code",
   "execution_count": null,
   "id": "f5f542a9-f120-4990-b56a-ca0e897b6f66",
   "metadata": {},
   "outputs": [],
   "source": []
  },
  {
   "cell_type": "code",
   "execution_count": null,
   "id": "9091a959-5925-4251-afe3-647c4d2ed6f5",
   "metadata": {},
   "outputs": [],
   "source": []
  },
  {
   "cell_type": "code",
   "execution_count": 62,
   "id": "d4bf7eff-ce1a-45ee-8f2f-98784433abd9",
   "metadata": {},
   "outputs": [
    {
     "name": "stdout",
     "output_type": "stream",
     "text": [
      "[True]\n"
     ]
    }
   ],
   "source": [
    "# CHECK IF STRING STARTS WITH A PARTICULAR LETTER\n",
    "s='subhan is a good boy'\n",
    "l=list(x)\n",
    "x='s'\n",
    "x.upper()\n",
    "a=list(map(lambda l: True if l[0]==x else False,l))\n",
    "print(a)"
   ]
  },
  {
   "cell_type": "code",
   "execution_count": 16,
   "id": "f3628dd3-c179-4e1f-9c50-48a3b6dbcf2c",
   "metadata": {},
   "outputs": [
    {
     "name": "stdin",
     "output_type": "stream",
     "text": [
      "Enter the string subhan\n"
     ]
    },
    {
     "data": {
      "text/plain": [
       "False"
      ]
     },
     "execution_count": 16,
     "metadata": {},
     "output_type": "execute_result"
    }
   ],
   "source": [
    "# Check if the string is numeric\n",
    "s=input(\"Enter the string\")\n",
    "a=lambda s: True if s.isnumeric() == True else False\n",
    "a(s)\n",
    "\n",
    "\n"
   ]
  },
  {
   "cell_type": "code",
   "execution_count": null,
   "id": "6ee6b832-49a6-4be7-a9b7-a0015cfa0cc4",
   "metadata": {},
   "outputs": [],
   "source": [
    "# Sort a list of tuples having fruit names and their quantity.\n",
    "[(\"mango\",99),(\"orange\",80), (\"grapes\", 1000)-"
   ]
  },
  {
   "cell_type": "code",
   "execution_count": 56,
   "id": "12a907c4-b919-4b22-95f2-4e73ba3ef1e1",
   "metadata": {},
   "outputs": [
    {
     "data": {
      "text/plain": [
       "[1.0,\n",
       " 1.2599210498948734,\n",
       " 1.4422495703074083,\n",
       " 1.5874010519681996,\n",
       " 1.7099759466766968,\n",
       " 1.8171205928321394,\n",
       " 1.9129311827723894,\n",
       " 2.0,\n",
       " 2.080083823051904,\n",
       " 2.1544346900318834]"
      ]
     },
     "execution_count": 56,
     "metadata": {},
     "output_type": "execute_result"
    }
   ],
   "source": [
    "#Find the cube root of numbers from 1 to 10\n",
    "import math\n",
    "import numpy as np\n",
    "list2=[1,2,3,4,5,6,7,8,9,10]\n",
    "f=list(map(lambda x:np.cbrt(x) ,list2))\n",
    "f"
   ]
  },
  {
   "cell_type": "code",
   "execution_count": 52,
   "id": "33320b20-7658-47e4-ab6f-6a16f46c927e",
   "metadata": {},
   "outputs": [
    {
     "data": {
      "text/plain": [
       "[1, 4, 9, 16, 25, 36, 49, 64, 81, 100]"
      ]
     },
     "execution_count": 52,
     "metadata": {},
     "output_type": "execute_result"
    }
   ],
   "source": [
    "# Find the squares of numbers from 1 to 10\n",
    "\n",
    "list1=[1,2,3,4,5,6,7,8,9,10]\n",
    "e=list(map(lambda x: x**2,list1))\n",
    "e"
   ]
  },
  {
   "cell_type": "code",
   "execution_count": 48,
   "id": "d0190d7c-6245-409e-a7e4-0ae21ed46f72",
   "metadata": {},
   "outputs": [
    {
     "name": "stdin",
     "output_type": "stream",
     "text": [
      "Enter the number here: 5\n"
     ]
    },
    {
     "data": {
      "text/plain": [
       "'THE NUMBER ISNOT EVEN'"
      ]
     },
     "execution_count": 48,
     "metadata": {},
     "output_type": "execute_result"
    }
   ],
   "source": [
    "#Check if a given number is even\n",
    "n=int(input(\"Enter the number here:\"))\n",
    "a=lambda x: 'THE NUMBER IS EVEN' if x%2==0 else 'THE NUMBER ISNOT EVEN'\n",
    "a(n)"
   ]
  },
  {
   "cell_type": "code",
   "execution_count": 38,
   "id": "4209ed5c-dde8-4f0d-9430-9a4c9edcc55d",
   "metadata": {},
   "outputs": [
    {
     "data": {
      "text/plain": [
       "[1, 3, 5, 7]"
      ]
     },
     "execution_count": 38,
     "metadata": {},
     "output_type": "execute_result"
    }
   ],
   "source": [
    "# Filter odd numbers from the given list\n",
    "l1=[1,2,3,4,5,6,7,8]\n",
    "a=list(filter(lambda x: x%2!=0,l1))\n",
    "a"
   ]
  },
  {
   "cell_type": "code",
   "execution_count": 41,
   "id": "58b0687e-d5d5-46be-823b-a0d2b5de0890",
   "metadata": {},
   "outputs": [
    {
     "name": "stdout",
     "output_type": "stream",
     "text": [
      "[-1, -2, -3, -4, -5]\n",
      "[1, 2, 3, 4, 5, 6]\n"
     ]
    }
   ],
   "source": [
    "# Sort a list of integers into positive and negative integers lists.\n",
    "l2=[1,2,3,4,5,6,-1,-2,-3,-4,-5,0]\n",
    "c=list(filter(lambda x: x<0,l2))\n",
    "print(c)\n",
    "d=list(filter(lambda x: x>0,l2))\n",
    "print(d)"
   ]
  },
  {
   "cell_type": "code",
   "execution_count": 10,
   "id": "9827a86c-cd56-4606-95c8-9cca05d7d492",
   "metadata": {},
   "outputs": [
    {
     "ename": "NameError",
     "evalue": "name 'count' is not defined",
     "output_type": "error",
     "traceback": [
      "\u001b[0;31m---------------------------------------------------------------------------\u001b[0m",
      "\u001b[0;31mNameError\u001b[0m                                 Traceback (most recent call last)",
      "Cell \u001b[0;32mIn[10], line 1\u001b[0m\n\u001b[0;32m----> 1\u001b[0m \u001b[38;5;28mprint\u001b[39m(\u001b[43mcount\u001b[49m)\n",
      "\u001b[0;31mNameError\u001b[0m: name 'count' is not defined"
     ]
    }
   ],
   "source": [
    "print(count)"
   ]
  },
  {
   "cell_type": "code",
   "execution_count": null,
   "id": "0906e2cc-56e9-49bb-8f27-6bbfd1665504",
   "metadata": {},
   "outputs": [],
   "source": []
  }
 ],
 "metadata": {
  "kernelspec": {
   "display_name": "Python 3 (ipykernel)",
   "language": "python",
   "name": "python3"
  },
  "language_info": {
   "codemirror_mode": {
    "name": "ipython",
    "version": 3
   },
   "file_extension": ".py",
   "mimetype": "text/x-python",
   "name": "python",
   "nbconvert_exporter": "python",
   "pygments_lexer": "ipython3",
   "version": "3.10.8"
  }
 },
 "nbformat": 4,
 "nbformat_minor": 5
}

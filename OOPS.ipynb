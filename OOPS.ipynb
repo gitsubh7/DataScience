{
 "cells": [
  {
   "cell_type": "markdown",
   "id": "ee721aae-3a83-4443-bbbc-bf69e26c3431",
   "metadata": {},
   "source": [
    "#OOPS - OBJECT ORIENTED PROGRAMMING"
   ]
  },
  {
   "cell_type": "code",
   "execution_count": 1,
   "id": "58ca383c-75df-4a48-969a-dc2b4124d44d",
   "metadata": {},
   "outputs": [],
   "source": [
    "class test:\n",
    "    pass"
   ]
  },
  {
   "cell_type": "code",
   "execution_count": 5,
   "id": "f5b56ab9-eb31-4bd4-b943-f41ee6ed9a90",
   "metadata": {},
   "outputs": [],
   "source": [
    "a=test()    # A is an OBJECT"
   ]
  },
  {
   "cell_type": "code",
   "execution_count": 3,
   "id": "03aaeb78-29b4-4916-a6e6-9ca581f21543",
   "metadata": {},
   "outputs": [
    {
     "data": {
      "text/plain": [
       "__main__.test"
      ]
     },
     "execution_count": 3,
     "metadata": {},
     "output_type": "execute_result"
    }
   ],
   "source": [
    "type(a)"
   ]
  },
  {
   "cell_type": "code",
   "execution_count": 4,
   "id": "39c19553-28d3-498b-87c8-9a3abdeab691",
   "metadata": {},
   "outputs": [
    {
     "name": "stdout",
     "output_type": "stream",
     "text": [
      "<class '__main__.test'>\n"
     ]
    }
   ],
   "source": [
    "print(type(a))\n"
   ]
  },
  {
   "cell_type": "code",
   "execution_count": 7,
   "id": "0933f62a-d96a-4564-adb2-0ad05c8d02c7",
   "metadata": {},
   "outputs": [],
   "source": [
    "# CAR CLASS\n",
    "# HYUNDAI OBECT"
   ]
  },
  {
   "cell_type": "code",
   "execution_count": 8,
   "id": "2cf7834a-0733-4f4a-9853-6fd110d922fc",
   "metadata": {},
   "outputs": [],
   "source": [
    "#instance/object of a class"
   ]
  },
  {
   "cell_type": "code",
   "execution_count": 15,
   "id": "1afca7d8-ab0d-46df-855f-3ac25922c4e0",
   "metadata": {},
   "outputs": [],
   "source": [
    "class pwskills:\n",
    "    def welcome_msg(self):\n",
    "        print(\"WELCOME TO PWSKILLS\")"
   ]
  },
  {
   "cell_type": "code",
   "execution_count": 17,
   "id": "dab36140-9d48-4b8a-9934-1f078c2476bf",
   "metadata": {},
   "outputs": [],
   "source": [
    "rohan=pwskills()  #OBJECT OF CLASS PWSKILLS "
   ]
  },
  {
   "cell_type": "code",
   "execution_count": 18,
   "id": "58ce2fc0-37f6-46f3-8870-e8afc053846d",
   "metadata": {},
   "outputs": [
    {
     "name": "stdout",
     "output_type": "stream",
     "text": [
      "WELCOME TO PWSKILLS\n"
     ]
    }
   ],
   "source": [
    "rohan.welcome_msg()"
   ]
  },
  {
   "cell_type": "code",
   "execution_count": 19,
   "id": "358aa587-ebfe-45e9-a56a-ab941ffe319e",
   "metadata": {},
   "outputs": [],
   "source": [
    "sohan=pwskills()"
   ]
  },
  {
   "cell_type": "code",
   "execution_count": 20,
   "id": "e33bfb37-467c-4fb4-8ad0-cd8aa2d219e0",
   "metadata": {},
   "outputs": [
    {
     "name": "stdout",
     "output_type": "stream",
     "text": [
      "WELCOME TO PWSKILLS\n"
     ]
    }
   ],
   "source": [
    "sohan.welcome_msg()"
   ]
  },
  {
   "cell_type": "code",
   "execution_count": 24,
   "id": "d1ac66e5-e6fc-4833-acd9-5ea062e0e5fb",
   "metadata": {},
   "outputs": [],
   "source": [
    "#CONSTRUCTOR HELPS CLASS TO TAKE DATA\n",
    "#def init is a constructor"
   ]
  },
  {
   "cell_type": "code",
   "execution_count": 37,
   "id": "5ad413d7-354e-459e-9c61-0a44b18e08cd",
   "metadata": {},
   "outputs": [],
   "source": [
    "  #Inbuilt function\n",
    "    #self is reference\n",
    "class pwskills1:\n",
    "    def __init__(self,phone_number,email_id,student_id):\n",
    "        self.phone_number = phone_number\n",
    "        self.email_id=email_id\n",
    "        self.student_id= student_id\n",
    "        \n",
    "    def return_student_details(self):\n",
    "        return self.phone_number, self.email_id,self.student_id\n",
    "      "
   ]
  },
  {
   "cell_type": "code",
   "execution_count": 38,
   "id": "0f99288f-11b1-42a8-84ba-4c6b10ce0cfd",
   "metadata": {},
   "outputs": [],
   "source": [
    "subhan=pwskills1(1354324,'subh@gmail.com',101)\n"
   ]
  },
  {
   "cell_type": "code",
   "execution_count": 39,
   "id": "2f814099-06c3-41d6-8977-b56672c7fab5",
   "metadata": {},
   "outputs": [
    {
     "data": {
      "text/plain": [
       "1354324"
      ]
     },
     "execution_count": 39,
     "metadata": {},
     "output_type": "execute_result"
    }
   ],
   "source": [
    "subhan.phone_number"
   ]
  },
  {
   "cell_type": "code",
   "execution_count": 40,
   "id": "78727288-1991-483f-8a13-76a799337158",
   "metadata": {},
   "outputs": [
    {
     "data": {
      "text/plain": [
       "'subh@gmail.com'"
      ]
     },
     "execution_count": 40,
     "metadata": {},
     "output_type": "execute_result"
    }
   ],
   "source": [
    "subhan.email_id"
   ]
  },
  {
   "cell_type": "code",
   "execution_count": 41,
   "id": "169435aa-df6b-4dd0-98c6-bf183573e630",
   "metadata": {},
   "outputs": [
    {
     "data": {
      "text/plain": [
       "101"
      ]
     },
     "execution_count": 41,
     "metadata": {},
     "output_type": "execute_result"
    }
   ],
   "source": [
    "subhan.student_id"
   ]
  },
  {
   "cell_type": "code",
   "execution_count": 42,
   "id": "451bbb46-294d-4ad1-951b-31620ede929d",
   "metadata": {},
   "outputs": [
    {
     "data": {
      "text/plain": [
       "(1354324, 'subh@gmail.com', 101)"
      ]
     },
     "execution_count": 42,
     "metadata": {},
     "output_type": "execute_result"
    }
   ],
   "source": [
    "subhan.return_student_details()"
   ]
  },
  {
   "cell_type": "code",
   "execution_count": 43,
   "id": "4c29bfab-63bc-49f1-a1e6-6a0c133a6add",
   "metadata": {},
   "outputs": [],
   "source": [
    "francis= pwskills1(12765251,'frank@gmail.com',102)"
   ]
  },
  {
   "cell_type": "code",
   "execution_count": 44,
   "id": "bf69e4df-8853-4b0f-abe7-d591e9b0e826",
   "metadata": {},
   "outputs": [
    {
     "data": {
      "text/plain": [
       "12765251"
      ]
     },
     "execution_count": 44,
     "metadata": {},
     "output_type": "execute_result"
    }
   ],
   "source": [
    "francis.phone_number"
   ]
  },
  {
   "cell_type": "code",
   "execution_count": 46,
   "id": "c827ee1e-de57-4568-8f67-1603dc311652",
   "metadata": {},
   "outputs": [
    {
     "data": {
      "text/plain": [
       "(12765251, 'frank@gmail.com', 102)"
      ]
     },
     "execution_count": 46,
     "metadata": {},
     "output_type": "execute_result"
    }
   ],
   "source": [
    "francis.return_student_details()"
   ]
  },
  {
   "cell_type": "code",
   "execution_count": 48,
   "id": "93162359-b53a-4b60-aa20-fbb5131f0977",
   "metadata": {},
   "outputs": [],
   "source": [
    "# self  is  a pointer reference which tells the function"
   ]
  },
  {
   "cell_type": "code",
   "execution_count": 49,
   "id": "26f66b55-5f34-4dbb-bf5b-e9a4b0d3f893",
   "metadata": {},
   "outputs": [],
   "source": [
    "#ANOTHER WAY"
   ]
  },
  {
   "cell_type": "code",
   "execution_count": 55,
   "id": "564c88fe-7053-444b-9079-2437936d48d0",
   "metadata": {},
   "outputs": [],
   "source": [
    "class pwskills2:\n",
    "    def __init__(subh,phone_number,email_id,student_id):\n",
    "        subh.phone_number = phone_number\n",
    "        subh.email_id=email_id\n",
    "        subh.student_id= student_id\n",
    "        \n",
    "    def return_student_details(subh):\n",
    "        return subh.phone_number, subh.email_id,subh.student_id"
   ]
  },
  {
   "cell_type": "code",
   "execution_count": 51,
   "id": "f3303e95-209e-4e45-b742-af79f48a2231",
   "metadata": {},
   "outputs": [],
   "source": [
    "#THIS ALSO WORKS!! \n",
    "# u can use any name instead of self, as it only acts as a pointer"
   ]
  },
  {
   "cell_type": "code",
   "execution_count": 56,
   "id": "03003943-8e5a-47ca-83b6-1c3018822982",
   "metadata": {},
   "outputs": [],
   "source": [
    "yusuf=pwskills2(14678732,'yunni@gmail.com',103)"
   ]
  },
  {
   "cell_type": "code",
   "execution_count": 57,
   "id": "ff08dbcc-6f3b-48c7-82d6-2ff671920437",
   "metadata": {},
   "outputs": [],
   "source": [
    "#calling by .phone_number only, the right side of it is just for assignment purpose and the class will only understand through the self.parameter_name  part"
   ]
  },
  {
   "cell_type": "code",
   "execution_count": null,
   "id": "8494b053-aa4b-43a9-9dd5-213f833567dc",
   "metadata": {},
   "outputs": [],
   "source": []
  }
 ],
 "metadata": {
  "kernelspec": {
   "display_name": "Python 3 (ipykernel)",
   "language": "python",
   "name": "python3"
  },
  "language_info": {
   "codemirror_mode": {
    "name": "ipython",
    "version": 3
   },
   "file_extension": ".py",
   "mimetype": "text/x-python",
   "name": "python",
   "nbconvert_exporter": "python",
   "pygments_lexer": "ipython3",
   "version": "3.10.8"
  }
 },
 "nbformat": 4,
 "nbformat_minor": 5
}

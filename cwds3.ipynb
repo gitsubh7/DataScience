{
 "cells": [
  {
   "cell_type": "markdown",
   "id": "60b3c180-6417-4f06-81dd-5954532ca6d0",
   "metadata": {},
   "source": [
    "##LOGICAL OPERATORS\n",
    "\n",
    "1) and\n",
    "2) or\n",
    "3) not"
   ]
  },
  {
   "cell_type": "code",
   "execution_count": 2,
   "id": "d9f23cb9-0c55-4c04-9bfb-f471be542192",
   "metadata": {},
   "outputs": [
    {
     "data": {
      "text/plain": [
       "True"
      ]
     },
     "execution_count": 2,
     "metadata": {},
     "output_type": "execute_result"
    }
   ],
   "source": [
    "True and True\n"
   ]
  },
  {
   "cell_type": "code",
   "execution_count": 5,
   "id": "49f55c35-cdb4-41c1-816f-ec28141e291a",
   "metadata": {},
   "outputs": [
    {
     "data": {
      "text/plain": [
       "True"
      ]
     },
     "execution_count": 5,
     "metadata": {},
     "output_type": "execute_result"
    }
   ],
   "source": [
    "True or False"
   ]
  },
  {
   "cell_type": "code",
   "execution_count": 6,
   "id": "e67fa37b-7570-4a51-a8b0-1ac396fd4d26",
   "metadata": {},
   "outputs": [
    {
     "data": {
      "text/plain": [
       "True"
      ]
     },
     "execution_count": 6,
     "metadata": {},
     "output_type": "execute_result"
    }
   ],
   "source": [
    "not False"
   ]
  },
  {
   "cell_type": "code",
   "execution_count": 7,
   "id": "a1c6e2ad-8963-44aa-a357-524906d46f81",
   "metadata": {},
   "outputs": [
    {
     "data": {
      "text/plain": [
       "True"
      ]
     },
     "execution_count": 7,
     "metadata": {},
     "output_type": "execute_result"
    }
   ],
   "source": [
    "not bool(0)"
   ]
  },
  {
   "cell_type": "code",
   "execution_count": 8,
   "id": "1cb44659-8002-4a30-9db9-96139a9975f2",
   "metadata": {},
   "outputs": [
    {
     "data": {
      "text/plain": [
       "0"
      ]
     },
     "execution_count": 8,
     "metadata": {},
     "output_type": "execute_result"
    }
   ],
   "source": [
    "int(bool(0))"
   ]
  },
  {
   "cell_type": "code",
   "execution_count": 9,
   "id": "6ded776b-406c-4667-8820-51be7961e699",
   "metadata": {},
   "outputs": [
    {
     "data": {
      "text/plain": [
       "True"
      ]
     },
     "execution_count": 9,
     "metadata": {},
     "output_type": "execute_result"
    }
   ],
   "source": [
    "bool(1)"
   ]
  },
  {
   "cell_type": "code",
   "execution_count": 10,
   "id": "4fa26e2f-6051-48a7-93e0-4c11d3881f6d",
   "metadata": {},
   "outputs": [
    {
     "data": {
      "text/plain": [
       "1"
      ]
     },
     "execution_count": 10,
     "metadata": {},
     "output_type": "execute_result"
    }
   ],
   "source": [
    "int(bool(1))"
   ]
  },
  {
   "cell_type": "code",
   "execution_count": 11,
   "id": "bed89f62-23c6-4d81-8c41-ed4efbb700e7",
   "metadata": {},
   "outputs": [
    {
     "data": {
      "text/plain": [
       "False"
      ]
     },
     "execution_count": 11,
     "metadata": {},
     "output_type": "execute_result"
    }
   ],
   "source": [
    "not int(bool(1))"
   ]
  },
  {
   "cell_type": "markdown",
   "id": "c4054bc3-8b7b-45ce-ad7a-f1a3c396fc40",
   "metadata": {},
   "source": [
    "#LOGICAL AND"
   ]
  },
  {
   "cell_type": "code",
   "execution_count": 12,
   "id": "2c9ad029-c4c6-480d-8622-0e317aabec79",
   "metadata": {},
   "outputs": [
    {
     "data": {
      "text/plain": [
       "1"
      ]
     },
     "execution_count": 12,
     "metadata": {},
     "output_type": "execute_result"
    }
   ],
   "source": [
    "True * True"
   ]
  },
  {
   "cell_type": "code",
   "execution_count": 13,
   "id": "b087581c-65df-4d00-9916-d1710dcb3a0d",
   "metadata": {},
   "outputs": [
    {
     "data": {
      "text/plain": [
       "True"
      ]
     },
     "execution_count": 13,
     "metadata": {},
     "output_type": "execute_result"
    }
   ],
   "source": [
    "not(False) * True"
   ]
  },
  {
   "cell_type": "code",
   "execution_count": 14,
   "id": "b87e664b-a178-4210-a1dd-fff314953114",
   "metadata": {},
   "outputs": [
    {
     "data": {
      "text/plain": [
       "1"
      ]
     },
     "execution_count": 14,
     "metadata": {},
     "output_type": "execute_result"
    }
   ],
   "source": [
    "True + False"
   ]
  },
  {
   "cell_type": "code",
   "execution_count": 15,
   "id": "cff472fb-acf9-415a-a688-7ce5f5fddc0f",
   "metadata": {},
   "outputs": [
    {
     "data": {
      "text/plain": [
       "1"
      ]
     },
     "execution_count": 15,
     "metadata": {},
     "output_type": "execute_result"
    }
   ],
   "source": [
    "True * (not(False))"
   ]
  },
  {
   "cell_type": "code",
   "execution_count": 16,
   "id": "c80d70d2-6519-460c-9325-d289d7faac2b",
   "metadata": {},
   "outputs": [
    {
     "data": {
      "text/plain": [
       "1"
      ]
     },
     "execution_count": 16,
     "metadata": {},
     "output_type": "execute_result"
    }
   ],
   "source": [
    "(not(False)) * True"
   ]
  },
  {
   "cell_type": "code",
   "execution_count": 17,
   "id": "cb87df1b-c09f-4456-93aa-9da333dd5808",
   "metadata": {},
   "outputs": [
    {
     "data": {
      "text/plain": [
       "True"
      ]
     },
     "execution_count": 17,
     "metadata": {},
     "output_type": "execute_result"
    }
   ],
   "source": [
    "not(False) * True"
   ]
  },
  {
   "cell_type": "code",
   "execution_count": 18,
   "id": "95513236-14a3-4500-bc48-34714412200a",
   "metadata": {},
   "outputs": [
    {
     "data": {
      "text/plain": [
       "True"
      ]
     },
     "execution_count": 18,
     "metadata": {},
     "output_type": "execute_result"
    }
   ],
   "source": [
    "not False\n"
   ]
  },
  {
   "cell_type": "code",
   "execution_count": 20,
   "id": "c8327c90-c14a-41b6-9e40-b0a0fe909c0a",
   "metadata": {},
   "outputs": [
    {
     "data": {
      "text/plain": [
       "True"
      ]
     },
     "execution_count": 20,
     "metadata": {},
     "output_type": "execute_result"
    }
   ],
   "source": [
    "not(False)*False==True"
   ]
  },
  {
   "cell_type": "code",
   "execution_count": 22,
   "id": "e474e06b-2baf-4a43-b654-869f4802bd8e",
   "metadata": {},
   "outputs": [
    {
     "name": "stdout",
     "output_type": "stream",
     "text": [
      "True\n"
     ]
    }
   ],
   "source": [
    "print(not(False)*False)"
   ]
  },
  {
   "cell_type": "code",
   "execution_count": 23,
   "id": "49b7fc18-91d3-4ae8-8f73-b7bd6ab87db7",
   "metadata": {},
   "outputs": [
    {
     "name": "stdout",
     "output_type": "stream",
     "text": [
      "0\n"
     ]
    }
   ],
   "source": [
    "print((not(False))*False)"
   ]
  },
  {
   "cell_type": "code",
   "execution_count": 24,
   "id": "ebc2e066-3a50-4c32-942e-701d15e663fb",
   "metadata": {},
   "outputs": [],
   "source": [
    "#not(false) is treated as not false"
   ]
  },
  {
   "cell_type": "code",
   "execution_count": 25,
   "id": "854cb1f1-61f1-4530-ada0-454d329b7039",
   "metadata": {},
   "outputs": [],
   "source": [
    "#not false* false firstly false into false "
   ]
  },
  {
   "cell_type": "code",
   "execution_count": 26,
   "id": "eda944c6-acc0-49b1-a756-96ff41ab9e27",
   "metadata": {},
   "outputs": [
    {
     "data": {
      "text/plain": [
       "0"
      ]
     },
     "execution_count": 26,
     "metadata": {},
     "output_type": "execute_result"
    }
   ],
   "source": [
    "False * True"
   ]
  },
  {
   "cell_type": "code",
   "execution_count": 27,
   "id": "3e3cbc93-0cf4-49cd-bf69-db2d24781901",
   "metadata": {},
   "outputs": [
    {
     "data": {
      "text/plain": [
       "True"
      ]
     },
     "execution_count": 27,
     "metadata": {},
     "output_type": "execute_result"
    }
   ],
   "source": [
    "not(False * True)"
   ]
  },
  {
   "cell_type": "code",
   "execution_count": 28,
   "id": "25c4faf4-c889-4589-9a9b-4509ff7cdd45",
   "metadata": {},
   "outputs": [
    {
     "data": {
      "text/plain": [
       "False"
      ]
     },
     "execution_count": 28,
     "metadata": {},
     "output_type": "execute_result"
    }
   ],
   "source": [
    "not 1"
   ]
  },
  {
   "cell_type": "code",
   "execution_count": 29,
   "id": "7af72697-c7b0-4b34-bf30-434d354d2935",
   "metadata": {},
   "outputs": [
    {
     "data": {
      "text/plain": [
       "False"
      ]
     },
     "execution_count": 29,
     "metadata": {},
     "output_type": "execute_result"
    }
   ],
   "source": [
    "not(1)"
   ]
  },
  {
   "cell_type": "code",
   "execution_count": 30,
   "id": "c0060bc5-62c9-4581-97f5-2e36de6717c9",
   "metadata": {},
   "outputs": [
    {
     "data": {
      "text/plain": [
       "True"
      ]
     },
     "execution_count": 30,
     "metadata": {},
     "output_type": "execute_result"
    }
   ],
   "source": [
    "not False * True"
   ]
  },
  {
   "cell_type": "code",
   "execution_count": 31,
   "id": "7cf4fcd9-3ba0-44df-8b78-77d83c403dc4",
   "metadata": {},
   "outputs": [
    {
     "data": {
      "text/plain": [
       "True"
      ]
     },
     "execution_count": 31,
     "metadata": {},
     "output_type": "execute_result"
    }
   ],
   "source": [
    "bool(1)"
   ]
  },
  {
   "cell_type": "code",
   "execution_count": 32,
   "id": "00062d86-51e0-42bf-a037-d1cde71a81b0",
   "metadata": {},
   "outputs": [
    {
     "data": {
      "text/plain": [
       "True"
      ]
     },
     "execution_count": 32,
     "metadata": {},
     "output_type": "execute_result"
    }
   ],
   "source": [
    "lst_a=[1,2,3,4]\n",
    "lst_b=[1,2,3,4]\n",
    "lst_a==lst_b"
   ]
  },
  {
   "cell_type": "code",
   "execution_count": 33,
   "id": "1bf7b099-0748-4d3b-9d54-5b844fd6931a",
   "metadata": {},
   "outputs": [
    {
     "data": {
      "text/plain": [
       "False"
      ]
     },
     "execution_count": 33,
     "metadata": {},
     "output_type": "execute_result"
    }
   ],
   "source": [
    "lst_a is lst_b"
   ]
  },
  {
   "cell_type": "code",
   "execution_count": 34,
   "id": "08a2fbf9-08de-4692-a255-4cb3a4b4be22",
   "metadata": {},
   "outputs": [
    {
     "data": {
      "text/plain": [
       "True"
      ]
     },
     "execution_count": 34,
     "metadata": {},
     "output_type": "execute_result"
    }
   ],
   "source": [
    "lst_a is lst_a"
   ]
  },
  {
   "cell_type": "code",
   "execution_count": 35,
   "id": "133dca07-a268-4d0a-81d5-97046d9bdf95",
   "metadata": {},
   "outputs": [],
   "source": [
    "#is / is not is for the same addresses regardless of the values"
   ]
  },
  {
   "cell_type": "code",
   "execution_count": 37,
   "id": "49266f7f-97f7-4ee3-8096-f8f209f097a0",
   "metadata": {},
   "outputs": [
    {
     "name": "stdout",
     "output_type": "stream",
     "text": [
      "139941383462272\n",
      "139941546699520\n"
     ]
    }
   ],
   "source": [
    "print(id(lst_a))\n",
    "print(id(lst_b))"
   ]
  },
  {
   "cell_type": "code",
   "execution_count": 39,
   "id": "27e431a9-8a3c-4088-ac03-1606b973ba26",
   "metadata": {},
   "outputs": [
    {
     "name": "stdout",
     "output_type": "stream",
     "text": [
      "False\n",
      "True\n"
     ]
    }
   ],
   "source": [
    "print(lst_a is lst_b)\n",
    "print(lst_a == lst_b)"
   ]
  },
  {
   "cell_type": "code",
   "execution_count": 40,
   "id": "fef0a608-5be3-4470-a137-b56aa0eb8ded",
   "metadata": {},
   "outputs": [
    {
     "name": "stdout",
     "output_type": "stream",
     "text": [
      "139941585125648\n",
      "139941585125648\n"
     ]
    }
   ],
   "source": [
    "a=2\n",
    "b=2\n",
    "print(id(a))\n",
    "print(id(b))"
   ]
  },
  {
   "cell_type": "code",
   "execution_count": 41,
   "id": "8ead3ec9-0505-4609-b882-71fdbbf046a9",
   "metadata": {},
   "outputs": [],
   "source": [
    "#same for same int and same str\n"
   ]
  },
  {
   "cell_type": "code",
   "execution_count": 43,
   "id": "277b7c28-7259-4ee8-bdc5-688af487f8da",
   "metadata": {},
   "outputs": [
    {
     "name": "stdout",
     "output_type": "stream",
     "text": [
      "139941383561584\n",
      "139941383561584\n"
     ]
    }
   ],
   "source": [
    "str1=\"Krish\"\n",
    "str2=\"Krish\"\n",
    "print(id(str1))\n",
    "print(id(str2))"
   ]
  },
  {
   "cell_type": "code",
   "execution_count": null,
   "id": "81e650e9-05f9-4d31-9066-cc518ac9595d",
   "metadata": {},
   "outputs": [],
   "source": [
    "# not same for same list (collection of elements)"
   ]
  },
  {
   "cell_type": "code",
   "execution_count": 44,
   "id": "9c1942e8-c068-432b-b00c-9f6eb0a1923b",
   "metadata": {},
   "outputs": [
    {
     "data": {
      "text/plain": [
       "True"
      ]
     },
     "execution_count": 44,
     "metadata": {},
     "output_type": "execute_result"
    }
   ],
   "source": [
    "b is a"
   ]
  },
  {
   "cell_type": "code",
   "execution_count": 45,
   "id": "86b01454-abd8-4807-a876-0bc1fba8f615",
   "metadata": {},
   "outputs": [
    {
     "data": {
      "text/plain": [
       "[1, 2, 3, 4]"
      ]
     },
     "execution_count": 45,
     "metadata": {},
     "output_type": "execute_result"
    }
   ],
   "source": [
    "lst_a\n"
   ]
  },
  {
   "cell_type": "code",
   "execution_count": 46,
   "id": "820af00b-0616-4b2d-b91f-50d590efeb5e",
   "metadata": {},
   "outputs": [
    {
     "data": {
      "text/plain": [
       "1"
      ]
     },
     "execution_count": 46,
     "metadata": {},
     "output_type": "execute_result"
    }
   ],
   "source": [
    "lst_a[0]"
   ]
  },
  {
   "cell_type": "code",
   "execution_count": 47,
   "id": "5e037626-8970-4f85-a927-f4c143d4de73",
   "metadata": {},
   "outputs": [],
   "source": [
    "lst_a[0]=10"
   ]
  },
  {
   "cell_type": "code",
   "execution_count": 48,
   "id": "0f0c78dd-562d-4c74-85d3-d6dc04839dbd",
   "metadata": {},
   "outputs": [
    {
     "data": {
      "text/plain": [
       "[10, 2, 3, 4]"
      ]
     },
     "execution_count": 48,
     "metadata": {},
     "output_type": "execute_result"
    }
   ],
   "source": [
    "lst_a"
   ]
  },
  {
   "cell_type": "code",
   "execution_count": 49,
   "id": "99b1f8fa-ef01-4cf6-9240-ed5b24f4b60a",
   "metadata": {},
   "outputs": [
    {
     "data": {
      "text/plain": [
       "'K'"
      ]
     },
     "execution_count": 49,
     "metadata": {},
     "output_type": "execute_result"
    }
   ],
   "source": [
    "str1[0]"
   ]
  },
  {
   "cell_type": "code",
   "execution_count": null,
   "id": "7c49dd01-e11e-491d-9b44-e214ee7ad53d",
   "metadata": {},
   "outputs": [],
   "source": [
    "# string is immutable (inidividual elements)"
   ]
  },
  {
   "cell_type": "code",
   "execution_count": null,
   "id": "37b401d0-835c-4d41-8e48-3ed4b2cf58ca",
   "metadata": {},
   "outputs": [],
   "source": [
    "#list is mutable"
   ]
  },
  {
   "cell_type": "code",
   "execution_count": 50,
   "id": "395973c2-dba8-48fc-b44e-031399c11c9a",
   "metadata": {},
   "outputs": [
    {
     "data": {
      "text/plain": [
       "True"
      ]
     },
     "execution_count": 50,
     "metadata": {},
     "output_type": "execute_result"
    }
   ],
   "source": [
    "a=2 \n",
    "b=3\n",
    "a<b"
   ]
  },
  {
   "cell_type": "code",
   "execution_count": 51,
   "id": "5f226da2-0426-4b42-a5c6-b456f102dde5",
   "metadata": {},
   "outputs": [
    {
     "name": "stdout",
     "output_type": "stream",
     "text": [
      "BIKE IS FASTER THAN CAR:False\n"
     ]
    }
   ],
   "source": [
    "maxbi=150\n",
    "maxc=200\n",
    "print(f\"BIKE IS FASTER THAN CAR:{maxbi > maxc}\")"
   ]
  },
  {
   "cell_type": "code",
   "execution_count": null,
   "id": "cc2177f3-89a3-4fea-8a92-3f20e032eb9b",
   "metadata": {},
   "outputs": [],
   "source": [
    "a=25\n",
    "b=101\n",
    "\n"
   ]
  },
  {
   "cell_type": "code",
   "execution_count": 52,
   "id": "77ad2632-0624-42ee-be81-8fabd9f04967",
   "metadata": {},
   "outputs": [
    {
     "data": {
      "text/plain": [
       "0.6666666666666666"
      ]
     },
     "execution_count": 52,
     "metadata": {},
     "output_type": "execute_result"
    }
   ],
   "source": [
    "a/b"
   ]
  },
  {
   "cell_type": "code",
   "execution_count": 53,
   "id": "eeb8f17b-cacb-4944-acdd-10df28e7ce20",
   "metadata": {},
   "outputs": [
    {
     "data": {
      "text/plain": [
       "0"
      ]
     },
     "execution_count": 53,
     "metadata": {},
     "output_type": "execute_result"
    }
   ],
   "source": [
    "a//b"
   ]
  },
  {
   "cell_type": "code",
   "execution_count": 54,
   "id": "6d32f4c7-138c-4133-983a-8334eb16e1d8",
   "metadata": {},
   "outputs": [
    {
     "data": {
      "text/plain": [
       "2"
      ]
     },
     "execution_count": 54,
     "metadata": {},
     "output_type": "execute_result"
    }
   ],
   "source": [
    "a%b  # displays remainder"
   ]
  },
  {
   "cell_type": "code",
   "execution_count": 55,
   "id": "aab6d802-0852-447f-bc55-4415bed6dd67",
   "metadata": {},
   "outputs": [
    {
     "data": {
      "text/plain": [
       "1.5"
      ]
     },
     "execution_count": 55,
     "metadata": {},
     "output_type": "execute_result"
    }
   ],
   "source": [
    "b/a   #complete div"
   ]
  },
  {
   "cell_type": "code",
   "execution_count": 56,
   "id": "f2172b14-d8b9-43b8-a60f-a02738867c50",
   "metadata": {},
   "outputs": [
    {
     "data": {
      "text/plain": [
       "1"
      ]
     },
     "execution_count": 56,
     "metadata": {},
     "output_type": "execute_result"
    }
   ],
   "source": [
    "b//a   #return int"
   ]
  },
  {
   "cell_type": "code",
   "execution_count": null,
   "id": "fd00b772-5b64-4555-9512-b5de9b560923",
   "metadata": {},
   "outputs": [],
   "source": [
    "# LOGICAL AND    (and)\n",
    "# BITWISE AND    ( & )"
   ]
  },
  {
   "cell_type": "code",
   "execution_count": 57,
   "id": "02ebe7ec-4ffd-4642-a48f-5a5379e49199",
   "metadata": {},
   "outputs": [
    {
     "data": {
      "text/plain": [
       "-11"
      ]
     },
     "execution_count": 57,
     "metadata": {},
     "output_type": "execute_result"
    }
   ],
   "source": [
    "var=10\n",
    "~var"
   ]
  },
  {
   "cell_type": "code",
   "execution_count": 59,
   "id": "e4c1ad4c-de04-4cef-ad97-8c441f4a15e1",
   "metadata": {},
   "outputs": [
    {
     "data": {
      "text/plain": [
       "'0b1010'"
      ]
     },
     "execution_count": 59,
     "metadata": {},
     "output_type": "execute_result"
    }
   ],
   "source": [
    "bin(var)    # convert to binary"
   ]
  },
  {
   "cell_type": "code",
   "execution_count": 60,
   "id": "41e223e3-5ae5-46e6-9bdf-355ebc16526e",
   "metadata": {},
   "outputs": [
    {
     "data": {
      "text/plain": [
       "True"
      ]
     },
     "execution_count": 60,
     "metadata": {},
     "output_type": "execute_result"
    }
   ],
   "source": [
    "True | True"
   ]
  },
  {
   "cell_type": "code",
   "execution_count": 61,
   "id": "9cc52eda-7f89-4ba7-bd6d-6cba5f0423ae",
   "metadata": {},
   "outputs": [
    {
     "data": {
      "text/plain": [
       "False"
      ]
     },
     "execution_count": 61,
     "metadata": {},
     "output_type": "execute_result"
    }
   ],
   "source": [
    "True & False"
   ]
  },
  {
   "cell_type": "markdown",
   "id": "0a2c7dd8-c5bd-4bf4-a8f1-080280023f57",
   "metadata": {},
   "source": [
    "#strings"
   ]
  },
  {
   "cell_type": "code",
   "execution_count": 62,
   "id": "aabd9af9-e61d-4e23-87c7-24eec828f282",
   "metadata": {},
   "outputs": [
    {
     "data": {
      "text/plain": [
       "'WELCOME TO DATA SCIENCE'"
      ]
     },
     "execution_count": 62,
     "metadata": {},
     "output_type": "execute_result"
    }
   ],
   "source": [
    "'WELCOME TO DATA SCIENCE'"
   ]
  },
  {
   "cell_type": "code",
   "execution_count": 63,
   "id": "081a4908-4be1-429e-98f7-970e129ee0b4",
   "metadata": {},
   "outputs": [
    {
     "data": {
      "text/plain": [
       "str"
      ]
     },
     "execution_count": 63,
     "metadata": {},
     "output_type": "execute_result"
    }
   ],
   "source": [
    "str1='Welcome to Data Science Masters'\n",
    "type(str1)"
   ]
  },
  {
   "cell_type": "code",
   "execution_count": null,
   "id": "8a951975-4c6c-4eff-bffd-d0298abc5036",
   "metadata": {},
   "outputs": [],
   "source": [
    "#string is immutable"
   ]
  },
  {
   "cell_type": "code",
   "execution_count": 64,
   "id": "f36b1f06-ac21-40d8-a0ff-6076f549b291",
   "metadata": {},
   "outputs": [
    {
     "data": {
      "text/plain": [
       "'ABDUL SUBHAN'"
      ]
     },
     "execution_count": 64,
     "metadata": {},
     "output_type": "execute_result"
    }
   ],
   "source": [
    "str1=\"ABDUL SUBHAN\"\n",
    "str1\n"
   ]
  },
  {
   "cell_type": "code",
   "execution_count": null,
   "id": "a4bfb42c-a8f4-4d77-bc82-382e039896e1",
   "metadata": {},
   "outputs": [],
   "source": [
    "str1."
   ]
  },
  {
   "cell_type": "code",
   "execution_count": 66,
   "id": "2095fe6a-b9cf-438a-9c16-c495f802a777",
   "metadata": {},
   "outputs": [
    {
     "data": {
      "text/plain": [
       "['__add__',\n",
       " '__class__',\n",
       " '__contains__',\n",
       " '__delattr__',\n",
       " '__dir__',\n",
       " '__doc__',\n",
       " '__eq__',\n",
       " '__format__',\n",
       " '__ge__',\n",
       " '__getattribute__',\n",
       " '__getitem__',\n",
       " '__getnewargs__',\n",
       " '__gt__',\n",
       " '__hash__',\n",
       " '__init__',\n",
       " '__init_subclass__',\n",
       " '__iter__',\n",
       " '__le__',\n",
       " '__len__',\n",
       " '__lt__',\n",
       " '__mod__',\n",
       " '__mul__',\n",
       " '__ne__',\n",
       " '__new__',\n",
       " '__reduce__',\n",
       " '__reduce_ex__',\n",
       " '__repr__',\n",
       " '__rmod__',\n",
       " '__rmul__',\n",
       " '__setattr__',\n",
       " '__sizeof__',\n",
       " '__str__',\n",
       " '__subclasshook__',\n",
       " 'capitalize',\n",
       " 'casefold',\n",
       " 'center',\n",
       " 'count',\n",
       " 'encode',\n",
       " 'endswith',\n",
       " 'expandtabs',\n",
       " 'find',\n",
       " 'format',\n",
       " 'format_map',\n",
       " 'index',\n",
       " 'isalnum',\n",
       " 'isalpha',\n",
       " 'isascii',\n",
       " 'isdecimal',\n",
       " 'isdigit',\n",
       " 'isidentifier',\n",
       " 'islower',\n",
       " 'isnumeric',\n",
       " 'isprintable',\n",
       " 'isspace',\n",
       " 'istitle',\n",
       " 'isupper',\n",
       " 'join',\n",
       " 'ljust',\n",
       " 'lower',\n",
       " 'lstrip',\n",
       " 'maketrans',\n",
       " 'partition',\n",
       " 'removeprefix',\n",
       " 'removesuffix',\n",
       " 'replace',\n",
       " 'rfind',\n",
       " 'rindex',\n",
       " 'rjust',\n",
       " 'rpartition',\n",
       " 'rsplit',\n",
       " 'rstrip',\n",
       " 'split',\n",
       " 'splitlines',\n",
       " 'startswith',\n",
       " 'strip',\n",
       " 'swapcase',\n",
       " 'title',\n",
       " 'translate',\n",
       " 'upper',\n",
       " 'zfill']"
      ]
     },
     "execution_count": 66,
     "metadata": {},
     "output_type": "execute_result"
    }
   ],
   "source": [
    "welcome=\"Hello World\"\n",
    "dir(welcome)"
   ]
  },
  {
   "cell_type": "code",
   "execution_count": null,
   "id": "ab3c78a1-6aee-4497-bfe0-e32498b1e25b",
   "metadata": {},
   "outputs": [],
   "source": []
  },
  {
   "cell_type": "code",
   "execution_count": 69,
   "id": "d8a9c414-0c06-4583-aaa3-00076b6d5a11",
   "metadata": {},
   "outputs": [
    {
     "data": {
      "text/plain": [
       "'I'"
      ]
     },
     "execution_count": 69,
     "metadata": {},
     "output_type": "execute_result"
    }
   ],
   "source": [
    "string=\"NIT PATNA\"\n",
    "string[1]"
   ]
  },
  {
   "cell_type": "code",
   "execution_count": 70,
   "id": "a61f2d81-e904-49fa-85d3-d50da56e0283",
   "metadata": {},
   "outputs": [
    {
     "data": {
      "text/plain": [
       "'IT PATNA'"
      ]
     },
     "execution_count": 70,
     "metadata": {},
     "output_type": "execute_result"
    }
   ],
   "source": [
    "string[1:]"
   ]
  },
  {
   "cell_type": "code",
   "execution_count": 72,
   "id": "5a3f9b7d-c78d-4781-8e9a-082ad4396a67",
   "metadata": {},
   "outputs": [
    {
     "data": {
      "text/plain": [
       "'TNA'"
      ]
     },
     "execution_count": 72,
     "metadata": {},
     "output_type": "execute_result"
    }
   ],
   "source": [
    "string[-3:]"
   ]
  },
  {
   "cell_type": "code",
   "execution_count": 74,
   "id": "5adeea74-d6aa-4671-b6fb-b85fdc550fa3",
   "metadata": {},
   "outputs": [],
   "source": [
    "name=\"Karthik\""
   ]
  },
  {
   "cell_type": "code",
   "execution_count": 75,
   "id": "40af7758-194f-42f0-a7db-dc965643579d",
   "metadata": {},
   "outputs": [
    {
     "data": {
      "text/plain": [
       "'rt'"
      ]
     },
     "execution_count": 75,
     "metadata": {},
     "output_type": "execute_result"
    }
   ],
   "source": [
    "name[-5:4]"
   ]
  },
  {
   "cell_type": "code",
   "execution_count": 76,
   "id": "5ddc484b-a2d1-492b-a953-aa3014834dee",
   "metadata": {},
   "outputs": [
    {
     "data": {
      "text/plain": [
       "'ANTAP TIN'"
      ]
     },
     "execution_count": 76,
     "metadata": {},
     "output_type": "execute_result"
    }
   ],
   "source": [
    "string[::-1]"
   ]
  },
  {
   "cell_type": "code",
   "execution_count": 77,
   "id": "b5099f69-51b6-4580-bc3c-dccc7f0268da",
   "metadata": {},
   "outputs": [],
   "source": [
    "course_name = \"DATA SCIENCE MASTERS\""
   ]
  },
  {
   "cell_type": "code",
   "execution_count": 79,
   "id": "27661683-7125-412e-a01c-4d027abbd3d1",
   "metadata": {},
   "outputs": [
    {
     "data": {
      "text/plain": [
       "'SCIENCE'"
      ]
     },
     "execution_count": 79,
     "metadata": {},
     "output_type": "execute_result"
    }
   ],
   "source": [
    "course_name[5:12]"
   ]
  },
  {
   "cell_type": "code",
   "execution_count": 81,
   "id": "c5603152-9f22-4bc7-b7c6-03e5ef704a30",
   "metadata": {},
   "outputs": [
    {
     "data": {
      "text/plain": [
       "'M ECNEI'"
      ]
     },
     "execution_count": 81,
     "metadata": {},
     "output_type": "execute_result"
    }
   ],
   "source": [
    "course_name[11:4:-1]"
   ]
  },
  {
   "cell_type": "code",
   "execution_count": 83,
   "id": "7fbcdcf5-dfe1-4e82-bc88-75067d77794c",
   "metadata": {},
   "outputs": [
    {
     "data": {
      "text/plain": [
       "'DATA SCIENCE MASTERS COURSE'"
      ]
     },
     "execution_count": 83,
     "metadata": {},
     "output_type": "execute_result"
    }
   ],
   "source": [
    "#concatenation\n",
    "course_name +  \" COURSE\""
   ]
  },
  {
   "cell_type": "code",
   "execution_count": 84,
   "id": "9a199ee1-d955-4a49-a0b3-2836d355d3b1",
   "metadata": {},
   "outputs": [
    {
     "data": {
      "text/plain": [
       "'HelloWorld'"
      ]
     },
     "execution_count": 84,
     "metadata": {},
     "output_type": "execute_result"
    }
   ],
   "source": [
    "\"Hello\" + \"World\""
   ]
  },
  {
   "cell_type": "code",
   "execution_count": 85,
   "id": "b35ec187-719b-4b00-b448-279c896d9779",
   "metadata": {},
   "outputs": [
    {
     "data": {
      "text/plain": [
       "'DATA SCIENCE MASTERSDATA SCIENCE MASTERSDATA SCIENCE MASTERSDATA SCIENCE MASTERSDATA SCIENCE MASTERS'"
      ]
     },
     "execution_count": 85,
     "metadata": {},
     "output_type": "execute_result"
    }
   ],
   "source": [
    "course_name *5"
   ]
  },
  {
   "cell_type": "code",
   "execution_count": 86,
   "id": "7ae5a24c-4703-49d6-9ee4-10fb4f62e257",
   "metadata": {},
   "outputs": [
    {
     "data": {
      "text/plain": [
       "20"
      ]
     },
     "execution_count": 86,
     "metadata": {},
     "output_type": "execute_result"
    }
   ],
   "source": [
    "len(course_name)"
   ]
  },
  {
   "cell_type": "code",
   "execution_count": 99,
   "id": "7b0a1674-5ab5-4fa9-90c6-e9f08b6b11f7",
   "metadata": {},
   "outputs": [
    {
     "data": {
      "text/plain": [
       "9"
      ]
     },
     "execution_count": 99,
     "metadata": {},
     "output_type": "execute_result"
    }
   ],
   "source": [
    "course_name.find('N')"
   ]
  },
  {
   "cell_type": "code",
   "execution_count": 93,
   "id": "3fc004bd-f5c9-4bdc-9f27-c6e04ea403cd",
   "metadata": {},
   "outputs": [
    {
     "data": {
      "text/plain": [
       "-1"
      ]
     },
     "execution_count": 93,
     "metadata": {},
     "output_type": "execute_result"
    }
   ],
   "source": [
    "course_name.find(\"n\")"
   ]
  },
  {
   "cell_type": "code",
   "execution_count": 98,
   "id": "2bd95942-b0ff-4c1f-8105-7ac154caec3a",
   "metadata": {},
   "outputs": [
    {
     "data": {
      "text/plain": [
       "3"
      ]
     },
     "execution_count": 98,
     "metadata": {},
     "output_type": "execute_result"
    }
   ],
   "source": [
    "course_name.find(\"A\",2,10)"
   ]
  },
  {
   "cell_type": "code",
   "execution_count": 97,
   "id": "08b26ffb-97fc-41c4-878d-2ce08d76daf6",
   "metadata": {},
   "outputs": [
    {
     "data": {
      "text/plain": [
       "3"
      ]
     },
     "execution_count": 97,
     "metadata": {},
     "output_type": "execute_result"
    }
   ],
   "source": [
    "course_name.count('A')"
   ]
  },
  {
   "cell_type": "code",
   "execution_count": 100,
   "id": "74f3869e-813d-447a-9267-dcc0411ea4cf",
   "metadata": {},
   "outputs": [
    {
     "data": {
      "text/plain": [
       "2"
      ]
     },
     "execution_count": 100,
     "metadata": {},
     "output_type": "execute_result"
    }
   ],
   "source": [
    "course_name.count(' ')   #counts number of spaces"
   ]
  },
  {
   "cell_type": "code",
   "execution_count": 104,
   "id": "57b2a0fd-a329-47d7-8e0b-3710f8a1b6f5",
   "metadata": {},
   "outputs": [
    {
     "data": {
      "text/plain": [
       "5"
      ]
     },
     "execution_count": 104,
     "metadata": {},
     "output_type": "execute_result"
    }
   ],
   "source": [
    "course_name.find(\"SCIENCE\")"
   ]
  },
  {
   "cell_type": "markdown",
   "id": "82c16012-8b07-4306-88dd-97e595f82689",
   "metadata": {},
   "source": [
    "#STRING SPLIT FUNCTION"
   ]
  },
  {
   "cell_type": "code",
   "execution_count": 105,
   "id": "1ee85935-468b-4bb1-9bcf-d9ff050bf2e3",
   "metadata": {},
   "outputs": [
    {
     "data": {
      "text/plain": [
       "['DATA', 'SCIENCE', 'MASTERS']"
      ]
     },
     "execution_count": 105,
     "metadata": {},
     "output_type": "execute_result"
    }
   ],
   "source": [
    "course_name.split(' ')"
   ]
  },
  {
   "cell_type": "code",
   "execution_count": 106,
   "id": "8e39c87f-0635-4d43-b6c9-593dd27a5742",
   "metadata": {},
   "outputs": [
    {
     "data": {
      "text/plain": [
       "['DATA ', 'CIENCE MA', 'TER', '']"
      ]
     },
     "execution_count": 106,
     "metadata": {},
     "output_type": "execute_result"
    }
   ],
   "source": [
    "course_name.split('S')"
   ]
  },
  {
   "cell_type": "code",
   "execution_count": 107,
   "id": "784bac74-ee8b-481e-aff9-eba1820af7b4",
   "metadata": {},
   "outputs": [
    {
     "data": {
      "text/plain": [
       "('DATA ', 'S', 'CIENCE MASTERS')"
      ]
     },
     "execution_count": 107,
     "metadata": {},
     "output_type": "execute_result"
    }
   ],
   "source": [
    "course_name.partition('S')"
   ]
  },
  {
   "cell_type": "code",
   "execution_count": 108,
   "id": "a6ba2c00-1520-4928-8535-771fd1006599",
   "metadata": {},
   "outputs": [],
   "source": [
    "# split for all"
   ]
  },
  {
   "cell_type": "code",
   "execution_count": null,
   "id": "5e9237f2-093d-4921-a0cf-9c8b801ca539",
   "metadata": {},
   "outputs": [],
   "source": [
    "#paritition first occurence"
   ]
  },
  {
   "cell_type": "code",
   "execution_count": 110,
   "id": "8ffbedac-c773-43d1-bb79-73525eb8d0af",
   "metadata": {},
   "outputs": [
    {
     "data": {
      "text/plain": [
       "('DATA ', 'S', 'CIENCE MASTERS')"
      ]
     },
     "execution_count": 110,
     "metadata": {},
     "output_type": "execute_result"
    }
   ],
   "source": [
    "course_name.partition('S')"
   ]
  },
  {
   "cell_type": "code",
   "execution_count": 109,
   "id": "74f88083-d159-42bd-ad2e-66c093e456ca",
   "metadata": {},
   "outputs": [
    {
     "data": {
      "text/plain": [
       "['DATA ', 'CIENCE MA', 'TER', '']"
      ]
     },
     "execution_count": 109,
     "metadata": {},
     "output_type": "execute_result"
    }
   ],
   "source": [
    "course_name.split('S')"
   ]
  },
  {
   "cell_type": "code",
   "execution_count": 112,
   "id": "bcc6cc17-d816-44c5-9a77-bf5ec4a6695b",
   "metadata": {},
   "outputs": [],
   "source": [
    "#string upper and lower case"
   ]
  },
  {
   "cell_type": "code",
   "execution_count": 113,
   "id": "b3de0803-59d2-4995-abda-e94fa90d22fd",
   "metadata": {},
   "outputs": [
    {
     "data": {
      "text/plain": [
       "'DATA SCIENCE MASTERS'"
      ]
     },
     "execution_count": 113,
     "metadata": {},
     "output_type": "execute_result"
    }
   ],
   "source": [
    "course_name.upper()"
   ]
  },
  {
   "cell_type": "code",
   "execution_count": 114,
   "id": "321227a3-54b2-4b6a-b847-731b5da67c51",
   "metadata": {},
   "outputs": [
    {
     "data": {
      "text/plain": [
       "'data science masters'"
      ]
     },
     "execution_count": 114,
     "metadata": {},
     "output_type": "execute_result"
    }
   ],
   "source": [
    "course_name.lower()"
   ]
  },
  {
   "cell_type": "code",
   "execution_count": 115,
   "id": "31b96a82-b9f5-44d1-919a-73b5595433dd",
   "metadata": {},
   "outputs": [
    {
     "data": {
      "text/plain": [
       "'DATA SCIENCE MASTERS'"
      ]
     },
     "execution_count": 115,
     "metadata": {},
     "output_type": "execute_result"
    }
   ],
   "source": [
    "course_name\n"
   ]
  },
  {
   "cell_type": "code",
   "execution_count": 116,
   "id": "e0afb1ac-83eb-4f32-bed0-b713b98215d2",
   "metadata": {},
   "outputs": [
    {
     "data": {
      "text/plain": [
       "'sUBhAn'"
      ]
     },
     "execution_count": 116,
     "metadata": {},
     "output_type": "execute_result"
    }
   ],
   "source": [
    "s='SubHaN'\n",
    "s.swapcase()"
   ]
  },
  {
   "cell_type": "code",
   "execution_count": 118,
   "id": "78183613-948d-4ef8-ae5f-1748a614499f",
   "metadata": {},
   "outputs": [
    {
     "data": {
      "text/plain": [
       "'Data Science Masters'"
      ]
     },
     "execution_count": 118,
     "metadata": {},
     "output_type": "execute_result"
    }
   ],
   "source": [
    "course_name.title()  #TITLE CASE"
   ]
  },
  {
   "cell_type": "code",
   "execution_count": null,
   "id": "40307a0b-3c00-41bc-838c-7f48892b2a09",
   "metadata": {},
   "outputs": [],
   "source": []
  },
  {
   "cell_type": "code",
   "execution_count": null,
   "id": "6ed66391-33e5-426b-8d22-e564df095fcf",
   "metadata": {},
   "outputs": [],
   "source": []
  },
  {
   "cell_type": "code",
   "execution_count": null,
   "id": "77516a12-3599-4323-a95e-b2a49809ef3b",
   "metadata": {},
   "outputs": [],
   "source": []
  },
  {
   "cell_type": "code",
   "execution_count": null,
   "id": "87a19134-a092-4eb5-87e4-9dd38bf3ea0e",
   "metadata": {},
   "outputs": [],
   "source": []
  },
  {
   "cell_type": "code",
   "execution_count": null,
   "id": "dfa767f5-9350-412c-be23-3db0e68af037",
   "metadata": {},
   "outputs": [],
   "source": []
  },
  {
   "cell_type": "code",
   "execution_count": null,
   "id": "ab6a235e-96cc-4904-9328-ba63fdbe8c42",
   "metadata": {},
   "outputs": [],
   "source": []
  },
  {
   "cell_type": "code",
   "execution_count": null,
   "id": "1e534c4c-ec32-4527-86cf-484f9b3eb7a0",
   "metadata": {},
   "outputs": [],
   "source": []
  },
  {
   "cell_type": "code",
   "execution_count": null,
   "id": "a725b63d-18e6-4a6c-b4c2-0ee49b26e557",
   "metadata": {},
   "outputs": [],
   "source": []
  },
  {
   "cell_type": "code",
   "execution_count": null,
   "id": "4d73635a-12b0-4f32-aac1-b59c141ff553",
   "metadata": {},
   "outputs": [],
   "source": []
  },
  {
   "cell_type": "code",
   "execution_count": null,
   "id": "7097a327-ba91-433e-9699-afe5074fb9b0",
   "metadata": {},
   "outputs": [],
   "source": []
  },
  {
   "cell_type": "code",
   "execution_count": null,
   "id": "5656be89-008f-4a3f-99a2-f287c40f5923",
   "metadata": {},
   "outputs": [],
   "source": []
  },
  {
   "cell_type": "code",
   "execution_count": null,
   "id": "259b5842-3889-4d75-825a-1663fcf122e7",
   "metadata": {},
   "outputs": [],
   "source": []
  },
  {
   "cell_type": "code",
   "execution_count": null,
   "id": "225668a7-9ec7-4813-aa16-234f73bd2acf",
   "metadata": {},
   "outputs": [],
   "source": []
  },
  {
   "cell_type": "code",
   "execution_count": null,
   "id": "3d615328-c007-4cb4-8950-faefbf1ce9af",
   "metadata": {},
   "outputs": [],
   "source": []
  },
  {
   "cell_type": "code",
   "execution_count": null,
   "id": "cd7cbdf4-47fe-4fb4-8634-16432f7d56e1",
   "metadata": {},
   "outputs": [],
   "source": []
  },
  {
   "cell_type": "code",
   "execution_count": null,
   "id": "9bffdb94-e10f-4fad-9c96-20a875cb2790",
   "metadata": {},
   "outputs": [],
   "source": []
  },
  {
   "cell_type": "code",
   "execution_count": null,
   "id": "62854a69-8fc2-4cec-84d5-4e98c30149c4",
   "metadata": {},
   "outputs": [],
   "source": []
  }
 ],
 "metadata": {
  "kernelspec": {
   "display_name": "Python 3 (ipykernel)",
   "language": "python",
   "name": "python3"
  },
  "language_info": {
   "codemirror_mode": {
    "name": "ipython",
    "version": 3
   },
   "file_extension": ".py",
   "mimetype": "text/x-python",
   "name": "python",
   "nbconvert_exporter": "python",
   "pygments_lexer": "ipython3",
   "version": "3.10.8"
  }
 },
 "nbformat": 4,
 "nbformat_minor": 5
}

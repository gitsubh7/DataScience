{
 "cells": [
  {
   "cell_type": "code",
   "execution_count": 6,
   "id": "e30ba567-fc28-4392-8c4b-ed47995ca869",
   "metadata": {},
   "outputs": [],
   "source": [
    "def test():\n",
    "    print(\"This is my first function\")  "
   ]
  },
  {
   "cell_type": "code",
   "execution_count": 5,
   "id": "8b4523ee-4950-4ab3-becb-c11f13d762bf",
   "metadata": {},
   "outputs": [
    {
     "name": "stdout",
     "output_type": "stream",
     "text": [
      "This is my first function\n"
     ]
    }
   ],
   "source": [
    "test()"
   ]
  },
  {
   "cell_type": "code",
   "execution_count": 10,
   "id": "917cefb4-e2ff-4e81-8807-efb7df632f9b",
   "metadata": {},
   "outputs": [],
   "source": [
    "def test2():\n",
    "    return \"this is my function with return\""
   ]
  },
  {
   "cell_type": "code",
   "execution_count": 11,
   "id": "8f433cac-becd-47a3-8295-c0f65ec0e481",
   "metadata": {},
   "outputs": [
    {
     "data": {
      "text/plain": [
       "'this is my function with returnSUBHAN'"
      ]
     },
     "execution_count": 11,
     "metadata": {},
     "output_type": "execute_result"
    }
   ],
   "source": [
    "test2()+\"SUBHAN\""
   ]
  },
  {
   "cell_type": "code",
   "execution_count": 12,
   "id": "f1c6c1d0-275f-4817-b0d3-5c04d347dc58",
   "metadata": {},
   "outputs": [
    {
     "name": "stdout",
     "output_type": "stream",
     "text": [
      "This is my first function\n"
     ]
    },
    {
     "ename": "TypeError",
     "evalue": "unsupported operand type(s) for +: 'NoneType' and 'str'",
     "output_type": "error",
     "traceback": [
      "\u001b[0;31m---------------------------------------------------------------------------\u001b[0m",
      "\u001b[0;31mTypeError\u001b[0m                                 Traceback (most recent call last)",
      "Cell \u001b[0;32mIn[12], line 1\u001b[0m\n\u001b[0;32m----> 1\u001b[0m \u001b[43mtest\u001b[49m\u001b[43m(\u001b[49m\u001b[43m)\u001b[49m\u001b[38;5;241;43m+\u001b[39;49m\u001b[38;5;124;43m\"\u001b[39;49m\u001b[38;5;124;43mSUBHAN\u001b[39;49m\u001b[38;5;124;43m\"\u001b[39;49m\n",
      "\u001b[0;31mTypeError\u001b[0m: unsupported operand type(s) for +: 'NoneType' and 'str'"
     ]
    }
   ],
   "source": [
    "test()+\"SUBHAN\""
   ]
  },
  {
   "cell_type": "code",
   "execution_count": 13,
   "id": "d1ae999b-defb-4c60-a672-964e805015d4",
   "metadata": {},
   "outputs": [],
   "source": [
    "def test3():\n",
    "    return 1,4,'PWSKILLS',34.56"
   ]
  },
  {
   "cell_type": "code",
   "execution_count": 17,
   "id": "8123b29d-df45-4064-bc31-84e4c69f58cd",
   "metadata": {},
   "outputs": [
    {
     "data": {
      "text/plain": [
       "(1, 4, 'PWSKILLS', 34.56)"
      ]
     },
     "execution_count": 17,
     "metadata": {},
     "output_type": "execute_result"
    }
   ],
   "source": [
    "test3()"
   ]
  },
  {
   "cell_type": "code",
   "execution_count": 18,
   "id": "bc4906dc-5ade-435f-bffc-45b4e4b07e1d",
   "metadata": {},
   "outputs": [],
   "source": [
    "a=1,2,3,4,5"
   ]
  },
  {
   "cell_type": "code",
   "execution_count": 19,
   "id": "6868dc99-67f2-4c2e-92f8-8dc85178220f",
   "metadata": {},
   "outputs": [
    {
     "data": {
      "text/plain": [
       "(1, 2, 3, 4, 5)"
      ]
     },
     "execution_count": 19,
     "metadata": {},
     "output_type": "execute_result"
    }
   ],
   "source": [
    "a"
   ]
  },
  {
   "cell_type": "code",
   "execution_count": 21,
   "id": "3b799250-92d2-40c6-bd93-70ea252f6452",
   "metadata": {},
   "outputs": [],
   "source": [
    "a,b,c,d=1,2,34.56,True"
   ]
  },
  {
   "cell_type": "code",
   "execution_count": 22,
   "id": "bda9c51a-0a64-4d82-9612-91f981cad18d",
   "metadata": {},
   "outputs": [
    {
     "data": {
      "text/plain": [
       "(1, 4, 'PWSKILLS', 34.56)"
      ]
     },
     "execution_count": 22,
     "metadata": {},
     "output_type": "execute_result"
    }
   ],
   "source": [
    "test3()"
   ]
  },
  {
   "cell_type": "code",
   "execution_count": 24,
   "id": "79deede1-7b4e-4d57-96d0-1983e999b79d",
   "metadata": {},
   "outputs": [
    {
     "data": {
      "text/plain": [
       "1"
      ]
     },
     "execution_count": 24,
     "metadata": {},
     "output_type": "execute_result"
    }
   ],
   "source": [
    "test3()[0]"
   ]
  },
  {
   "cell_type": "code",
   "execution_count": 25,
   "id": "a1b168a2-a6a5-429b-94c9-c5e9fbe1826e",
   "metadata": {},
   "outputs": [],
   "source": [
    "a,b,c,d=test3()"
   ]
  },
  {
   "cell_type": "code",
   "execution_count": 26,
   "id": "16e1c152-ea0a-43e9-a548-ce821e2e9dcb",
   "metadata": {},
   "outputs": [
    {
     "data": {
      "text/plain": [
       "1"
      ]
     },
     "execution_count": 26,
     "metadata": {},
     "output_type": "execute_result"
    }
   ],
   "source": [
    "a"
   ]
  },
  {
   "cell_type": "code",
   "execution_count": 27,
   "id": "88dffe25-f3d0-483d-9c24-ba6445b7e2d8",
   "metadata": {},
   "outputs": [
    {
     "data": {
      "text/plain": [
       "4"
      ]
     },
     "execution_count": 27,
     "metadata": {},
     "output_type": "execute_result"
    }
   ],
   "source": [
    "b"
   ]
  },
  {
   "cell_type": "code",
   "execution_count": 28,
   "id": "ab5b5523-a57f-4112-bcce-7ef3a6d4be3d",
   "metadata": {},
   "outputs": [
    {
     "data": {
      "text/plain": [
       "'PWSKILLS'"
      ]
     },
     "execution_count": 28,
     "metadata": {},
     "output_type": "execute_result"
    }
   ],
   "source": [
    "c"
   ]
  },
  {
   "cell_type": "code",
   "execution_count": 29,
   "id": "1ad0b76c-f139-4932-afb7-1c579e5348d5",
   "metadata": {},
   "outputs": [
    {
     "data": {
      "text/plain": [
       "34.56"
      ]
     },
     "execution_count": 29,
     "metadata": {},
     "output_type": "execute_result"
    }
   ],
   "source": [
    "d"
   ]
  },
  {
   "cell_type": "code",
   "execution_count": 31,
   "id": "781156fd-2f1b-4bd1-b8eb-607c9466de63",
   "metadata": {},
   "outputs": [],
   "source": [
    "def test4():\n",
    "    a=3*4+5\n",
    "    return a"
   ]
  },
  {
   "cell_type": "code",
   "execution_count": 32,
   "id": "b494fea3-9aad-422e-bfc5-6b7ccbd3a99e",
   "metadata": {},
   "outputs": [
    {
     "data": {
      "text/plain": [
       "17"
      ]
     },
     "execution_count": 32,
     "metadata": {},
     "output_type": "execute_result"
    }
   ],
   "source": [
    "test4()"
   ]
  },
  {
   "cell_type": "code",
   "execution_count": 33,
   "id": "bf2af518-8e4f-4512-a6cc-6adf4f71210d",
   "metadata": {},
   "outputs": [
    {
     "data": {
      "text/plain": [
       "int"
      ]
     },
     "execution_count": 33,
     "metadata": {},
     "output_type": "execute_result"
    }
   ],
   "source": [
    "type(test4())"
   ]
  },
  {
   "cell_type": "code",
   "execution_count": 34,
   "id": "c0ded42a-5bb5-4394-a3b9-092c533cf28d",
   "metadata": {},
   "outputs": [],
   "source": [
    "def test5(a,b):\n",
    "    c=a+b\n",
    "    return c\n"
   ]
  },
  {
   "cell_type": "code",
   "execution_count": 35,
   "id": "e878cadc-18d3-444b-bd90-2b078fe24892",
   "metadata": {},
   "outputs": [
    {
     "data": {
      "text/plain": [
       "5"
      ]
     },
     "execution_count": 35,
     "metadata": {},
     "output_type": "execute_result"
    }
   ],
   "source": [
    "test5(2,3)"
   ]
  },
  {
   "cell_type": "code",
   "execution_count": 36,
   "id": "7b76851a-81cf-4400-a76c-1b34961aaf85",
   "metadata": {},
   "outputs": [
    {
     "data": {
      "text/plain": [
       "'kumarsudh'"
      ]
     },
     "execution_count": 36,
     "metadata": {},
     "output_type": "execute_result"
    }
   ],
   "source": [
    "test5(b='sudh',a='kumar')"
   ]
  },
  {
   "cell_type": "code",
   "execution_count": 37,
   "id": "9072a11b-3287-4a91-a4b3-adafcdf0c4c7",
   "metadata": {},
   "outputs": [],
   "source": [
    "l=[1,2,3,4,5,'abdul','subhan',[1,2,3,4,5]]"
   ]
  },
  {
   "cell_type": "code",
   "execution_count": 38,
   "id": "bd95ed00-43cd-4523-afdb-7d17db067a83",
   "metadata": {},
   "outputs": [],
   "source": [
    "# create a function which will take list as an input, final result as all numeric vaues"
   ]
  },
  {
   "cell_type": "code",
   "execution_count": 42,
   "id": "12b7d956-db64-4a6f-8afa-722dc4c0048d",
   "metadata": {},
   "outputs": [],
   "source": [
    "def test6(a):\n",
    "    n=[]\n",
    "    for i in a:\n",
    "        if type(i)== int or type(i)== float:\n",
    "            n.append(i)\n",
    "    return n\n",
    "    \n",
    "    "
   ]
  },
  {
   "cell_type": "code",
   "execution_count": 43,
   "id": "6553edf2-158c-488b-9bb5-a92c4d09e43f",
   "metadata": {},
   "outputs": [
    {
     "data": {
      "text/plain": [
       "[1, 2, 3, 4, 5]"
      ]
     },
     "execution_count": 43,
     "metadata": {},
     "output_type": "execute_result"
    }
   ],
   "source": [
    "test6(l)"
   ]
  },
  {
   "cell_type": "code",
   "execution_count": 44,
   "id": "fde5a2ff-525e-4f72-96b7-256efc44d7a4",
   "metadata": {},
   "outputs": [
    {
     "data": {
      "text/plain": [
       "[1, 2, 3, 4, 5, 'abdul', 'subhan', [1, 2, 3, 4, 5]]"
      ]
     },
     "execution_count": 44,
     "metadata": {},
     "output_type": "execute_result"
    }
   ],
   "source": [
    "l"
   ]
  },
  {
   "cell_type": "code",
   "execution_count": 47,
   "id": "4ad56592-f15a-4a2f-899c-2783886224b4",
   "metadata": {},
   "outputs": [],
   "source": [
    "def test7(a):\n",
    "    n=[]\n",
    "    for i in a:\n",
    "        if type(i)==list:\n",
    "            for j in i:\n",
    "                if type(j)==int or type(j)==float:\n",
    "                    n.append(j)\n",
    "        else:\n",
    "            if type(i)==int or type(i)==float:\n",
    "                n.append(i)\n",
    "    return n\n",
    "                "
   ]
  },
  {
   "cell_type": "code",
   "execution_count": 48,
   "id": "826b09ed-f788-4472-ab88-5dfec562d870",
   "metadata": {},
   "outputs": [
    {
     "data": {
      "text/plain": [
       "[1, 2, 3, 4, 5, 1, 2, 3, 4, 5]"
      ]
     },
     "execution_count": 48,
     "metadata": {},
     "output_type": "execute_result"
    }
   ],
   "source": [
    "test7(l)"
   ]
  },
  {
   "cell_type": "code",
   "execution_count": 49,
   "id": "6c143fa2-4c8f-4e72-bc64-ac5d698c08eb",
   "metadata": {},
   "outputs": [],
   "source": [
    "def test8(a,b,c,d,e):\n",
    "    pass"
   ]
  },
  {
   "cell_type": "code",
   "execution_count": 51,
   "id": "d3a7b284-233c-4e9e-b8b5-8e884d5728ed",
   "metadata": {},
   "outputs": [],
   "source": [
    "test8(1,2,3,4,5)"
   ]
  },
  {
   "cell_type": "code",
   "execution_count": 54,
   "id": "66aa42c6-321b-45b6-b2a0-f3f526ef324b",
   "metadata": {},
   "outputs": [],
   "source": [
    "def test9(*args):\n",
    "    return args      #can take any number of arguments and return"
   ]
  },
  {
   "cell_type": "code",
   "execution_count": 53,
   "id": "1282d31a-a009-431d-80c9-ab3c88eca4b6",
   "metadata": {},
   "outputs": [
    {
     "data": {
      "text/plain": [
       "(12, 3, 22, 34, 2, 413)"
      ]
     },
     "execution_count": 53,
     "metadata": {},
     "output_type": "execute_result"
    }
   ],
   "source": [
    "test9(12,3,22,34,2,413)"
   ]
  },
  {
   "cell_type": "code",
   "execution_count": 60,
   "id": "0c227902-6d72-4e15-a904-49d56f93e243",
   "metadata": {},
   "outputs": [],
   "source": [
    "def test10(*args, a):\n",
    "    return args,a"
   ]
  },
  {
   "cell_type": "code",
   "execution_count": 61,
   "id": "98bfc753-96b0-468e-9525-b4458b38160e",
   "metadata": {},
   "outputs": [
    {
     "data": {
      "text/plain": [
       "((1, 2, 3, 4), 'sudh')"
      ]
     },
     "execution_count": 61,
     "metadata": {},
     "output_type": "execute_result"
    }
   ],
   "source": [
    "test10(1,2,3,4,a='sudh')"
   ]
  },
  {
   "cell_type": "code",
   "execution_count": 63,
   "id": "eec9a0f9-275e-457c-985d-fcd9e9a06c13",
   "metadata": {},
   "outputs": [],
   "source": [
    "def test11(*args):\n",
    "    l=[]\n",
    "    for i in args:\n",
    "        if type(i)==list:\n",
    "            l.append(i)\n",
    "    return l"
   ]
  },
  {
   "cell_type": "code",
   "execution_count": 65,
   "id": "d3031113-d2c5-44b9-8e95-7e86c03488c1",
   "metadata": {},
   "outputs": [
    {
     "data": {
      "text/plain": [
       "[[1, 2, 3, 4]]"
      ]
     },
     "execution_count": 65,
     "metadata": {},
     "output_type": "execute_result"
    }
   ],
   "source": [
    "test11(1,2,3,[1,2,3,4],(1,2,3,4),\"sudh\")"
   ]
  },
  {
   "cell_type": "code",
   "execution_count": 67,
   "id": "024b029b-a0ac-4044-8921-9ca42badff1f",
   "metadata": {},
   "outputs": [],
   "source": [
    "def test12(**kwargs):\n",
    "    return kwargs\n",
    "\n",
    "#DICTIONARY WITH N KEYS, VALUES"
   ]
  },
  {
   "cell_type": "code",
   "execution_count": 69,
   "id": "d2078519-98d1-4193-83fb-c453fbc6a421",
   "metadata": {},
   "outputs": [
    {
     "data": {
      "text/plain": [
       "{'a': 34, 'b': 23, 'c': [1, 2, 3, 4], 'd': ('sudh', 'pwskills')}"
      ]
     },
     "execution_count": 69,
     "metadata": {},
     "output_type": "execute_result"
    }
   ],
   "source": [
    "test12(a=34,b=23,c=[1,2,3,4],d=('sudh','pwskills'))"
   ]
  },
  {
   "cell_type": "code",
   "execution_count": 73,
   "id": "3e1992c4-1468-43f8-bc06-cd8484c03e77",
   "metadata": {},
   "outputs": [],
   "source": [
    "def test13(**kwargs):\n",
    "    for i in kwargs.keys():\n",
    "        if type(kwargs[i])==list:\n",
    "            return i, kwargs[i]"
   ]
  },
  {
   "cell_type": "code",
   "execution_count": 74,
   "id": "b51808e9-9bcd-49fc-8f74-e89767e3b728",
   "metadata": {},
   "outputs": [
    {
     "data": {
      "text/plain": [
       "('c', [1, 2, 3, 4])"
      ]
     },
     "execution_count": 74,
     "metadata": {},
     "output_type": "execute_result"
    }
   ],
   "source": [
    "test13(a=34,b=23,c=[1,2,3,4],d=('sudh','pwskills'))"
   ]
  },
  {
   "cell_type": "code",
   "execution_count": 77,
   "id": "ba9d609f-98f0-411d-9c8c-c27829b39bb3",
   "metadata": {},
   "outputs": [],
   "source": [
    "def test14(*args,**kwargs):\n",
    "    return args,kwargs"
   ]
  },
  {
   "cell_type": "code",
   "execution_count": 78,
   "id": "f41b90e5-7845-4474-af0f-682bb91e2fa6",
   "metadata": {},
   "outputs": [
    {
     "data": {
      "text/plain": [
       "((2, 3, 4), {'a': 34, 'b': 90})"
      ]
     },
     "execution_count": 78,
     "metadata": {},
     "output_type": "execute_result"
    }
   ],
   "source": [
    "test14(2,3,4,a=34,b=90)"
   ]
  },
  {
   "cell_type": "code",
   "execution_count": 79,
   "id": "4c9173c2-4a4c-4228-9db7-b9532394d123",
   "metadata": {},
   "outputs": [
    {
     "data": {
      "text/plain": [
       "range(1, 10)"
      ]
     },
     "execution_count": 79,
     "metadata": {},
     "output_type": "execute_result"
    }
   ],
   "source": [
    "range(1,10)"
   ]
  },
  {
   "cell_type": "code",
   "execution_count": 80,
   "id": "909bb779-68a0-41a6-9508-693ba3f3f404",
   "metadata": {},
   "outputs": [],
   "source": [
    "def test15(a):\n",
    "    n=[]\n",
    "    for i in a:\n",
    "        if type(i)==int:\n",
    "            n.append(i)\n",
    "    return n\n"
   ]
  },
  {
   "cell_type": "code",
   "execution_count": 81,
   "id": "d224b787-7dd6-403e-b2ff-59f6841e424e",
   "metadata": {},
   "outputs": [
    {
     "data": {
      "text/plain": [
       "[1, 2, 3, 4, 5]"
      ]
     },
     "execution_count": 81,
     "metadata": {},
     "output_type": "execute_result"
    }
   ],
   "source": [
    "test15(l)"
   ]
  },
  {
   "cell_type": "code",
   "execution_count": 83,
   "id": "453f225b-be43-4a34-b0bc-5a5d5eb5a304",
   "metadata": {},
   "outputs": [
    {
     "name": "stdout",
     "output_type": "stream",
     "text": [
      "1\n",
      "2\n",
      "3\n",
      "4\n",
      "5\n",
      "6\n",
      "7\n",
      "8\n",
      "9\n"
     ]
    }
   ],
   "source": [
    "for i in range(1,10):\n",
    "    print(i)\n",
    "    "
   ]
  },
  {
   "cell_type": "code",
   "execution_count": 86,
   "id": "31b0b226-43ef-4679-8dfe-861de909c588",
   "metadata": {},
   "outputs": [],
   "source": [
    "#FIBONACCI 0,1,1,2,3,5,8,13,21\n",
    "def test_fib(n):\n",
    "    a,b=0,1\n",
    "    for i in range(n):\n",
    "        yield a\n",
    "        a,b=b,a+b"
   ]
  },
  {
   "cell_type": "code",
   "execution_count": 87,
   "id": "d4744b6e-bf4b-4cf8-ae90-c4ff53a67336",
   "metadata": {},
   "outputs": [
    {
     "data": {
      "text/plain": [
       "<generator object test_fib at 0x7ff8d2d3bd80>"
      ]
     },
     "execution_count": 87,
     "metadata": {},
     "output_type": "execute_result"
    }
   ],
   "source": [
    "test_fib(10)\n"
   ]
  },
  {
   "cell_type": "code",
   "execution_count": 88,
   "id": "3d7186ac-219d-408e-a346-1ad510847295",
   "metadata": {},
   "outputs": [
    {
     "name": "stdout",
     "output_type": "stream",
     "text": [
      "0\n",
      "1\n",
      "1\n",
      "2\n",
      "3\n",
      "5\n",
      "8\n",
      "13\n",
      "21\n",
      "34\n"
     ]
    }
   ],
   "source": [
    "for i in test_fib(10):\n",
    "    print(i)"
   ]
  },
  {
   "cell_type": "code",
   "execution_count": 89,
   "id": "6fbcb5ed-9ecd-473a-b193-101676291920",
   "metadata": {},
   "outputs": [],
   "source": [
    "# GENERATOR FUNCTIONS\n",
    "# one by one instead of all storing and giving all at once\n",
    "# same chronology as interpeter vs compiler\n",
    "# with the help of yield keyword"
   ]
  },
  {
   "cell_type": "code",
   "execution_count": 90,
   "id": "b824802e-8f55-438d-9ffa-921f59ab2892",
   "metadata": {},
   "outputs": [],
   "source": [
    "#The yield statement produces a generator object and can return multiple values to the caller without terminating the program,\n",
    "#whereas a return statement is used to return a value to the caller from within a function and it terminates the program"
   ]
  },
  {
   "cell_type": "code",
   "execution_count": 92,
   "id": "64f5019f-60f1-4144-b1ef-f7154a32859e",
   "metadata": {},
   "outputs": [],
   "source": [
    "#one - one data at a time instead of storing all at once and then showing\n",
    "# saves memory"
   ]
  },
  {
   "cell_type": "code",
   "execution_count": null,
   "id": "97860bbf-2056-4794-9578-0834751bd389",
   "metadata": {},
   "outputs": [],
   "source": []
  }
 ],
 "metadata": {
  "kernelspec": {
   "display_name": "Python 3 (ipykernel)",
   "language": "python",
   "name": "python3"
  },
  "language_info": {
   "codemirror_mode": {
    "name": "ipython",
    "version": 3
   },
   "file_extension": ".py",
   "mimetype": "text/x-python",
   "name": "python",
   "nbconvert_exporter": "python",
   "pygments_lexer": "ipython3",
   "version": "3.10.8"
  }
 },
 "nbformat": 4,
 "nbformat_minor": 5
}

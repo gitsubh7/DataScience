{
 "cells": [
  {
   "cell_type": "code",
   "execution_count": null,
   "id": "23725bf7-ea75-4d45-905c-ba853cc893b2",
   "metadata": {},
   "outputs": [],
   "source": [
    "# Q1. What are the characteristics of the tuples? Is tuple immutable\n",
    "'''These tuples are an ordered collection of elements of different data types.\n",
    "Furthermore, we represent them by writing the elements inside the parenthesis separated by commas. \n",
    "We can also define tuples as lists that we cannot change. Therefore, we can call them immutable tuples. '''"
   ]
  },
  {
   "cell_type": "code",
   "execution_count": 8,
   "id": "423d7e5e-57dc-4119-81cd-8f476e8b6ee3",
   "metadata": {},
   "outputs": [
    {
     "data": {
      "text/plain": [
       "1"
      ]
     },
     "execution_count": 8,
     "metadata": {},
     "output_type": "execute_result"
    }
   ],
   "source": [
    "#Q2. What are the two tuple methods in python? Give an example of each method. \n",
    "#Give a reason why tuples have only two in-built methods as compared to Lists.\n",
    "\n",
    "t=(1,2,3,4,'s','u','s')\n",
    "t.count('s')\n",
    "t.index(2)"
   ]
  },
  {
   "cell_type": "code",
   "execution_count": 1,
   "id": "f004ad9e-af22-4f7e-9579-0eed63963cbe",
   "metadata": {},
   "outputs": [
    {
     "name": "stdout",
     "output_type": "stream",
     "text": [
      "{1, 2, 3, 4}\n"
     ]
    }
   ],
   "source": [
    "#Q3. Which collection datatypes in python do not allow duplicate items? Write a code using a set to remove duplicates from the given list.\n",
    "List = [1, 1, 1, 2, 1, 3, 1, 4, 2, 1, 2, 2, 2, 3, 2, 4, 3, 1, 3, 2, 3, 3, 3, 4, 4, 1, 4, 2, 4, 3, 4, 4]\n",
    "s=set(List)\n",
    "print(s)"
   ]
  },
  {
   "cell_type": "code",
   "execution_count": 13,
   "id": "e272a5b0-7deb-4d1e-a2b2-84a48fa496cb",
   "metadata": {},
   "outputs": [
    {
     "name": "stdout",
     "output_type": "stream",
     "text": [
      "{1, 2, 3, 4}\n",
      "{1, 2, 3, 4, 5, 6, 7, 8}\n",
      "{1, 2, 3, 4, 5, 6, 7, 8}\n"
     ]
    }
   ],
   "source": [
    "#Q4. Explain the difference between the union() and update() methods for a set. Give an example of each method.\n",
    "s1={1,2,3,4}\n",
    "s2={5,6,7,8}\n",
    "s1.union(s2) \n",
    "print(s1)\n",
    "print(a)\n",
    "s1.update(s2)   #INPLACE OPERATION\n",
    "print(s1)"
   ]
  },
  {
   "cell_type": "code",
   "execution_count": null,
   "id": "228a7f91-c2f9-4c04-9ed5-9987d5c7b9c9",
   "metadata": {},
   "outputs": [],
   "source": [
    "#Q5. What is a dictionary? Give an example. Also, state whether a dictionary is ordered or unordered.\n",
    "'''Dictionaries are used to store data values in key:value pairs.\n",
    "A dictionary is a collection which is ordered'''"
   ]
  },
  {
   "cell_type": "code",
   "execution_count": 14,
   "id": "a5b635e7-27c5-460a-81b8-168321006f4e",
   "metadata": {},
   "outputs": [
    {
     "data": {
      "text/plain": [
       "{'key1': [1, 2, 34], 'key2': {'subh': 123, 'frank': 123}}"
      ]
     },
     "execution_count": 14,
     "metadata": {},
     "output_type": "execute_result"
    }
   ],
   "source": [
    "#Q6. Can we create a nested dictionary? If so, please give an example by creating a simple one-level nested dictionary.\n",
    "#yes\n",
    "d1={\"key1\":[1,2,34],'key2':{'subh':123,'frank':123}}\n",
    "d1"
   ]
  },
  {
   "cell_type": "code",
   "execution_count": 21,
   "id": "fef59dae-0e7e-4d80-a6d3-2890adbec622",
   "metadata": {},
   "outputs": [
    {
     "name": "stdout",
     "output_type": "stream",
     "text": [
      "{'language': 'Python', 'course': 'Data Science Masters', 'topics': ['Python', 'Machine Learning', 'Deep Learning']}\n"
     ]
    }
   ],
   "source": [
    "#Q7. Using setdefault() method, create key named topics in the given dictionary and also add the value of the key as this list \n",
    "dict1 = {'language' : 'Python', 'course': 'Data Science Masters'}\n",
    "l=['Python', 'Machine Learning','Deep Learning']\n",
    "x=dict1.setdefault('topics',l) \n",
    "print(dict1)"
   ]
  },
  {
   "cell_type": "code",
   "execution_count": 22,
   "id": "76871b8f-386c-4d1e-8176-0da8357e3363",
   "metadata": {},
   "outputs": [
    {
     "data": {
      "text/plain": [
       "dict_values(['Cricket', ['India', 'Australia', 'England', 'South Africa', 'Sri Lanka', 'New Zealand']])"
      ]
     },
     "execution_count": 22,
     "metadata": {},
     "output_type": "execute_result"
    }
   ],
   "source": [
    "#Q8. What are the three view objects in dictionaries? Use the three in-built methods in python to display these three view objects for the given dictionary.\n",
    "\n",
    "dict2 = {'Sport': 'Cricket' , 'Teams': ['India', 'Australia', 'England', 'South Africa', 'Sri Lanka', 'New Zealand']}\n",
    "dict2.values()"
   ]
  },
  {
   "cell_type": "code",
   "execution_count": 24,
   "id": "3eb6dc70-7fca-4cbc-b7e6-d9a73c4bd9e3",
   "metadata": {},
   "outputs": [
    {
     "data": {
      "text/plain": [
       "dict_items([('Sport', 'Cricket'), ('Teams', ['India', 'Australia', 'England', 'South Africa', 'Sri Lanka', 'New Zealand'])])"
      ]
     },
     "execution_count": 24,
     "metadata": {},
     "output_type": "execute_result"
    }
   ],
   "source": [
    "dict2.items()"
   ]
  },
  {
   "cell_type": "code",
   "execution_count": 26,
   "id": "170f0cac-3955-487b-bdec-d1cf5b185eee",
   "metadata": {},
   "outputs": [
    {
     "data": {
      "text/plain": [
       "dict_keys(['Sport', 'Teams'])"
      ]
     },
     "execution_count": 26,
     "metadata": {},
     "output_type": "execute_result"
    }
   ],
   "source": [
    "dict2.keys()"
   ]
  },
  {
   "cell_type": "code",
   "execution_count": null,
   "id": "83deed63-abcf-462a-a121-dbc7759616b1",
   "metadata": {},
   "outputs": [],
   "source": []
  }
 ],
 "metadata": {
  "kernelspec": {
   "display_name": "Python 3 (ipykernel)",
   "language": "python",
   "name": "python3"
  },
  "language_info": {
   "codemirror_mode": {
    "name": "ipython",
    "version": 3
   },
   "file_extension": ".py",
   "mimetype": "text/x-python",
   "name": "python",
   "nbconvert_exporter": "python",
   "pygments_lexer": "ipython3",
   "version": "3.10.8"
  }
 },
 "nbformat": 4,
 "nbformat_minor": 5
}

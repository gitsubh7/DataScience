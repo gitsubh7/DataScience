{
 "cells": [
  {
   "cell_type": "code",
   "execution_count": 1,
   "id": "9bfc3ac2-7a72-4e63-b7ae-48ff8a47d12c",
   "metadata": {},
   "outputs": [
    {
     "ename": "ValueError",
     "evalue": "invalid literal for int() with base 10: 'a'",
     "output_type": "error",
     "traceback": [
      "\u001b[0;31m---------------------------------------------------------------------------\u001b[0m",
      "\u001b[0;31mValueError\u001b[0m                                Traceback (most recent call last)",
      "Cell \u001b[0;32mIn[1], line 1\u001b[0m\n\u001b[0;32m----> 1\u001b[0m \u001b[38;5;28;43mint\u001b[39;49m\u001b[43m(\u001b[49m\u001b[38;5;124;43m'\u001b[39;49m\u001b[38;5;124;43ma\u001b[39;49m\u001b[38;5;124;43m'\u001b[39;49m\u001b[43m)\u001b[49m\n",
      "\u001b[0;31mValueError\u001b[0m: invalid literal for int() with base 10: 'a'"
     ]
    }
   ],
   "source": [
    "int('a')"
   ]
  },
  {
   "cell_type": "code",
   "execution_count": 2,
   "id": "49de4c0a-1d8d-4ee6-9e9f-c1648acc2b29",
   "metadata": {},
   "outputs": [
    {
     "name": "stdout",
     "output_type": "stream",
     "text": [
      "MY AGE IS: 30\n"
     ]
    }
   ],
   "source": [
    "age=30\n",
    "print(\"MY AGE IS:\",age)"
   ]
  },
  {
   "cell_type": "code",
   "execution_count": 3,
   "id": "a70f00c1-df2d-4f2c-9652-fb1ae606d9a5",
   "metadata": {},
   "outputs": [
    {
     "name": "stdout",
     "output_type": "stream",
     "text": [
      "My age is :30\n"
     ]
    }
   ],
   "source": [
    "##f string, formatting\n",
    "print(f\"My age is :{age}\")"
   ]
  },
  {
   "cell_type": "code",
   "execution_count": null,
   "id": "319a5d21-be62-4757-a88c-7bf76bf323c8",
   "metadata": {},
   "outputs": [],
   "source": []
  },
  {
   "cell_type": "code",
   "execution_count": 6,
   "id": "c5a0614d-2db6-4966-a7e1-645eee29df94",
   "metadata": {},
   "outputs": [
    {
     "name": "stdout",
     "output_type": "stream",
     "text": [
      "MY name IS Krish and age is 32\n"
     ]
    }
   ],
   "source": [
    "##format()\n",
    "name=\"Krish\"\n",
    "age=32\n",
    "print(\"MY name IS {} and age is {}\".format(name,age))"
   ]
  },
  {
   "cell_type": "code",
   "execution_count": null,
   "id": "f3fd4a13-74f8-4496-8ba8-c5b6952df412",
   "metadata": {
    "tags": []
   },
   "outputs": [],
   "source": [
    "print(\"MY name IS {} and age is {}\".format(age,name))"
   ]
  },
  {
   "cell_type": "code",
   "execution_count": 9,
   "id": "9ba79b22-13ec-4a5f-bfe8-13682c54e8a4",
   "metadata": {},
   "outputs": [
    {
     "name": "stdout",
     "output_type": "stream",
     "text": [
      "My name is Krish and age is 32\n"
     ]
    }
   ],
   "source": [
    "##placeholder\n",
    "print(\"My name is {firstname} and age is {firstage}\".format(firstname=name,firstage=age))"
   ]
  },
  {
   "cell_type": "code",
   "execution_count": 10,
   "id": "8cae5a93-e5c8-4e49-ad01-5e20eb77d77b",
   "metadata": {},
   "outputs": [
    {
     "name": "stdout",
     "output_type": "stream",
     "text": [
      "My Name is: Abdul Subhan aged 18 and completed my degree: B.Tech\n"
     ]
    }
   ],
   "source": [
    "name=\"Abdul Subhan\"\n",
    "age=18\n",
    "deg='B.Tech'\n",
    "print(\"My Name is: {} aged {} and completed my degree: {}\".format(name,age,deg))"
   ]
  },
  {
   "cell_type": "code",
   "execution_count": 11,
   "id": "e57fd90f-3b46-4b31-a6fd-17bf30e44dd0",
   "metadata": {},
   "outputs": [
    {
     "name": "stdout",
     "output_type": "stream",
     "text": [
      "My name is Abdul Subhan, age is 18 and completed my degree B.Tech\n"
     ]
    }
   ],
   "source": [
    "print(f\"My name is {name}, age is {age} and completed my degree {deg}\")"
   ]
  },
  {
   "cell_type": "markdown",
   "id": "78610a33-e2df-465d-ba6b-7f46ae3dfc63",
   "metadata": {},
   "source": [
    "##CONTROL FLOW"
   ]
  },
  {
   "cell_type": "code",
   "execution_count": 12,
   "id": "acf19ebf-e209-4075-94f6-ffe6fe589e4a",
   "metadata": {},
   "outputs": [
    {
     "name": "stdout",
     "output_type": "stream",
     "text": [
      "YOU ARE ELIGIBLE TO VOTE\n"
     ]
    }
   ],
   "source": [
    "#DECISION MAKING STATEMENTS\n",
    "age=18\n",
    "if age>=18:\n",
    "    print(\"YOU ARE ELIGIBLE TO VOTE\")"
   ]
  },
  {
   "cell_type": "code",
   "execution_count": 13,
   "id": "af862ed4-704e-4251-862e-c78e0ec1965d",
   "metadata": {},
   "outputs": [
    {
     "data": {
      "text/plain": [
       "True"
      ]
     },
     "execution_count": 13,
     "metadata": {},
     "output_type": "execute_result"
    }
   ],
   "source": [
    "17<18"
   ]
  },
  {
   "cell_type": "code",
   "execution_count": 16,
   "id": "4d2413e3-933b-4822-892e-9a8feb6aeea5",
   "metadata": {},
   "outputs": [
    {
     "name": "stdin",
     "output_type": "stream",
     "text": [
      "Enter the name subhan\n",
      "Enter ur age 18\n"
     ]
    }
   ],
   "source": [
    "x=input(\"Enter the name\")\n",
    "age=int(input(\"Enter ur age\"))"
   ]
  },
  {
   "cell_type": "code",
   "execution_count": 17,
   "id": "e892996a-8026-4b6f-8fd6-ce9ea08e0169",
   "metadata": {},
   "outputs": [
    {
     "data": {
      "text/plain": [
       "'Abdul Subhan'"
      ]
     },
     "execution_count": 17,
     "metadata": {},
     "output_type": "execute_result"
    }
   ],
   "source": [
    "name\n"
   ]
  },
  {
   "cell_type": "code",
   "execution_count": 18,
   "id": "08a8ccb4-2408-49ba-b3fe-11a2920aaf74",
   "metadata": {},
   "outputs": [
    {
     "data": {
      "text/plain": [
       "'subhan'"
      ]
     },
     "execution_count": 18,
     "metadata": {},
     "output_type": "execute_result"
    }
   ],
   "source": [
    "x"
   ]
  },
  {
   "cell_type": "code",
   "execution_count": 23,
   "id": "8d63782c-3e91-42a1-9c22-0030a8a7f956",
   "metadata": {},
   "outputs": [
    {
     "name": "stdin",
     "output_type": "stream",
     "text": [
      "Enter the age of the user 11\n"
     ]
    },
    {
     "name": "stdout",
     "output_type": "stream",
     "text": [
      "THANKYOU WE WILL LET U KNOW\n"
     ]
    }
   ],
   "source": [
    "x=int(input(\"Enter the age of the user\"))\n",
    "if x>=18 and x <=32:\n",
    "    print(\"young bloood ho\")\n",
    "else: \n",
    "    print(\"THANKYOU WE WILL LET U KNOW\")"
   ]
  },
  {
   "cell_type": "code",
   "execution_count": 26,
   "id": "89d6aaa0-1935-40a7-9dfc-947b4357bcfb",
   "metadata": {},
   "outputs": [
    {
     "name": "stdin",
     "output_type": "stream",
     "text": [
      "Enter the price of the product 230\n"
     ]
    },
    {
     "name": "stdout",
     "output_type": "stream",
     "text": [
      "The price of the product after the discount is 161.0\n"
     ]
    }
   ],
   "source": [
    "pp=int(input(\"Enter the price of the product\"))\n",
    "if pp>1000:\n",
    "    print(\"The price of the product after the discount is {}\".format(pp*0.8))\n",
    "else:\n",
    "    print(\"The price of the product after the discount is {}\".format(pp*0.7))"
   ]
  },
  {
   "cell_type": "code",
   "execution_count": 28,
   "id": "834b4db6-f634-4903-a2e3-95dda65ba3eb",
   "metadata": {},
   "outputs": [
    {
     "name": "stdout",
     "output_type": "stream",
     "text": [
      "25\n",
      "26\n",
      "27\n",
      "28\n",
      "29\n",
      "30\n",
      "31\n",
      "32\n",
      "33\n",
      "34\n",
      "35\n",
      "36\n",
      "37\n",
      "38\n",
      "39\n",
      "40\n",
      "41\n",
      "42\n",
      "43\n",
      "44\n",
      "45\n",
      "46\n",
      "47\n",
      "48\n",
      "49\n",
      "50\n",
      "51\n",
      "52\n",
      "53\n",
      "54\n",
      "55\n",
      "56\n",
      "57\n",
      "58\n",
      "59\n",
      "60\n",
      "RETIREMENT TIME\n"
     ]
    }
   ],
   "source": [
    "#while loop\n",
    "joining_age=25\n",
    "i=1\n",
    "while joining_age<=60:\n",
    "    print(joining_age)\n",
    "    joining_age=joining_age+1\n",
    "else:\n",
    "    print(\"RETIREMENT TIME\")\n",
    "    \n"
   ]
  },
  {
   "cell_type": "code",
   "execution_count": 29,
   "id": "1898aa2b-70d2-435e-8eda-4775b9175f12",
   "metadata": {},
   "outputs": [
    {
     "name": "stdout",
     "output_type": "stream",
     "text": [
      "1000\n",
      "900\n",
      "800\n",
      "700\n",
      "600\n",
      "500\n",
      "400\n",
      "300\n",
      "200\n",
      "100\n",
      "PUT MORE MONEY BACK\n"
     ]
    }
   ],
   "source": [
    "total_amount=1000\n",
    "while total_amount !=0:\n",
    "    print(total_amount)\n",
    "    total_amount=total_amount-100\n",
    "else:\n",
    "    print(\"PUT MORE MONEY BACK\")\n",
    "    "
   ]
  },
  {
   "cell_type": "markdown",
   "id": "71b36aa4-fa84-47e5-b748-0779e6160b31",
   "metadata": {},
   "source": [
    "#for loop\n"
   ]
  },
  {
   "cell_type": "code",
   "execution_count": 30,
   "id": "715e984d-cc5c-4c26-921f-bc03e79bf246",
   "metadata": {},
   "outputs": [
    {
     "data": {
      "text/plain": [
       "list"
      ]
     },
     "execution_count": 30,
     "metadata": {},
     "output_type": "execute_result"
    }
   ],
   "source": [
    "lst=[\"KRISH\",1,2,3,4,\"apple\",\"banana\"]\n",
    "type(lst)\n"
   ]
  },
  {
   "cell_type": "code",
   "execution_count": 31,
   "id": "5fe71343-51d3-44b2-8023-c169e6dede0e",
   "metadata": {},
   "outputs": [
    {
     "data": {
      "text/plain": [
       "'KRISH'"
      ]
     },
     "execution_count": 31,
     "metadata": {},
     "output_type": "execute_result"
    }
   ],
   "source": [
    "lst[0]"
   ]
  },
  {
   "cell_type": "code",
   "execution_count": 32,
   "id": "1bdd279b-1478-43f0-ada0-bb60cd18c3ef",
   "metadata": {},
   "outputs": [
    {
     "name": "stdout",
     "output_type": "stream",
     "text": [
      "KRISH\n",
      "1\n",
      "2\n",
      "3\n",
      "4\n",
      "apple\n",
      "banana\n"
     ]
    }
   ],
   "source": [
    "for x in lst:\n",
    "    print(x)\n",
    "    "
   ]
  },
  {
   "cell_type": "code",
   "execution_count": 36,
   "id": "ea03ae77-3c08-44d4-806d-6989eadaa300",
   "metadata": {},
   "outputs": [
    {
     "name": "stdout",
     "output_type": "stream",
     "text": [
      "MANGOCHERRYThe fruit is Cherry\n",
      "APPLEPAPAYABANANA"
     ]
    }
   ],
   "source": [
    "fruits_list=[\"MANGO\",\"CHERRY\",\"APPLE\",\"PAPAYA\",\"BANANA\"]\n",
    "for a in fruits_list:\n",
    "    print(a,end='')\n",
    "    \n",
    "    if a==\"CHERRY\":\n",
    "        print(\"The fruit is Cherry\")\n",
    "    "
   ]
  },
  {
   "cell_type": "code",
   "execution_count": 1,
   "id": "7890ff26-aaf7-42d3-ad4f-12fba6ca1aef",
   "metadata": {},
   "outputs": [
    {
     "name": "stdout",
     "output_type": "stream",
     "text": [
      "m\n",
      "a\n",
      "n\n",
      "g\n",
      "o\n"
     ]
    }
   ],
   "source": [
    "fruit='mango'\n",
    "for x in fruit:\n",
    "    print(x)"
   ]
  },
  {
   "cell_type": "code",
   "execution_count": 2,
   "id": "31dc778f-f540-4bc9-91ac-0fe63d53137c",
   "metadata": {},
   "outputs": [
    {
     "data": {
      "text/plain": [
       "'m'"
      ]
     },
     "execution_count": 2,
     "metadata": {},
     "output_type": "execute_result"
    }
   ],
   "source": [
    "fruit[0]"
   ]
  },
  {
   "cell_type": "code",
   "execution_count": 3,
   "id": "b686bb88-1a0b-413d-a308-1e42eaf265ed",
   "metadata": {},
   "outputs": [
    {
     "name": "stdout",
     "output_type": "stream",
     "text": [
      "mango"
     ]
    }
   ],
   "source": [
    "fruit='mango'\n",
    "for x in fruit:\n",
    "    print(x,end='')"
   ]
  },
  {
   "cell_type": "code",
   "execution_count": 9,
   "id": "4f899004-0b01-45f0-9502-891aed40b87f",
   "metadata": {},
   "outputs": [
    {
     "name": "stdout",
     "output_type": "stream",
     "text": [
      "*\n",
      "**\n",
      "***\n",
      "****\n",
      "*****\n",
      "******\n"
     ]
    }
   ],
   "source": [
    "###NESTED LOOPS\n",
    "n=7\n",
    "for i in range(1,n):\n",
    "    for j in range(1,i+1):\n",
    "        print('*',end='')\n",
    "    print(\"\\r\")\n",
    "    #\\n gives skips one line and stuff "
   ]
  },
  {
   "cell_type": "code",
   "execution_count": 5,
   "id": "39d23c64-006a-48be-aa26-95c7d3550a1d",
   "metadata": {},
   "outputs": [
    {
     "name": "stdout",
     "output_type": "stream",
     "text": [
      "1\n",
      "3\n",
      "5\n"
     ]
    }
   ],
   "source": [
    "for i in range(1,6,2):\n",
    "    print(i)"
   ]
  },
  {
   "cell_type": "code",
   "execution_count": null,
   "id": "a50b1e33-32ee-454c-b543-9d884021181f",
   "metadata": {},
   "outputs": [],
   "source": [
    "'''\n",
    "equilateral triangle\n",
    "'''\n"
   ]
  },
  {
   "cell_type": "code",
   "execution_count": 10,
   "id": "d670ad88-6053-4493-a66f-c36d932081cc",
   "metadata": {},
   "outputs": [],
   "source": [
    "#LOOP CONTROLS\n",
    "#BREAK CONTINUUE"
   ]
  },
  {
   "cell_type": "code",
   "execution_count": 12,
   "id": "a942c75c-728d-4d6b-a052-7b2c6db8dcbf",
   "metadata": {},
   "outputs": [
    {
     "name": "stdout",
     "output_type": "stream",
     "text": [
      "MANGO\n",
      "BANANA\n",
      "THE FRUIT IS APPLE\n",
      "APPLE\n",
      "PINEAPPLE\n"
     ]
    }
   ],
   "source": [
    "fruits_list=[\"MANGO\",\"BANANA\",\"APPLE\",\"PINEAPPLE\"]\n",
    "for x in fruits_list:\n",
    "    if x==\"APPLE\":\n",
    "        print(\"THE FRUIT IS APPLE\")\n",
    "    print(x)"
   ]
  },
  {
   "cell_type": "code",
   "execution_count": 13,
   "id": "54075af4-85e6-4f32-a4b0-dbf7eb0e22c4",
   "metadata": {},
   "outputs": [
    {
     "name": "stdout",
     "output_type": "stream",
     "text": [
      "MANGO\n",
      "BANANA\n",
      "THE FRUIT IS APPLE\n",
      "PINEAPPLE\n"
     ]
    }
   ],
   "source": [
    "fruits_list=[\"MANGO\",\"BANANA\",\"APPLE\",\"PINEAPPLE\"]\n",
    "for x in fruits_list:\n",
    "    if x==\"APPLE\":\n",
    "        print(\"THE FRUIT IS APPLE\")\n",
    "        continue\n",
    "    print(x)"
   ]
  },
  {
   "cell_type": "code",
   "execution_count": 14,
   "id": "5fa3cc41-b3ae-44e0-a158-26f5ada60d16",
   "metadata": {},
   "outputs": [
    {
     "name": "stdout",
     "output_type": "stream",
     "text": [
      "MANGO\n",
      "BANANA\n",
      "THE FRUIT IS APPLE\n",
      "APPLE\n",
      "PINEAPPLE\n"
     ]
    }
   ],
   "source": [
    "fruits_list=[\"MANGO\",\"BANANA\",\"APPLE\",\"PINEAPPLE\"]\n",
    "for x in fruits_list:\n",
    "    if x==\"APPLE\":\n",
    "        print(\"THE FRUIT IS APPLE\")\n",
    "        pass\n",
    "    print(x)"
   ]
  },
  {
   "cell_type": "code",
   "execution_count": 15,
   "id": "5722d7a3-8cab-40b5-bb37-325cff9e6884",
   "metadata": {},
   "outputs": [
    {
     "name": "stdout",
     "output_type": "stream",
     "text": [
      "MANGO\n",
      "BANANA\n",
      "THE FRUIT IS APPLE\n"
     ]
    }
   ],
   "source": [
    "fruits_list=[\"MANGO\",\"BANANA\",\"APPLE\",\"PINEAPPLE\"]\n",
    "for x in fruits_list:\n",
    "    if x==\"APPLE\":\n",
    "        print(\"THE FRUIT IS APPLE\")\n",
    "        break\n",
    "    print(x)"
   ]
  },
  {
   "cell_type": "code",
   "execution_count": 16,
   "id": "4d153337-38b6-429e-9e7e-3dfe8bf88fde",
   "metadata": {},
   "outputs": [
    {
     "name": "stdout",
     "output_type": "stream",
     "text": [
      "\n",
      "*\n",
      "**\n",
      "***\n",
      "****\n",
      "*****\n",
      "******\n"
     ]
    }
   ],
   "source": [
    "for i in range(n):\n",
    "    for j in range(1,i+1):\n",
    "        print('*',end='')\n",
    "    print(\"\\r\")"
   ]
  },
  {
   "cell_type": "code",
   "execution_count": 17,
   "id": "f40d9522-8fdd-41c5-a0d0-91a1bafa234e",
   "metadata": {},
   "outputs": [
    {
     "name": "stdout",
     "output_type": "stream",
     "text": [
      "*\n",
      "**\n",
      "***\n",
      "****\n",
      "*****\n",
      "******\n"
     ]
    }
   ],
   "source": [
    "for i in range(1,n):\n",
    "    for j in range(1,i+1):\n",
    "        print('*',end='')\n",
    "    print(\"\\r\")"
   ]
  },
  {
   "cell_type": "code",
   "execution_count": null,
   "id": "c9f3fdc8-b882-4f2c-9e41-e782f465579b",
   "metadata": {},
   "outputs": [],
   "source": []
  }
 ],
 "metadata": {
  "kernelspec": {
   "display_name": "Python 3 (ipykernel)",
   "language": "python",
   "name": "python3"
  },
  "language_info": {
   "codemirror_mode": {
    "name": "ipython",
    "version": 3
   },
   "file_extension": ".py",
   "mimetype": "text/x-python",
   "name": "python",
   "nbconvert_exporter": "python",
   "pygments_lexer": "ipython3",
   "version": "3.10.8"
  }
 },
 "nbformat": 4,
 "nbformat_minor": 5
}
